{
 "cells": [
  {
   "cell_type": "code",
   "execution_count": 1,
   "metadata": {},
   "outputs": [],
   "source": [
    "import os\n",
    "os.environ['CUDA_VISIBLE_DEVICES']='1'"
   ]
  },
  {
   "cell_type": "code",
   "execution_count": 2,
   "metadata": {},
   "outputs": [],
   "source": [
    "from pytorch_transformers import modeling_bert\n",
    "import numpy as np\n",
    "import torch\n",
    "from pytorch_transformers import BertTokenizer\n",
    "tokenizer = BertTokenizer.from_pretrained('bert-base-uncased')\n",
    "from tqdm import tqdm\n",
    "import pdb\n",
    "import torch.nn.functional as F\n",
    "from torch import optim\n",
    "import sys\n",
    "model_name = 'complete_PU_Bert'\n",
    "import time\n",
    "import imp\n",
    "import utils\n",
    "#from utils import batch_sent_loader\n",
    "import os\n",
    "from sklearn.metrics import roc_curve, auc\n",
    "import matplotlib.pyplot as plt\n",
    "from sklearn import metrics\n",
    "imp.reload(utils)\n",
    "hpara1 = utils.hpara()"
   ]
  },
  {
   "cell_type": "code",
   "execution_count": 3,
   "metadata": {},
   "outputs": [],
   "source": [
    "training_generator,validation_generator,dummy_generator = utils.load_data(ratio =10,clarity=True,stratify=True)\n",
    "tokenizer = utils._load_tf_tokenizer(vocab_file = '/gpfs/qlong/home/tzzhang/nlp_test/bert/mimic_based_models/vocab.txt')"
   ]
  },
  {
   "cell_type": "code",
   "execution_count": 4,
   "metadata": {},
   "outputs": [],
   "source": [
    "model_state_dict = \"/gpfs/qlong/home/tzzhang/bioBert/pretrained_bert_tf/biobert_pretrain_output_all_notes_150000/pytorch_model.bin\"\n",
    "config = modeling_bert.BertConfig.from_pretrained('bert-base-uncased')\n",
    "config.vocab_size = 28996\n",
    "config.num_hidden_layers =6\n",
    "model_word = modeling_bert.BertModel(config)"
   ]
  },
  {
   "cell_type": "code",
   "execution_count": 5,
   "metadata": {},
   "outputs": [
    {
     "ename": "TypeError",
     "evalue": "super(type, obj): obj must be an instance or subtype of type",
     "output_type": "error",
     "traceback": [
      "\u001b[0;31m---------------------------------------------------------------------------\u001b[0m",
      "\u001b[0;31mTypeError\u001b[0m                                 Traceback (most recent call last)",
      "\u001b[0;32m<ipython-input-5-172c08142d03>\u001b[0m in \u001b[0;36m<module>\u001b[0;34m\u001b[0m\n\u001b[1;32m      1\u001b[0m \u001b[0mconfig_doc\u001b[0m \u001b[0;34m=\u001b[0m \u001b[0mmodeling_bert\u001b[0m\u001b[0;34m.\u001b[0m\u001b[0mBertConfig\u001b[0m\u001b[0;34m.\u001b[0m\u001b[0mfrom_pretrained\u001b[0m\u001b[0;34m(\u001b[0m\u001b[0;34m'bert-base-uncased'\u001b[0m\u001b[0;34m)\u001b[0m\u001b[0;34m\u001b[0m\u001b[0m\n\u001b[1;32m      2\u001b[0m \u001b[0mconfig_doc\u001b[0m\u001b[0;34m.\u001b[0m\u001b[0mnum_hidden_layers\u001b[0m \u001b[0;34m=\u001b[0m\u001b[0;36m3\u001b[0m\u001b[0;34m\u001b[0m\u001b[0m\n\u001b[0;32m----> 3\u001b[0;31m \u001b[0mmodel_sent\u001b[0m \u001b[0;34m=\u001b[0m \u001b[0mmodeling_bert\u001b[0m\u001b[0;34m.\u001b[0m\u001b[0mBertModel_no_embedding\u001b[0m\u001b[0;34m(\u001b[0m\u001b[0mconfig_doc\u001b[0m\u001b[0;34m)\u001b[0m\u001b[0;34m\u001b[0m\u001b[0m\n\u001b[0m",
      "\u001b[0;32m/export/home/tzzhang/.pyenv/versions/3.5.2/lib/python3.5/site-packages/pytorch_transformers/modeling_bert.py\u001b[0m in \u001b[0;36m__init__\u001b[0;34m(self, config, use_advanced_loss)\u001b[0m\n\u001b[1;32m    755\u001b[0m         \u001b[0msuper\u001b[0m\u001b[0;34m(\u001b[0m\u001b[0mBertModel_no_embedding\u001b[0m\u001b[0;34m,\u001b[0m \u001b[0mself\u001b[0m\u001b[0;34m)\u001b[0m\u001b[0;34m.\u001b[0m\u001b[0m__init__\u001b[0m\u001b[0;34m(\u001b[0m\u001b[0mconfig\u001b[0m\u001b[0;34m)\u001b[0m\u001b[0;34m\u001b[0m\u001b[0m\n\u001b[1;32m    756\u001b[0m \u001b[0;34m\u001b[0m\u001b[0m\n\u001b[0;32m--> 757\u001b[0;31m         \u001b[0mself\u001b[0m\u001b[0;34m.\u001b[0m\u001b[0membeddings\u001b[0m \u001b[0;34m=\u001b[0m \u001b[0mBertEmbeddings_no_word\u001b[0m\u001b[0;34m(\u001b[0m\u001b[0mconfig\u001b[0m\u001b[0;34m)\u001b[0m\u001b[0;34m\u001b[0m\u001b[0m\n\u001b[0m\u001b[1;32m    758\u001b[0m         \u001b[0mself\u001b[0m\u001b[0;34m.\u001b[0m\u001b[0mencoder\u001b[0m \u001b[0;34m=\u001b[0m \u001b[0mBertEncoder\u001b[0m\u001b[0;34m(\u001b[0m\u001b[0mconfig\u001b[0m\u001b[0;34m)\u001b[0m\u001b[0;34m\u001b[0m\u001b[0m\n\u001b[1;32m    759\u001b[0m         \u001b[0mself\u001b[0m\u001b[0;34m.\u001b[0m\u001b[0mpooler\u001b[0m \u001b[0;34m=\u001b[0m \u001b[0mBertPooler\u001b[0m\u001b[0;34m(\u001b[0m\u001b[0mconfig\u001b[0m\u001b[0;34m)\u001b[0m\u001b[0;34m\u001b[0m\u001b[0m\n",
      "\u001b[0;32m/export/home/tzzhang/.pyenv/versions/3.5.2/lib/python3.5/site-packages/pytorch_transformers/modeling_bert.py\u001b[0m in \u001b[0;36m__init__\u001b[0;34m(self, config)\u001b[0m\n\u001b[1;32m    279\u001b[0m     \"\"\"\n\u001b[1;32m    280\u001b[0m     \u001b[0;32mdef\u001b[0m \u001b[0m__init__\u001b[0m\u001b[0;34m(\u001b[0m\u001b[0mself\u001b[0m\u001b[0;34m,\u001b[0m \u001b[0mconfig\u001b[0m\u001b[0;34m)\u001b[0m\u001b[0;34m:\u001b[0m\u001b[0;34m\u001b[0m\u001b[0m\n\u001b[0;32m--> 281\u001b[0;31m         \u001b[0msuper\u001b[0m\u001b[0;34m(\u001b[0m\u001b[0mBertEmbeddings\u001b[0m\u001b[0;34m,\u001b[0m \u001b[0mself\u001b[0m\u001b[0;34m)\u001b[0m\u001b[0;34m.\u001b[0m\u001b[0m__init__\u001b[0m\u001b[0;34m(\u001b[0m\u001b[0;34m)\u001b[0m\u001b[0;34m\u001b[0m\u001b[0m\n\u001b[0m\u001b[1;32m    282\u001b[0m         \u001b[0;31m#self.word_embeddings = nn.Embedding(config.vocab_size, config.hidden_size, padding_idx=0)\u001b[0m\u001b[0;34m\u001b[0m\u001b[0;34m\u001b[0m\u001b[0m\n\u001b[1;32m    283\u001b[0m         \u001b[0mself\u001b[0m\u001b[0;34m.\u001b[0m\u001b[0mposition_embeddings\u001b[0m \u001b[0;34m=\u001b[0m \u001b[0mnn\u001b[0m\u001b[0;34m.\u001b[0m\u001b[0mEmbedding\u001b[0m\u001b[0;34m(\u001b[0m\u001b[0mconfig\u001b[0m\u001b[0;34m.\u001b[0m\u001b[0mmax_position_embeddings\u001b[0m\u001b[0;34m,\u001b[0m \u001b[0mconfig\u001b[0m\u001b[0;34m.\u001b[0m\u001b[0mhidden_size\u001b[0m\u001b[0;34m)\u001b[0m\u001b[0;34m\u001b[0m\u001b[0m\n",
      "\u001b[0;31mTypeError\u001b[0m: super(type, obj): obj must be an instance or subtype of type"
     ]
    }
   ],
   "source": [
    "config_doc = modeling_bert.BertConfig.from_pretrained('bert-base-uncased')\n",
    "config_doc.num_hidden_layers =3\n",
    "model_sent = modeling_bert.BertModel_no_embedding(config_doc)"
   ]
  },
  {
   "cell_type": "code",
   "execution_count": 6,
   "metadata": {},
   "outputs": [
    {
     "ename": "NameError",
     "evalue": "name 'bert_config_file' is not defined",
     "output_type": "error",
     "traceback": [
      "\u001b[0;31m---------------------------------------------------------------------------\u001b[0m",
      "\u001b[0;31mNameError\u001b[0m                                 Traceback (most recent call last)",
      "\u001b[0;32m<ipython-input-6-62b7eef1b1c9>\u001b[0m in \u001b[0;36m<module>\u001b[0;34m\u001b[0m\n\u001b[0;32m----> 1\u001b[0;31m \u001b[0mconfig_doc\u001b[0m \u001b[0;34m=\u001b[0m \u001b[0mmodeling_bert\u001b[0m\u001b[0;34m.\u001b[0m\u001b[0mBertConfig\u001b[0m\u001b[0;34m.\u001b[0m\u001b[0mfrom_json_file\u001b[0m\u001b[0;34m(\u001b[0m\u001b[0mbert_config_file\u001b[0m\u001b[0;34m)\u001b[0m\u001b[0;34m\u001b[0m\u001b[0m\n\u001b[0m\u001b[1;32m      2\u001b[0m \u001b[0mconfig_doc\u001b[0m\u001b[0;34m.\u001b[0m\u001b[0mnum_hidden_layers\u001b[0m \u001b[0;34m=\u001b[0m\u001b[0;36m3\u001b[0m\u001b[0;34m\u001b[0m\u001b[0m\n\u001b[1;32m      3\u001b[0m \u001b[0mmodel_sent\u001b[0m \u001b[0;34m=\u001b[0m \u001b[0mmodeling_bert\u001b[0m\u001b[0;34m.\u001b[0m\u001b[0mBertModel_no_embedding\u001b[0m\u001b[0;34m(\u001b[0m\u001b[0mconfig_doc\u001b[0m\u001b[0;34m)\u001b[0m\u001b[0;34m\u001b[0m\u001b[0m\n",
      "\u001b[0;31mNameError\u001b[0m: name 'bert_config_file' is not defined"
     ]
    }
   ],
   "source": [
    "config_doc = modeling_bert.BertConfig.from_json_file(bert_config_file)\n",
    "config_doc.num_hidden_layers =3\n",
    "model_sent = modeling_bert.BertModel_no_embedding(config_doc)"
   ]
  },
  {
   "cell_type": "code",
   "execution_count": 4,
   "metadata": {},
   "outputs": [],
   "source": [
    "tf_src_dir = '/gpfs/qlong/home/tzzhang/nlp_test/bert/mimic_based_complete_model'\n",
    "bert_config_file = os.path.join(tf_src_dir,'bert_config.json')\n",
    "config = modeling_bert.BertConfig.from_json_file(bert_config_file)\n",
    "config.num_hidden_layers =6\n",
    "config.output_attentions = True\n",
    "model_word = modeling_bert.BertModel(config)"
   ]
  },
  {
   "cell_type": "code",
   "execution_count": 5,
   "metadata": {},
   "outputs": [
    {
     "data": {
      "text/plain": [
       "{\n",
       "  \"attention_probs_dropout_prob\": 0.1,\n",
       "  \"finetuning_task\": null,\n",
       "  \"hidden_act\": \"gelu\",\n",
       "  \"hidden_dropout_prob\": 0.1,\n",
       "  \"hidden_size\": 768,\n",
       "  \"initializer_range\": 0.02,\n",
       "  \"intermediate_size\": 3072,\n",
       "  \"layer_norm_eps\": 1e-12,\n",
       "  \"max_position_embeddings\": 512,\n",
       "  \"num_attention_heads\": 12,\n",
       "  \"num_hidden_layers\": 6,\n",
       "  \"num_labels\": 2,\n",
       "  \"output_attentions\": true,\n",
       "  \"output_hidden_states\": false,\n",
       "  \"torchscript\": false,\n",
       "  \"type_vocab_size\": 2,\n",
       "  \"vocab_size\": 29224\n",
       "}"
      ]
     },
     "execution_count": 5,
     "metadata": {},
     "output_type": "execute_result"
    }
   ],
   "source": [
    "config"
   ]
  },
  {
   "cell_type": "code",
   "execution_count": 6,
   "metadata": {},
   "outputs": [],
   "source": [
    "config_doc = modeling_bert.BertConfig.from_json_file(bert_config_file)\n",
    "config_doc.num_hidden_layers =3\n",
    "config_doc.output_attentions = True\n",
    "model_sent = modeling_bert.BertModel_no_embedding(config_doc,use_advanced_loss=True)"
   ]
  },
  {
   "cell_type": "code",
   "execution_count": 7,
   "metadata": {},
   "outputs": [
    {
     "name": "stdout",
     "output_type": "stream",
     "text": [
      "tensor([ 0.0088, -0.0361,  0.0033, -0.0155,  0.0115,  0.0071, -0.0358, -0.0025,\n",
      "         0.0053,  0.0209])\n"
     ]
    }
   ],
   "source": [
    "para = model_word.state_dict()\n",
    "att_layer_weight = para['encoder.layer.0.attention.self.query.weight']\n",
    "print(att_layer_weight[0,:10])"
   ]
  },
  {
   "cell_type": "code",
   "execution_count": 9,
   "metadata": {},
   "outputs": [
    {
     "ename": "RuntimeError",
     "evalue": "Error(s) in loading state_dict for BertModel_no_embedding:\n\tMissing key(s) in state_dict: \"embeddings.position_embeddings.weight\", \"embeddings.token_type_embeddings.weight\", \"embeddings.LayerNorm.weight\", \"embeddings.LayerNorm.bias\". ",
     "output_type": "error",
     "traceback": [
      "\u001b[0;31m---------------------------------------------------------------------------\u001b[0m",
      "\u001b[0;31mRuntimeError\u001b[0m                              Traceback (most recent call last)",
      "\u001b[0;32m<ipython-input-9-fb0ecabd702c>\u001b[0m in \u001b[0;36m<module>\u001b[0;34m\u001b[0m\n\u001b[1;32m      1\u001b[0m \u001b[0mexp_dir\u001b[0m \u001b[0;34m=\u001b[0m \u001b[0;34m'./exp/Complete_PU_Bert_2019_11_19_angular/'\u001b[0m\u001b[0;34m\u001b[0m\u001b[0m\n\u001b[1;32m      2\u001b[0m \u001b[0mmodel_word\u001b[0m\u001b[0;34m.\u001b[0m\u001b[0mload_state_dict\u001b[0m\u001b[0;34m(\u001b[0m\u001b[0mtorch\u001b[0m\u001b[0;34m.\u001b[0m\u001b[0mload\u001b[0m\u001b[0;34m(\u001b[0m\u001b[0mexp_dir\u001b[0m \u001b[0;34m+\u001b[0m \u001b[0;34m'save_word_15.bin'\u001b[0m\u001b[0;34m)\u001b[0m\u001b[0;34m)\u001b[0m\u001b[0;34m\u001b[0m\u001b[0m\n\u001b[0;32m----> 3\u001b[0;31m \u001b[0mmodel_sent\u001b[0m\u001b[0;34m.\u001b[0m\u001b[0mload_state_dict\u001b[0m\u001b[0;34m(\u001b[0m\u001b[0mtorch\u001b[0m\u001b[0;34m.\u001b[0m\u001b[0mload\u001b[0m\u001b[0;34m(\u001b[0m\u001b[0mexp_dir\u001b[0m \u001b[0;34m+\u001b[0m \u001b[0;34m'save_sent_15.bin'\u001b[0m\u001b[0;34m)\u001b[0m\u001b[0;34m)\u001b[0m\u001b[0;34m\u001b[0m\u001b[0m\n\u001b[0m",
      "\u001b[0;32m/export/home/tzzhang/.pyenv/versions/3.5.2/lib/python3.5/site-packages/torch/nn/modules/module.py\u001b[0m in \u001b[0;36mload_state_dict\u001b[0;34m(self, state_dict, strict)\u001b[0m\n\u001b[1;32m    775\u001b[0m         \u001b[0;32mif\u001b[0m \u001b[0mlen\u001b[0m\u001b[0;34m(\u001b[0m\u001b[0merror_msgs\u001b[0m\u001b[0;34m)\u001b[0m \u001b[0;34m>\u001b[0m \u001b[0;36m0\u001b[0m\u001b[0;34m:\u001b[0m\u001b[0;34m\u001b[0m\u001b[0m\n\u001b[1;32m    776\u001b[0m             raise RuntimeError('Error(s) in loading state_dict for {}:\\n\\t{}'.format(\n\u001b[0;32m--> 777\u001b[0;31m                                self.__class__.__name__, \"\\n\\t\".join(error_msgs)))\n\u001b[0m\u001b[1;32m    778\u001b[0m         \u001b[0;32mreturn\u001b[0m \u001b[0m_IncompatibleKeys\u001b[0m\u001b[0;34m(\u001b[0m\u001b[0mmissing_keys\u001b[0m\u001b[0;34m,\u001b[0m \u001b[0munexpected_keys\u001b[0m\u001b[0;34m)\u001b[0m\u001b[0;34m\u001b[0m\u001b[0m\n\u001b[1;32m    779\u001b[0m \u001b[0;34m\u001b[0m\u001b[0m\n",
      "\u001b[0;31mRuntimeError\u001b[0m: Error(s) in loading state_dict for BertModel_no_embedding:\n\tMissing key(s) in state_dict: \"embeddings.position_embeddings.weight\", \"embeddings.token_type_embeddings.weight\", \"embeddings.LayerNorm.weight\", \"embeddings.LayerNorm.bias\". "
     ]
    }
   ],
   "source": [
    "exp_dir = './exp/Complete_PU_Bert_2019_11_19_angular/'\n",
    "model_word.load_state_dict(torch.load(exp_dir + 'save_word_15.bin'))\n",
    "model_sent.load_state_dict(torch.load(exp_dir + 'save_sent_15.bin'))"
   ]
  },
  {
   "cell_type": "code",
   "execution_count": 8,
   "metadata": {},
   "outputs": [
    {
     "name": "stdout",
     "output_type": "stream",
     "text": [
      "tensor([ 0.0088, -0.0361,  0.0033, -0.0155,  0.0115,  0.0071, -0.0358, -0.0025,\n",
      "         0.0053,  0.0209])\n"
     ]
    }
   ],
   "source": [
    "para = model_word.state_dict()\n",
    "att_layer_weight = para['encoder.layer.0.attention.self.query.weight']\n",
    "print(att_layer_weight[0,:10])"
   ]
  },
  {
   "cell_type": "code",
   "execution_count": 9,
   "metadata": {
    "scrolled": true
   },
   "outputs": [
    {
     "data": {
      "text/plain": [
       "BertModel_no_embedding(\n",
       "  (embeddings): BertEmbeddings_no_word(\n",
       "    (position_embeddings): Embedding(512, 768)\n",
       "    (token_type_embeddings): Embedding(2, 768)\n",
       "    (LayerNorm): FusedLayerNorm(torch.Size([768]), eps=1e-12, elementwise_affine=True)\n",
       "    (dropout): Dropout(p=0.1)\n",
       "  )\n",
       "  (encoder): BertEncoder(\n",
       "    (layer): ModuleList(\n",
       "      (0): BertLayer(\n",
       "        (attention): BertAttention(\n",
       "          (self): BertSelfAttention(\n",
       "            (query): Linear(in_features=768, out_features=768, bias=True)\n",
       "            (key): Linear(in_features=768, out_features=768, bias=True)\n",
       "            (value): Linear(in_features=768, out_features=768, bias=True)\n",
       "            (dropout): Dropout(p=0.1)\n",
       "          )\n",
       "          (output): BertSelfOutput(\n",
       "            (dense): Linear(in_features=768, out_features=768, bias=True)\n",
       "            (LayerNorm): FusedLayerNorm(torch.Size([768]), eps=1e-12, elementwise_affine=True)\n",
       "            (dropout): Dropout(p=0.1)\n",
       "          )\n",
       "        )\n",
       "        (intermediate): BertIntermediate(\n",
       "          (dense): Linear(in_features=768, out_features=3072, bias=True)\n",
       "        )\n",
       "        (output): BertOutput(\n",
       "          (dense): Linear(in_features=3072, out_features=768, bias=True)\n",
       "          (LayerNorm): FusedLayerNorm(torch.Size([768]), eps=1e-12, elementwise_affine=True)\n",
       "          (dropout): Dropout(p=0.1)\n",
       "        )\n",
       "      )\n",
       "      (1): BertLayer(\n",
       "        (attention): BertAttention(\n",
       "          (self): BertSelfAttention(\n",
       "            (query): Linear(in_features=768, out_features=768, bias=True)\n",
       "            (key): Linear(in_features=768, out_features=768, bias=True)\n",
       "            (value): Linear(in_features=768, out_features=768, bias=True)\n",
       "            (dropout): Dropout(p=0.1)\n",
       "          )\n",
       "          (output): BertSelfOutput(\n",
       "            (dense): Linear(in_features=768, out_features=768, bias=True)\n",
       "            (LayerNorm): FusedLayerNorm(torch.Size([768]), eps=1e-12, elementwise_affine=True)\n",
       "            (dropout): Dropout(p=0.1)\n",
       "          )\n",
       "        )\n",
       "        (intermediate): BertIntermediate(\n",
       "          (dense): Linear(in_features=768, out_features=3072, bias=True)\n",
       "        )\n",
       "        (output): BertOutput(\n",
       "          (dense): Linear(in_features=3072, out_features=768, bias=True)\n",
       "          (LayerNorm): FusedLayerNorm(torch.Size([768]), eps=1e-12, elementwise_affine=True)\n",
       "          (dropout): Dropout(p=0.1)\n",
       "        )\n",
       "      )\n",
       "      (2): BertLayer(\n",
       "        (attention): BertAttention(\n",
       "          (self): BertSelfAttention(\n",
       "            (query): Linear(in_features=768, out_features=768, bias=True)\n",
       "            (key): Linear(in_features=768, out_features=768, bias=True)\n",
       "            (value): Linear(in_features=768, out_features=768, bias=True)\n",
       "            (dropout): Dropout(p=0.1)\n",
       "          )\n",
       "          (output): BertSelfOutput(\n",
       "            (dense): Linear(in_features=768, out_features=768, bias=True)\n",
       "            (LayerNorm): FusedLayerNorm(torch.Size([768]), eps=1e-12, elementwise_affine=True)\n",
       "            (dropout): Dropout(p=0.1)\n",
       "          )\n",
       "        )\n",
       "        (intermediate): BertIntermediate(\n",
       "          (dense): Linear(in_features=768, out_features=3072, bias=True)\n",
       "        )\n",
       "        (output): BertOutput(\n",
       "          (dense): Linear(in_features=3072, out_features=768, bias=True)\n",
       "          (LayerNorm): FusedLayerNorm(torch.Size([768]), eps=1e-12, elementwise_affine=True)\n",
       "          (dropout): Dropout(p=0.1)\n",
       "        )\n",
       "      )\n",
       "    )\n",
       "  )\n",
       "  (pooler): BertPooler(\n",
       "    (dense): Linear(in_features=768, out_features=768, bias=True)\n",
       "    (activation): Tanh()\n",
       "  )\n",
       "  (dropout): Dropout(p=0.1)\n",
       "  (classifier): Linear(in_features=768, out_features=2, bias=True)\n",
       "  (advanced_loss): AngularPenaltySMLoss(\n",
       "    (fc): Linear(in_features=768, out_features=2, bias=False)\n",
       "  )\n",
       ")"
      ]
     },
     "execution_count": 9,
     "metadata": {},
     "output_type": "execute_result"
    }
   ],
   "source": [
    "model_sent"
   ]
  },
  {
   "cell_type": "code",
   "execution_count": 10,
   "metadata": {},
   "outputs": [],
   "source": [
    "date = str(list(time.localtime())[0:3]).replace(', ','_')\n",
    "save_dir = './exp/'+model_name+'_'+date[1:-1]+'_eval_10ratio/'\n",
    "if not os.path.exists(save_dir):\n",
    "    cmd = 'mkdir -p ' + save_dir\n",
    "    os.system(cmd)"
   ]
  },
  {
   "cell_type": "code",
   "execution_count": 11,
   "metadata": {},
   "outputs": [],
   "source": [
    "import imp\n",
    "from sklearn.metrics import confusion_matrix\n",
    "imp.reload(utils)\n",
    "\n",
    "do_train = True\n",
    "do_test = True\n",
    "criterion = torch.nn.NLLLoss()\n",
    "log_file = open(save_dir+'log','a')\n",
    "optimizer = optim.Adamax\n",
    "word_optimizer = optimizer(model_word.parameters(), lr=0.00005)\n",
    "sent_optimizer = optimizer(model_sent.parameters(), lr=0.0003)\n",
    "max_epoch = 20\n",
    "log = 'Iter {}/{}, Loss={:.3f},accu={:.3f},time={:.3f}\\n'\n",
    "from tqdm import tqdm\n",
    "batch_size = 1\n",
    "accumulation_steps = 10\n",
    "max_sent_len = 64\n",
    "max_doc_len = 400\n",
    "cls_weight = torch.tensor(np.load('cls_weight.npy')).cuda()\n",
    "sep_weight = torch.tensor(np.load('sep_weight.npy')).cuda()"
   ]
  },
  {
   "cell_type": "code",
   "execution_count": 16,
   "metadata": {},
   "outputs": [
    {
     "data": {
      "text/plain": [
       "tensor([ 0.0103, -0.0027, -0.0020,  0.0270, -0.0065,  0.0016,  0.0928, -0.0734,\n",
       "        -0.0042,  0.0053], device='cuda:0')"
      ]
     },
     "execution_count": 16,
     "metadata": {},
     "output_type": "execute_result"
    }
   ],
   "source": [
    "cls_weight[:10]"
   ]
  },
  {
   "cell_type": "code",
   "execution_count": 17,
   "metadata": {},
   "outputs": [
    {
     "data": {
      "text/plain": [
       "tensor([-0.0010, -0.0002,  0.0179, -0.0179, -0.0112, -0.0063,  0.0103, -0.0313,\n",
       "         0.0174, -0.0204], device='cuda:0')"
      ]
     },
     "execution_count": 17,
     "metadata": {},
     "output_type": "execute_result"
    }
   ],
   "source": [
    "sep_weight[:10]"
   ]
  },
  {
   "cell_type": "code",
   "execution_count": 13,
   "metadata": {},
   "outputs": [],
   "source": [
    "model_word = model_word.cuda()\n",
    "model_sent = model_sent.cuda()"
   ]
  },
  {
   "cell_type": "code",
   "execution_count": 14,
   "metadata": {},
   "outputs": [
    {
     "data": {
      "text/plain": [
       "'./exp/complete_PU_Bert_2019_11_25_eval_10ratio/'"
      ]
     },
     "execution_count": 14,
     "metadata": {},
     "output_type": "execute_result"
    }
   ],
   "source": [
    "save_dir"
   ]
  },
  {
   "cell_type": "code",
   "execution_count": 18,
   "metadata": {
    "scrolled": true
   },
   "outputs": [
    {
     "name": "stdout",
     "output_type": "stream",
     "text": [
      "> <ipython-input-18-f8b967feb4fe>(56)<module>()\n",
      "-> y_list.append(label.item())\n",
      "(Pdb) input_tensors[0,:10]\n",
      "tensor([[ 0.0103, -0.0027, -0.0020,  ..., -0.0044, -0.0107, -0.0189],\n",
      "        [ 0.1964, -0.4996, -0.2333,  ...,  0.2441,  0.5689, -0.8298],\n",
      "        [ 0.1690, -0.6335, -0.3122,  ...,  0.4640,  0.4295, -0.8421],\n",
      "        ...,\n",
      "        [ 0.1680, -0.6038, -0.3888,  ...,  0.4722,  0.5481, -0.8317],\n",
      "        [ 0.2293, -0.6865, -0.3041,  ...,  0.4282,  0.5878, -0.8721],\n",
      "        [ 0.2511, -0.6399, -0.3429,  ...,  0.4716,  0.6130, -0.8510]],\n",
      "       device='cuda:0', grad_fn=<SliceBackward>)\n",
      "(Pdb) input_tensors[0,0,:10]\n",
      "tensor([ 0.0103, -0.0027, -0.0020,  0.0270, -0.0065,  0.0016,  0.0928, -0.0734,\n",
      "        -0.0042,  0.0053], device='cuda:0', grad_fn=<SliceBackward>)\n",
      "(Pdb) input_tensors[0,1,:10]\n",
      "tensor([ 0.1964, -0.4996, -0.2333, -0.5556, -0.3577,  0.0446,  0.8414, -0.2477,\n",
      "         0.4182, -0.4669], device='cuda:0', grad_fn=<SliceBackward>)\n",
      "(Pdb) input_tensors[0,end_ind,:10]\n",
      "tensor([-0.0010, -0.0002,  0.0179, -0.0179, -0.0112, -0.0063,  0.0103, -0.0313,\n",
      "         0.0174, -0.0204], device='cuda:0', grad_fn=<SliceBackward>)\n",
      "(Pdb) end_ind\n",
      "269\n",
      "(Pdb) exit\n"
     ]
    },
    {
     "ename": "BdbQuit",
     "evalue": "",
     "output_type": "error",
     "traceback": [
      "\u001b[0;31m---------------------------------------------------------------------------\u001b[0m",
      "\u001b[0;31mBdbQuit\u001b[0m                                   Traceback (most recent call last)",
      "\u001b[0;32m<ipython-input-18-f8b967feb4fe>\u001b[0m in \u001b[0;36m<module>\u001b[0;34m\u001b[0m\n\u001b[1;32m     54\u001b[0m     \u001b[0;32mif\u001b[0m \u001b[0mpredicted\u001b[0m\u001b[0;34m.\u001b[0m\u001b[0mitem\u001b[0m\u001b[0;34m(\u001b[0m\u001b[0;34m)\u001b[0m\u001b[0;34m:\u001b[0m\u001b[0;34m\u001b[0m\u001b[0m\n\u001b[1;32m     55\u001b[0m         \u001b[0mpdb\u001b[0m\u001b[0;34m.\u001b[0m\u001b[0mset_trace\u001b[0m\u001b[0;34m(\u001b[0m\u001b[0;34m)\u001b[0m\u001b[0;34m\u001b[0m\u001b[0m\n\u001b[0;32m---> 56\u001b[0;31m     \u001b[0my_list\u001b[0m\u001b[0;34m.\u001b[0m\u001b[0mappend\u001b[0m\u001b[0;34m(\u001b[0m\u001b[0mlabel\u001b[0m\u001b[0;34m.\u001b[0m\u001b[0mitem\u001b[0m\u001b[0;34m(\u001b[0m\u001b[0;34m)\u001b[0m\u001b[0;34m)\u001b[0m\u001b[0;34m\u001b[0m\u001b[0m\n\u001b[0m\u001b[1;32m     57\u001b[0m     \u001b[0msum_loss\u001b[0m \u001b[0;34m+=\u001b[0m \u001b[0mloss\u001b[0m\u001b[0;34m.\u001b[0m\u001b[0mitem\u001b[0m\u001b[0;34m(\u001b[0m\u001b[0;34m)\u001b[0m \u001b[0;34m*\u001b[0m \u001b[0mlen\u001b[0m\u001b[0;34m(\u001b[0m\u001b[0mlabel\u001b[0m\u001b[0;34m)\u001b[0m\u001b[0;34m\u001b[0m\u001b[0m\n\u001b[1;32m     58\u001b[0m     \u001b[0;31m#print(logits)\u001b[0m\u001b[0;34m\u001b[0m\u001b[0;34m\u001b[0m\u001b[0m\n",
      "\u001b[0;32m<ipython-input-18-f8b967feb4fe>\u001b[0m in \u001b[0;36m<module>\u001b[0;34m\u001b[0m\n\u001b[1;32m     54\u001b[0m     \u001b[0;32mif\u001b[0m \u001b[0mpredicted\u001b[0m\u001b[0;34m.\u001b[0m\u001b[0mitem\u001b[0m\u001b[0;34m(\u001b[0m\u001b[0;34m)\u001b[0m\u001b[0;34m:\u001b[0m\u001b[0;34m\u001b[0m\u001b[0m\n\u001b[1;32m     55\u001b[0m         \u001b[0mpdb\u001b[0m\u001b[0;34m.\u001b[0m\u001b[0mset_trace\u001b[0m\u001b[0;34m(\u001b[0m\u001b[0;34m)\u001b[0m\u001b[0;34m\u001b[0m\u001b[0m\n\u001b[0;32m---> 56\u001b[0;31m     \u001b[0my_list\u001b[0m\u001b[0;34m.\u001b[0m\u001b[0mappend\u001b[0m\u001b[0;34m(\u001b[0m\u001b[0mlabel\u001b[0m\u001b[0;34m.\u001b[0m\u001b[0mitem\u001b[0m\u001b[0;34m(\u001b[0m\u001b[0;34m)\u001b[0m\u001b[0;34m)\u001b[0m\u001b[0;34m\u001b[0m\u001b[0m\n\u001b[0m\u001b[1;32m     57\u001b[0m     \u001b[0msum_loss\u001b[0m \u001b[0;34m+=\u001b[0m \u001b[0mloss\u001b[0m\u001b[0;34m.\u001b[0m\u001b[0mitem\u001b[0m\u001b[0;34m(\u001b[0m\u001b[0;34m)\u001b[0m \u001b[0;34m*\u001b[0m \u001b[0mlen\u001b[0m\u001b[0;34m(\u001b[0m\u001b[0mlabel\u001b[0m\u001b[0;34m)\u001b[0m\u001b[0;34m\u001b[0m\u001b[0m\n\u001b[1;32m     58\u001b[0m     \u001b[0;31m#print(logits)\u001b[0m\u001b[0;34m\u001b[0m\u001b[0;34m\u001b[0m\u001b[0m\n",
      "\u001b[0;32m/export/home/tzzhang/.pyenv/versions/3.5.2/lib/python3.5/bdb.py\u001b[0m in \u001b[0;36mtrace_dispatch\u001b[0;34m(self, frame, event, arg)\u001b[0m\n\u001b[1;32m     46\u001b[0m             \u001b[0;32mreturn\u001b[0m \u001b[0;31m# None\u001b[0m\u001b[0;34m\u001b[0m\u001b[0m\n\u001b[1;32m     47\u001b[0m         \u001b[0;32mif\u001b[0m \u001b[0mevent\u001b[0m \u001b[0;34m==\u001b[0m \u001b[0;34m'line'\u001b[0m\u001b[0;34m:\u001b[0m\u001b[0;34m\u001b[0m\u001b[0m\n\u001b[0;32m---> 48\u001b[0;31m             \u001b[0;32mreturn\u001b[0m \u001b[0mself\u001b[0m\u001b[0;34m.\u001b[0m\u001b[0mdispatch_line\u001b[0m\u001b[0;34m(\u001b[0m\u001b[0mframe\u001b[0m\u001b[0;34m)\u001b[0m\u001b[0;34m\u001b[0m\u001b[0m\n\u001b[0m\u001b[1;32m     49\u001b[0m         \u001b[0;32mif\u001b[0m \u001b[0mevent\u001b[0m \u001b[0;34m==\u001b[0m \u001b[0;34m'call'\u001b[0m\u001b[0;34m:\u001b[0m\u001b[0;34m\u001b[0m\u001b[0m\n\u001b[1;32m     50\u001b[0m             \u001b[0;32mreturn\u001b[0m \u001b[0mself\u001b[0m\u001b[0;34m.\u001b[0m\u001b[0mdispatch_call\u001b[0m\u001b[0;34m(\u001b[0m\u001b[0mframe\u001b[0m\u001b[0;34m,\u001b[0m \u001b[0marg\u001b[0m\u001b[0;34m)\u001b[0m\u001b[0;34m\u001b[0m\u001b[0m\n",
      "\u001b[0;32m/export/home/tzzhang/.pyenv/versions/3.5.2/lib/python3.5/bdb.py\u001b[0m in \u001b[0;36mdispatch_line\u001b[0;34m(self, frame)\u001b[0m\n\u001b[1;32m     65\u001b[0m         \u001b[0;32mif\u001b[0m \u001b[0mself\u001b[0m\u001b[0;34m.\u001b[0m\u001b[0mstop_here\u001b[0m\u001b[0;34m(\u001b[0m\u001b[0mframe\u001b[0m\u001b[0;34m)\u001b[0m \u001b[0;32mor\u001b[0m \u001b[0mself\u001b[0m\u001b[0;34m.\u001b[0m\u001b[0mbreak_here\u001b[0m\u001b[0;34m(\u001b[0m\u001b[0mframe\u001b[0m\u001b[0;34m)\u001b[0m\u001b[0;34m:\u001b[0m\u001b[0;34m\u001b[0m\u001b[0m\n\u001b[1;32m     66\u001b[0m             \u001b[0mself\u001b[0m\u001b[0;34m.\u001b[0m\u001b[0muser_line\u001b[0m\u001b[0;34m(\u001b[0m\u001b[0mframe\u001b[0m\u001b[0;34m)\u001b[0m\u001b[0;34m\u001b[0m\u001b[0m\n\u001b[0;32m---> 67\u001b[0;31m             \u001b[0;32mif\u001b[0m \u001b[0mself\u001b[0m\u001b[0;34m.\u001b[0m\u001b[0mquitting\u001b[0m\u001b[0;34m:\u001b[0m \u001b[0;32mraise\u001b[0m \u001b[0mBdbQuit\u001b[0m\u001b[0;34m\u001b[0m\u001b[0m\n\u001b[0m\u001b[1;32m     68\u001b[0m         \u001b[0;32mreturn\u001b[0m \u001b[0mself\u001b[0m\u001b[0;34m.\u001b[0m\u001b[0mtrace_dispatch\u001b[0m\u001b[0;34m\u001b[0m\u001b[0m\n\u001b[1;32m     69\u001b[0m \u001b[0;34m\u001b[0m\u001b[0m\n",
      "\u001b[0;31mBdbQuit\u001b[0m: "
     ]
    }
   ],
   "source": [
    "start = time.time()\n",
    "model_sent.eval()\n",
    "model_word.eval()\n",
    "pred_list = []\n",
    "y_list = []\n",
    "y_hat = []\n",
    "\n",
    "correct = sum_loss =total_num = 0\n",
    "for doc_count,(doc,label) in enumerate(validation_generator):\n",
    "    total_num += len(label)\n",
    "    #doc, label = Variable(doc).to(device), Variable(label).to(device)#数据和标签\n",
    "    label = label.cuda()\n",
    "    batch_count=0\n",
    "    sent_num = 0\n",
    "    #print(len(doc))\n",
    "    input_tensors = torch.zeros([1,max_doc_len,config.hidden_size]).cuda()\n",
    "    # Add cls in sent level\n",
    "    input_tensors[0,0] = cls_weight\n",
    "    while batch_size * batch_count < len(doc) and batch_size * batch_count < max_doc_len:\n",
    "        batch_sent =utils.batch_sent_loader(doc,batch_size,batch_count,max_doc_len=max_doc_len)\n",
    "        cur_batch_size = len(batch_sent)\n",
    "        sent_num += cur_batch_size\n",
    "        input_ids = torch.zeros(cur_batch_size,max_sent_len).long().cuda()\n",
    "        input_mask = torch.ones(cur_batch_size,max_sent_len).long().cuda()\n",
    "        for i in range(len(batch_sent)):\n",
    "            tmp_ids,tmp_mask= utils.word_tokenize(batch_sent[i][0],max_sent_len,tokenizer)\n",
    "            input_ids[i,:] = torch.tensor(tmp_ids)\n",
    "            input_mask[i,:] = torch.tensor(tmp_mask)\n",
    "        _,tmp_input_tensors,_ = model_word(input_ids,attention_mask=input_mask)\n",
    "        #pdb.set_trace()\n",
    "        start_ind = batch_count*batch_size+1\n",
    "        end_ind = start_ind + cur_batch_size\n",
    "        input_tensors[0,start_ind:end_ind] = tmp_input_tensors\n",
    "        batch_count +=1\n",
    "\n",
    "    # -----------Add sep in sent matrix----------\n",
    "    if end_ind<max_doc_len:\n",
    "        input_tensors[0,end_ind] = sep_weight\n",
    "    else:\n",
    "        end_ind = max_doc_len-1\n",
    "        input_tensors[0,end_ind] = sep_weight\n",
    "        \n",
    "    sent_mask = [1]*(end_ind+1)\n",
    "    while len(sent_mask)<max_doc_len:\n",
    "        sent_mask.append(0)\n",
    "    sent_mask = torch.tensor(sent_mask).unsqueeze(0).cuda()\n",
    "    loss,proba,att_output = model_sent(input_tensors,label,attention_mask=sent_mask)\n",
    "    \n",
    "    pos_socre = np.exp(proba.cpu().detach().numpy())[0,1]\n",
    "    y_hat.append(pos_socre)\n",
    "    _,predicted = torch.max(proba,1)\n",
    "    #for making confusion matrix\n",
    "    pred_list.append(predicted.item())\n",
    "    if predicted.item():\n",
    "        pdb.set_trace()\n",
    "    y_list.append(label.item())\n",
    "    sum_loss += loss.item() * len(label)\n",
    "    #print(logits)\n",
    "    correct += (predicted == label).sum()\n",
    "accu = correct.item() / total_num\n",
    "to_print=log.format(0,0,sum_loss,accu,time.time() - start)\n",
    "to_print = 'Test ' + to_print\n",
    "print(to_print)\n",
    "print(confusion_matrix(y_list,pred_list))"
   ]
  },
  {
   "cell_type": "code",
   "execution_count": 13,
   "metadata": {},
   "outputs": [],
   "source": [
    "cls_weight = para['embeddings.word_embeddings.weight'][101].numpy()"
   ]
  },
  {
   "cell_type": "code",
   "execution_count": 13,
   "metadata": {},
   "outputs": [],
   "source": [
    "np.save('cls_weight.npy',cls_weight)"
   ]
  },
  {
   "cell_type": "code",
   "execution_count": 14,
   "metadata": {},
   "outputs": [],
   "source": [
    "sep_weight = para['embeddings.word_embeddings.weight'][102].numpy()\n",
    "np.save('sep_weight.npy',sep_weight)"
   ]
  },
  {
   "cell_type": "code",
   "execution_count": 16,
   "metadata": {},
   "outputs": [
    {
     "data": {
      "text/plain": [
       "tensor([[1, 1, 1, 1, 1, 1, 1, 1, 1, 1, 1, 1, 1, 1, 1, 1, 1, 1, 1, 1, 1, 1, 0, 0,\n",
       "         0, 0, 0, 0, 0, 0, 0, 0, 0, 0, 0, 0, 0, 0, 0, 0, 0, 0, 0, 0, 0, 0, 0, 0,\n",
       "         0, 0, 0, 0, 0, 0, 0, 0, 0, 0, 0, 0, 0, 0, 0, 0]], device='cuda:0')"
      ]
     },
     "execution_count": 16,
     "metadata": {},
     "output_type": "execute_result"
    }
   ],
   "source": [
    "input_mask"
   ]
  },
  {
   "cell_type": "code",
   "execution_count": 17,
   "metadata": {},
   "outputs": [
    {
     "data": {
      "text/plain": [
       "torch.Size([1, 400, 768])"
      ]
     },
     "execution_count": 17,
     "metadata": {},
     "output_type": "execute_result"
    }
   ],
   "source": [
    "np.shape(input_tensors)"
   ]
  },
  {
   "cell_type": "code",
   "execution_count": 18,
   "metadata": {},
   "outputs": [
    {
     "data": {
      "text/plain": [
       "400"
      ]
     },
     "execution_count": 18,
     "metadata": {},
     "output_type": "execute_result"
    }
   ],
   "source": [
    "input_tensors.size(1)"
   ]
  },
  {
   "cell_type": "code",
   "execution_count": 21,
   "metadata": {},
   "outputs": [
    {
     "data": {
      "text/plain": [
       "400"
      ]
     },
     "execution_count": 21,
     "metadata": {},
     "output_type": "execute_result"
    }
   ],
   "source": [
    "att_output2[0].shape[2]"
   ]
  },
  {
   "cell_type": "code",
   "execution_count": 20,
   "metadata": {},
   "outputs": [],
   "source": [
    "att_output2 = att_output[0]"
   ]
  },
  {
   "cell_type": "code",
   "execution_count": 25,
   "metadata": {},
   "outputs": [
    {
     "data": {
      "text/plain": [
       "3"
      ]
     },
     "execution_count": 25,
     "metadata": {},
     "output_type": "execute_result"
    }
   ],
   "source": [
    "len(att_output2)"
   ]
  },
  {
   "cell_type": "code",
   "execution_count": 25,
   "metadata": {},
   "outputs": [],
   "source": [
    "one_layer_att_heads = att_output[0][0]"
   ]
  },
  {
   "cell_type": "code",
   "execution_count": 22,
   "metadata": {},
   "outputs": [],
   "source": [
    "from scipy.special import softmax\n",
    "def radical_back_trace(att_heads):\n",
    "    seq_len = att_heads[0].shape[2]\n",
    "    layer_num = len(att_heads)\n",
    "    last_layer_portion = np.diag([1] * seq_len)\n",
    "    for layer in range(layer_num):\n",
    "        curr_layer_portion = np.zeros([seq_len,seq_len])\n",
    "        one_layer_att_heads = att_heads[layer][0]\n",
    "        sum_through_heads = torch.sum(one_layer_att_heads,0)\n",
    "        sum_through_heads = sum_through_heads.cpu().detach().numpy()\n",
    "        sum_through_heads = np.where(sum_through_heads > 0.001, sum_through_heads, sum_through_heads -1000)\n",
    "        #pdb.set_trace()\n",
    "        #prop_through_heads = sum_through_heads\n",
    "        prop_through_heads = softmax(sum_through_heads,axis=1)\n",
    "        curr_layer_portion = np.matmul(prop_through_heads, last_layer_portion)\n",
    "        last_layer_portion = curr_layer_portion    \n",
    "    return curr_layer_portion"
   ]
  },
  {
   "cell_type": "code",
   "execution_count": 23,
   "metadata": {
    "scrolled": true
   },
   "outputs": [],
   "source": [
    "from_stupid = radical_back_trace(att_output[0])"
   ]
  },
  {
   "cell_type": "code",
   "execution_count": 29,
   "metadata": {},
   "outputs": [
    {
     "data": {
      "text/plain": [
       "array([[0.00061771, 0.00062049, 0.0006255 , ..., 0.        , 0.        ,\n",
       "        0.        ],\n",
       "       [0.00061771, 0.00062049, 0.0006255 , ..., 0.        , 0.        ,\n",
       "        0.        ],\n",
       "       [0.00061771, 0.00062049, 0.0006255 , ..., 0.        , 0.        ,\n",
       "        0.        ],\n",
       "       ...,\n",
       "       [0.00540821, 0.00543258, 0.00547644, ..., 0.        , 0.        ,\n",
       "        0.        ],\n",
       "       [0.00097779, 0.0009822 , 0.00099013, ..., 0.        , 0.        ,\n",
       "        0.        ],\n",
       "       [0.00061771, 0.00062049, 0.0006255 , ..., 0.        , 0.        ,\n",
       "        0.        ]])"
      ]
     },
     "execution_count": 29,
     "metadata": {},
     "output_type": "execute_result"
    }
   ],
   "source": [
    "from_stupid"
   ]
  },
  {
   "cell_type": "code",
   "execution_count": 26,
   "metadata": {},
   "outputs": [],
   "source": [
    "from_smart = radical_back_trace(att_output[0])"
   ]
  },
  {
   "cell_type": "code",
   "execution_count": 27,
   "metadata": {},
   "outputs": [
    {
     "data": {
      "text/plain": [
       "(400, 400)"
      ]
     },
     "execution_count": 27,
     "metadata": {},
     "output_type": "execute_result"
    }
   ],
   "source": [
    "np.shape(from_smart)"
   ]
  },
  {
   "cell_type": "code",
   "execution_count": 28,
   "metadata": {},
   "outputs": [
    {
     "name": "stdout",
     "output_type": "stream",
     "text": [
      "0.9050189021728761\n",
      "0.9050189021728761\n",
      "0.9050189021728761\n",
      "0.9050189021728761\n",
      "0.9050189021728761\n",
      "0.9050189021728761\n",
      "0.9050189021728761\n",
      "0.9050189021728761\n",
      "0.9050189021728761\n",
      "0.9050189021728761\n",
      "0.9050189021728761\n",
      "0.9050189021728761\n",
      "0.9050189021728761\n",
      "0.9050189021728761\n",
      "0.9050189021728761\n",
      "0.9050189021728761\n",
      "0.9050189021728761\n",
      "0.9050189021728761\n",
      "0.9050189021728761\n",
      "0.9050189021728761\n",
      "0.9050189021728761\n",
      "0.9050189021728761\n",
      "0.9050189021728761\n",
      "0.9050189021728761\n",
      "0.9050189021728761\n",
      "0.9050189021728761\n",
      "0.9050189021728761\n",
      "0.9050189021728761\n",
      "0.9050189021728761\n",
      "0.9050189021728761\n",
      "0.9050189021728761\n",
      "0.9050189021728761\n",
      "0.9050189021728761\n",
      "0.9050189021728761\n",
      "0.9050189021728761\n",
      "0.9050189021728761\n",
      "0.9050189021728761\n",
      "0.9050189021728761\n",
      "0.9050189021728761\n",
      "0.9050189021728761\n",
      "0.016716480631953582\n",
      "0.9050189021728761\n",
      "0.9050189021728761\n",
      "0.9050189021728761\n",
      "0.9050189021728761\n",
      "0.9050189021728761\n",
      "0.9050189021728761\n",
      "0.9050189021728761\n",
      "0.9050189021728761\n",
      "0.9050189021728761\n",
      "0.9050189021728761\n",
      "0.9050189021728761\n",
      "0.9050189021728761\n",
      "0.9050189021728761\n",
      "0.9050189021728761\n",
      "0.9050189021728761\n",
      "0.9050189021728761\n",
      "0.9050189021728761\n",
      "0.9050189021728761\n",
      "0.9050189021728761\n",
      "0.9050189021728761\n",
      "0.9050189021728761\n",
      "0.9050189021728761\n",
      "0.9050189021728761\n",
      "0.9050189021728761\n",
      "0.9050189021728761\n",
      "0.9050189021728761\n",
      "0.9050189021728761\n",
      "0.9050189021728761\n",
      "0.9050189021728761\n",
      "0.9050189021728761\n",
      "0.9050189021728761\n",
      "0.9050189021728761\n",
      "0.9050189021728761\n",
      "0.9050189021728761\n",
      "0.9050189021728761\n",
      "0.9050189021728761\n",
      "0.9050189021728761\n",
      "0.9050189021728761\n",
      "0.9050189021728761\n",
      "0.9050189021728761\n",
      "0.9050189021728761\n",
      "0.9050189021728761\n",
      "0.9050189021728761\n",
      "0.9050189021728761\n",
      "0.9050189021728761\n",
      "0.9050189021728761\n",
      "0.9050189021728761\n",
      "0.9050189021728761\n",
      "0.9050189021728761\n",
      "0.9050189021728761\n",
      "0.9050189021728761\n",
      "0.9050189021728761\n",
      "0.9050189021728761\n",
      "0.9050189021728761\n",
      "0.9050189021728761\n",
      "0.9050189021728761\n",
      "0.9050189021728761\n",
      "0.9050189021728761\n",
      "0.9050189021728761\n",
      "0.9050189021728761\n",
      "0.9050189021728761\n",
      "0.9050189021728761\n",
      "0.9050189021728761\n",
      "0.9050189021728761\n",
      "0.9050189021728761\n",
      "0.9050189021728761\n",
      "0.9050189021728761\n",
      "0.9050189021728761\n",
      "0.9050189021728761\n",
      "0.9050189021728761\n",
      "0.9050189021728761\n",
      "0.9050189021728761\n",
      "0.9050189021728761\n",
      "0.9050189021728761\n",
      "0.9050189021728761\n",
      "0.9050189021728761\n",
      "0.9050189021728761\n",
      "0.9050189021728761\n",
      "0.9050189021728761\n",
      "0.9050189021728761\n",
      "0.9050189021728761\n",
      "0.9050189021728761\n",
      "0.9050189021728761\n",
      "0.9050189021728761\n",
      "0.9050189021728761\n",
      "0.9050189021728761\n",
      "0.9050189021728761\n",
      "0.9050189021728761\n",
      "0.9050189021728761\n",
      "0.9050189021728761\n",
      "0.9050189021728761\n",
      "0.9050189021728761\n",
      "0.9050189021728761\n",
      "0.9050189021728761\n",
      "0.9050189021728761\n",
      "0.9050189021728761\n",
      "0.9050189021728761\n",
      "0.9050189021728761\n",
      "0.9050189021728761\n",
      "0.9050189021728761\n",
      "0.9050189021728761\n",
      "0.9050189021728761\n",
      "0.9050189021728761\n",
      "0.9050189021728761\n",
      "0.9050189021728761\n",
      "0.9050189021728761\n",
      "0.903133459726736\n",
      "0.023597505388534026\n",
      "0.314065335206691\n",
      "0.016716181205275113\n",
      "0.02273752351361926\n",
      "0.13255774236492135\n",
      "0.027212764008409007\n",
      "0.8613371520107848\n",
      "0.016716377933506544\n",
      "0.9050189021728761\n",
      "0.9031951436837199\n",
      "0.022368014201018655\n",
      "0.02295094541588233\n",
      "0.5871055213144104\n",
      "0.8787493572589155\n",
      "0.9039834129968312\n",
      "0.8686746584109569\n",
      "0.016716138137914536\n",
      "0.1314757079958472\n",
      "0.9050189021728761\n",
      "0.02247383928784362\n",
      "0.016716353845247903\n",
      "0.01671622044968159\n",
      "0.01671616259360211\n",
      "0.03239124538242024\n",
      "0.022463239817679413\n",
      "0.1557355463244997\n",
      "0.022484548170929822\n",
      "0.022420040077243908\n",
      "0.02232760128695322\n",
      "0.037482474451471334\n",
      "0.02254795732398453\n",
      "0.022481618623124255\n",
      "0.12644650670826166\n",
      "0.022407553074797408\n",
      "0.896694204818803\n",
      "0.022392761061171537\n",
      "0.2938198858981753\n",
      "0.9050189021728761\n",
      "0.01671622112793477\n",
      "0.07464042882716795\n",
      "0.02249570366126857\n",
      "0.022345523036488298\n",
      "0.016716136248119923\n",
      "0.8340543693517277\n",
      "0.03401295859702557\n",
      "0.5785490230262658\n",
      "0.016716321712832067\n",
      "0.016716335396796452\n",
      "0.022331073670410716\n",
      "0.01671627072790758\n",
      "0.8681028824670098\n",
      "0.027350728078389282\n",
      "0.21868128889853874\n",
      "0.07020582588306645\n",
      "0.9050189021728761\n",
      "0.040320038174381616\n",
      "0.03743421956974118\n",
      "0.02297269639741863\n",
      "0.9009939240044483\n",
      "0.28486017925082824\n",
      "0.6274123022641648\n",
      "0.016716164875614538\n",
      "0.9019938283354081\n",
      "0.016716231250845807\n",
      "0.9050189021728761\n",
      "0.02299073061644187\n",
      "0.03258929318122117\n",
      "0.19360237425334823\n",
      "0.022386290135478135\n",
      "0.06070637503524216\n",
      "0.2573917872654279\n",
      "0.016716340447280098\n",
      "0.9034919570998956\n",
      "0.9035190141697106\n",
      "0.022335571446451496\n",
      "0.02560707950294665\n",
      "0.02246983406746388\n",
      "0.01671640181248911\n",
      "0.290992472247158\n",
      "0.03873112399411283\n",
      "0.9021120027884012\n",
      "0.05471058643549057\n",
      "0.02241265782453868\n",
      "0.016716416060275588\n",
      "0.2821325717241006\n",
      "0.7035148590272938\n",
      "0.016716185140104183\n",
      "0.030922618332913106\n",
      "0.8406121699197269\n",
      "0.02235400115092926\n",
      "0.016716219585581685\n",
      "0.03481107473853959\n",
      "0.024829035472368248\n",
      "0.022362995738990324\n",
      "0.9050189021728761\n",
      "0.03237783654514543\n",
      "0.01671621159938525\n",
      "0.7821644030671994\n",
      "0.02241968099033727\n",
      "0.022448748841058477\n",
      "0.01671621083898365\n",
      "0.01671625544394663\n",
      "0.9017962761629241\n",
      "0.022325900426660373\n",
      "0.016716498187309504\n",
      "0.9028080472530748\n",
      "0.7135407588299559\n",
      "0.9024194104638321\n",
      "0.02236807870848552\n",
      "0.022381548180838675\n",
      "0.16388179605176595\n",
      "0.07164606281364308\n",
      "0.8981363274636072\n",
      "0.1127405360517861\n",
      "0.022846323383355818\n",
      "0.022647700525687365\n",
      "0.7940828287107721\n",
      "0.033415867844868725\n",
      "0.9050189021728761\n",
      "0.056145033182985304\n",
      "0.05323505153918641\n",
      "0.7815967097838378\n",
      "0.02248897047351165\n",
      "0.9039157527286584\n",
      "0.9039030324348526\n",
      "0.060099546294508505\n",
      "0.02515826908839987\n",
      "0.016716248761276864\n",
      "0.016716342053969484\n",
      "0.022363420238467966\n",
      "0.016716317687537306\n",
      "0.04308828150558969\n",
      "0.8674608450004265\n",
      "0.02244904707113114\n",
      "0.027631726342835828\n",
      "0.023476624535041315\n",
      "0.022340299537708098\n",
      "0.9050189021728761\n",
      "0.016716171788247625\n",
      "0.903541839763444\n",
      "0.022385860147474897\n",
      "0.037380505061635136\n",
      "0.016716231645500675\n",
      "0.02243737744908024\n",
      "0.8678853275610714\n",
      "0.652690851021844\n",
      "0.11514562183779276\n",
      "0.01671637891455986\n",
      "0.02359609478881139\n",
      "0.0223292483870352\n",
      "0.904038423290825\n",
      "0.8906383871061999\n",
      "0.016716410323397202\n",
      "0.023609858894765672\n",
      "0.9003970413582665\n",
      "0.5268640186808614\n",
      "0.9026052561490813\n",
      "0.022455571710922766\n",
      "0.9041441760500171\n",
      "0.9037016798475364\n",
      "0.04824022763092716\n",
      "0.4018349986957544\n",
      "0.8621881664359594\n",
      "0.03655877859732463\n",
      "0.02234741310687213\n",
      "0.8997180695331051\n",
      "0.3832330970902634\n",
      "0.022718332206980742\n",
      "0.022346929954688635\n",
      "0.027432607544411076\n",
      "0.26609642144869655\n",
      "0.8371625642239863\n",
      "0.7624054390362317\n",
      "0.15707596802237478\n",
      "0.016716339983797485\n",
      "0.022552170825581436\n",
      "0.8956106537899726\n",
      "0.02237022233434417\n",
      "0.022947719227986895\n",
      "0.736572804247815\n",
      "0.0787251238012149\n",
      "0.016716266621527913\n",
      "0.8974910028583052\n",
      "0.8864944396101939\n",
      "0.022375751208494613\n",
      "0.3705927016812229\n",
      "0.11239667087133216\n",
      "0.022330226718834095\n",
      "0.022337560405889665\n",
      "0.9050189021728761\n",
      "0.022340824656480584\n",
      "0.8586454956484477\n",
      "0.901913609117341\n",
      "0.016716420571405797\n",
      "0.15364806647260823\n",
      "0.016716272674027945\n",
      "0.03132277580036635\n",
      "0.8953742932801276\n",
      "0.030330886696586425\n",
      "0.022864929702201484\n",
      "0.48454959481458065\n",
      "0.016716262089257555\n",
      "0.030059321188264838\n",
      "0.01671626612358588\n",
      "0.022525899689180725\n",
      "0.8336838456655284\n",
      "0.023004955070843935\n",
      "0.04293730035460894\n",
      "0.1100368189738543\n",
      "0.8910519170878068\n",
      "0.1497100830735386\n",
      "0.9020292505687413\n",
      "0.883202626178456\n",
      "0.29587138882251257\n",
      "0.05683658463520352\n",
      "0.03287049537315831\n",
      "0.347890741645726\n",
      "0.9022724428092387\n",
      "0.04219048073527771\n",
      "0.022487704314214933\n",
      "0.02570807376286299\n",
      "0.09624901341010812\n",
      "0.02299739797792766\n",
      "0.027106945803702435\n",
      "0.01671625662808433\n",
      "0.03553915825000013\n",
      "0.016716167664301833\n",
      "0.9039208330411533\n",
      "0.022530899343584335\n",
      "0.9050189021728761\n",
      "0.05848812117970199\n",
      "0.31754571995553293\n",
      "0.016716117201358512\n",
      "0.7130717609509094\n",
      "0.6959903142583328\n",
      "0.04166514279596316\n",
      "0.028240216920548265\n",
      "0.9040003577414495\n",
      "0.09024789276694284\n",
      "0.776664797956873\n",
      "0.07117517150149524\n",
      "0.023185866545435117\n",
      "0.03162283246108903\n",
      "0.016716172179993643\n",
      "0.9040367304836207\n",
      "0.6830301647581464\n",
      "0.8953072570106464\n",
      "0.8083969951543813\n",
      "0.023886981505408612\n",
      "0.1684187824679253\n",
      "0.8496512798718355\n",
      "0.9050189021728761\n"
     ]
    }
   ],
   "source": [
    "for i in range(400):\n",
    "    print(np.max(from_smart[i,:]))"
   ]
  },
  {
   "cell_type": "code",
   "execution_count": 42,
   "metadata": {},
   "outputs": [
    {
     "data": {
      "text/plain": [
       "(64, 64)"
      ]
     },
     "execution_count": 42,
     "metadata": {},
     "output_type": "execute_result"
    }
   ],
   "source": [
    "np.shape(from_stupid)"
   ]
  },
  {
   "cell_type": "code",
   "execution_count": 44,
   "metadata": {},
   "outputs": [
    {
     "data": {
      "text/plain": [
       "array([[0.40096774, 0.0231185 , 0.02262848, ..., 0.        , 0.        ,\n",
       "        0.        ],\n",
       "       [0.4015151 , 0.02308963, 0.0225985 , ..., 0.        , 0.        ,\n",
       "        0.        ],\n",
       "       [0.4014988 , 0.02309052, 0.02259941, ..., 0.        , 0.        ,\n",
       "        0.        ],\n",
       "       ...,\n",
       "       [0.40134325, 0.0230987 , 0.02260791, ..., 0.        , 0.        ,\n",
       "        0.        ],\n",
       "       [0.40122026, 0.0231052 , 0.02261466, ..., 0.        , 0.        ,\n",
       "        0.        ],\n",
       "       [0.40087758, 0.02312324, 0.02263339, ..., 0.        , 0.        ,\n",
       "        0.        ]])"
      ]
     },
     "execution_count": 44,
     "metadata": {},
     "output_type": "execute_result"
    }
   ],
   "source": [
    "from_stupid"
   ]
  },
  {
   "cell_type": "code",
   "execution_count": 25,
   "metadata": {},
   "outputs": [
    {
     "data": {
      "text/plain": [
       "array([0.86644577, 0.00461578, 0.00860582, 0.00421388, 0.0266807 ,\n",
       "       0.00151589, 0.00151589, 0.00151589, 0.00151589, 0.00151589,\n",
       "       0.00151589, 0.00151589, 0.00151589, 0.00151589, 0.00151589,\n",
       "       0.00151589, 0.00151589, 0.00151589, 0.00151589, 0.00151589,\n",
       "       0.00151589, 0.00151589, 0.00151589, 0.00151589, 0.00151589,\n",
       "       0.00151589, 0.00151589, 0.00151589, 0.00151589, 0.00151589,\n",
       "       0.00151589, 0.00151589, 0.00151589, 0.00151589, 0.00151589,\n",
       "       0.00151589, 0.00151589, 0.00151589, 0.00151589, 0.00151589,\n",
       "       0.00151589, 0.00151589, 0.00151589, 0.00151589, 0.00151589,\n",
       "       0.00151589, 0.00151589, 0.00151589, 0.00151589, 0.00151589,\n",
       "       0.00151589, 0.00151589, 0.00151589, 0.00151589, 0.00151589,\n",
       "       0.00151589, 0.00151589, 0.00151589, 0.00151589, 0.00151589,\n",
       "       0.00151589, 0.00151589, 0.00151589, 0.00151589])"
      ]
     },
     "execution_count": 25,
     "metadata": {},
     "output_type": "execute_result"
    }
   ],
   "source": [
    "from_stupid[0,:]"
   ]
  },
  {
   "cell_type": "code",
   "execution_count": 26,
   "metadata": {},
   "outputs": [
    {
     "data": {
      "text/plain": [
       "array([0.86644911, 0.00461555, 0.00860507, 0.00421367, 0.02668044,\n",
       "       0.00151587, 0.00151587, 0.00151587, 0.00151587, 0.00151587,\n",
       "       0.00151587, 0.00151587, 0.00151587, 0.00151587, 0.00151587,\n",
       "       0.00151587, 0.00151587, 0.00151587, 0.00151587, 0.00151587,\n",
       "       0.00151587, 0.00151587, 0.00151587, 0.00151587, 0.00151587,\n",
       "       0.00151587, 0.00151587, 0.00151587, 0.00151587, 0.00151587,\n",
       "       0.00151587, 0.00151587, 0.00151587, 0.00151587, 0.00151587,\n",
       "       0.00151587, 0.00151587, 0.00151587, 0.00151587, 0.00151587,\n",
       "       0.00151587, 0.00151587, 0.00151587, 0.00151587, 0.00151587,\n",
       "       0.00151587, 0.00151587, 0.00151587, 0.00151587, 0.00151587,\n",
       "       0.00151587, 0.00151587, 0.00151587, 0.00151587, 0.00151587,\n",
       "       0.00151587, 0.00151587, 0.00151587, 0.00151587, 0.00151587,\n",
       "       0.00151587, 0.00151587, 0.00151587, 0.00151587])"
      ]
     },
     "execution_count": 26,
     "metadata": {},
     "output_type": "execute_result"
    }
   ],
   "source": [
    "from_stupid[1,:]"
   ]
  },
  {
   "cell_type": "code",
   "execution_count": 28,
   "metadata": {},
   "outputs": [
    {
     "data": {
      "text/plain": [
       "array([0.86644851, 0.00461557, 0.00860512, 0.00421369, 0.02668044,\n",
       "       0.00151587, 0.00151587, 0.00151587, 0.00151587, 0.00151587,\n",
       "       0.00151587, 0.00151587, 0.00151587, 0.00151587, 0.00151587,\n",
       "       0.00151587, 0.00151587, 0.00151587, 0.00151587, 0.00151587,\n",
       "       0.00151587, 0.00151587, 0.00151587, 0.00151587, 0.00151587,\n",
       "       0.00151587, 0.00151587, 0.00151587, 0.00151587, 0.00151587,\n",
       "       0.00151587, 0.00151587, 0.00151587, 0.00151587, 0.00151587,\n",
       "       0.00151587, 0.00151587, 0.00151587, 0.00151587, 0.00151587,\n",
       "       0.00151587, 0.00151587, 0.00151587, 0.00151587, 0.00151587,\n",
       "       0.00151587, 0.00151587, 0.00151587, 0.00151587, 0.00151587,\n",
       "       0.00151587, 0.00151587, 0.00151587, 0.00151587, 0.00151587,\n",
       "       0.00151587, 0.00151587, 0.00151587, 0.00151587, 0.00151587,\n",
       "       0.00151587, 0.00151587, 0.00151587, 0.00151587])"
      ]
     },
     "execution_count": 28,
     "metadata": {},
     "output_type": "execute_result"
    }
   ],
   "source": [
    "from_stupid[2,:]"
   ]
  },
  {
   "cell_type": "code",
   "execution_count": 27,
   "metadata": {},
   "outputs": [
    {
     "data": {
      "text/plain": [
       "[('Admission Date:',)]"
      ]
     },
     "execution_count": 27,
     "metadata": {},
     "output_type": "execute_result"
    }
   ],
   "source": [
    "batch_sent"
   ]
  },
  {
   "cell_type": "code",
   "execution_count": 28,
   "metadata": {},
   "outputs": [],
   "source": [
    "layer = 1 \n",
    "att_heads = att_output\n",
    "one_layer_att_heads = att_heads[layer]"
   ]
  },
  {
   "cell_type": "code",
   "execution_count": 78,
   "metadata": {},
   "outputs": [
    {
     "data": {
      "text/plain": [
       "torch.Size([1, 12, 64, 64])"
      ]
     },
     "execution_count": 78,
     "metadata": {},
     "output_type": "execute_result"
    }
   ],
   "source": [
    "one_layer_att_heads.shape"
   ]
  },
  {
   "cell_type": "code",
   "execution_count": 47,
   "metadata": {},
   "outputs": [],
   "source": [
    "seq_len = 5\n",
    "np.diag([1] * seq_len)\n",
    "tmp_sum = np.zeros(seq_len)"
   ]
  },
  {
   "cell_type": "code",
   "execution_count": 48,
   "metadata": {},
   "outputs": [
    {
     "data": {
      "text/plain": [
       "array([0., 0., 0., 0., 0.])"
      ]
     },
     "execution_count": 48,
     "metadata": {},
     "output_type": "execute_result"
    }
   ],
   "source": [
    "tmp_sum"
   ]
  },
  {
   "cell_type": "code",
   "execution_count": 26,
   "metadata": {},
   "outputs": [
    {
     "data": {
      "text/plain": [
       "torch.Size([12, 64, 64])"
      ]
     },
     "execution_count": 26,
     "metadata": {},
     "output_type": "execute_result"
    }
   ],
   "source": [
    "one_layer_att_heads.shape"
   ]
  },
  {
   "cell_type": "code",
   "execution_count": 32,
   "metadata": {},
   "outputs": [
    {
     "data": {
      "text/plain": [
       "torch.Size([64, 64])"
      ]
     },
     "execution_count": 32,
     "metadata": {},
     "output_type": "execute_result"
    }
   ],
   "source": [
    "aaa = torch.sum(one_layer_att_heads,0)\n",
    "aaa.shape"
   ]
  },
  {
   "cell_type": "code",
   "execution_count": 27,
   "metadata": {},
   "outputs": [],
   "source": [
    "aaa = model_word(input_ids,attention_mask=input_mask)"
   ]
  },
  {
   "cell_type": "code",
   "execution_count": 40,
   "metadata": {},
   "outputs": [],
   "source": [
    "aaa = torch.sum(one_layer_att_heads,0)\n",
    "aaa = aaa.cpu().detach().numpy()\n",
    "bbb = softmax(aaa,axis=1)"
   ]
  },
  {
   "cell_type": "code",
   "execution_count": 41,
   "metadata": {},
   "outputs": [
    {
     "data": {
      "text/plain": [
       "64.0"
      ]
     },
     "execution_count": 41,
     "metadata": {},
     "output_type": "execute_result"
    }
   ],
   "source": [
    "np.sum(bbb)"
   ]
  },
  {
   "cell_type": "code",
   "execution_count": 43,
   "metadata": {},
   "outputs": [
    {
     "data": {
      "text/plain": [
       "(64, 64)"
      ]
     },
     "execution_count": 43,
     "metadata": {},
     "output_type": "execute_result"
    }
   ],
   "source": [
    "np.shape(bbb)"
   ]
  },
  {
   "cell_type": "code",
   "execution_count": 29,
   "metadata": {},
   "outputs": [
    {
     "name": "stdout",
     "output_type": "stream",
     "text": [
      "<class 'tuple'>\n",
      "2\n"
     ]
    }
   ],
   "source": [
    "print(type(aaa))\n",
    "print(len(aaa))"
   ]
  },
  {
   "cell_type": "code",
   "execution_count": 24,
   "metadata": {},
   "outputs": [
    {
     "data": {
      "text/plain": [
       "torch.Size([6, 768])"
      ]
     },
     "execution_count": 24,
     "metadata": {},
     "output_type": "execute_result"
    }
   ],
   "source": [
    " np.shape(tmp_input_tensors)"
   ]
  },
  {
   "cell_type": "code",
   "execution_count": 17,
   "metadata": {},
   "outputs": [
    {
     "data": {
      "text/plain": [
       "0.8040973111395646"
      ]
     },
     "execution_count": 17,
     "metadata": {},
     "output_type": "execute_result"
    }
   ],
   "source": [
    "import sklearn\n",
    "sklearn.metrics.f1_score(y_list,pred_list)"
   ]
  },
  {
   "cell_type": "code",
   "execution_count": 23,
   "metadata": {},
   "outputs": [],
   "source": [
    "fpr,tpr,thres = roc_curve(y_list,y_hat)\n",
    "save_dir = '/gpfs/qlong/home/tzzhang/mimicIII/nn_code/exp/'\n",
    "np.save(os.path.join(save_dir,'fpr.npy'),fpr)\n",
    "np.save(os.path.join(save_dir,'tpr.npy'),tpr)\n",
    "np.save(os.path.join(save_dir,'thres.npy'),thres)"
   ]
  },
  {
   "cell_type": "code",
   "execution_count": null,
   "metadata": {},
   "outputs": [],
   "source": [
    "fpr,tpr,thres = roc_curve(y_list,y_hat)\n",
    "np.save(os.path.join(save_dir,'fpr.npy'),fpr)\n",
    "np.save(os.path.join(save_dir,'tpr.npy'),tpr)\n",
    "np.save(os.path.join(save_dir,'thres.npy'),thres)"
   ]
  },
  {
   "cell_type": "code",
   "execution_count": 18,
   "metadata": {},
   "outputs": [
    {
     "data": {
      "text/plain": [
       "0.9346480649586207"
      ]
     },
     "execution_count": 18,
     "metadata": {},
     "output_type": "execute_result"
    }
   ],
   "source": []
  },
  {
   "cell_type": "code",
   "execution_count": 1,
   "metadata": {},
   "outputs": [
    {
     "ename": "NameError",
     "evalue": "name 'log' is not defined",
     "output_type": "error",
     "traceback": [
      "\u001b[0;31m---------------------------------------------------------------------------\u001b[0m",
      "\u001b[0;31mNameError\u001b[0m                                 Traceback (most recent call last)",
      "\u001b[0;32m<ipython-input-1-75c25ba9a60f>\u001b[0m in \u001b[0;36m<module>\u001b[0;34m\u001b[0m\n\u001b[0;32m----> 1\u001b[0;31m \u001b[0mto_print\u001b[0m\u001b[0;34m=\u001b[0m\u001b[0mlog\u001b[0m\u001b[0;34m.\u001b[0m\u001b[0mformat\u001b[0m\u001b[0;34m(\u001b[0m\u001b[0;36m0\u001b[0m\u001b[0;34m,\u001b[0m\u001b[0;36m0\u001b[0m\u001b[0;34m,\u001b[0m\u001b[0msum_loss\u001b[0m\u001b[0;34m,\u001b[0m\u001b[0maccu\u001b[0m\u001b[0;34m,\u001b[0m\u001b[0mtime\u001b[0m\u001b[0;34m.\u001b[0m\u001b[0mtime\u001b[0m\u001b[0;34m(\u001b[0m\u001b[0;34m)\u001b[0m \u001b[0;34m-\u001b[0m \u001b[0mstart\u001b[0m\u001b[0;34m)\u001b[0m\u001b[0;34m\u001b[0m\u001b[0m\n\u001b[0m\u001b[1;32m      2\u001b[0m \u001b[0mto_print\u001b[0m \u001b[0;34m=\u001b[0m \u001b[0;34m'Test '\u001b[0m \u001b[0;34m+\u001b[0m \u001b[0mto_print\u001b[0m\u001b[0;34m\u001b[0m\u001b[0m\n\u001b[1;32m      3\u001b[0m \u001b[0mprint\u001b[0m\u001b[0;34m(\u001b[0m\u001b[0mto_print\u001b[0m\u001b[0;34m)\u001b[0m\u001b[0;34m\u001b[0m\u001b[0m\n\u001b[1;32m      4\u001b[0m \u001b[0mprint\u001b[0m\u001b[0;34m(\u001b[0m\u001b[0mconfusion_matrix\u001b[0m\u001b[0;34m(\u001b[0m\u001b[0my_list\u001b[0m\u001b[0;34m,\u001b[0m\u001b[0mpred_list\u001b[0m\u001b[0;34m)\u001b[0m\u001b[0;34m)\u001b[0m\u001b[0;34m\u001b[0m\u001b[0m\n",
      "\u001b[0;31mNameError\u001b[0m: name 'log' is not defined"
     ]
    }
   ],
   "source": [
    "to_print=log.format(0,0,sum_loss,accu,time.time() - start)\n",
    "to_print = 'Test ' + to_print\n",
    "print(to_print)\n",
    "print(confusion_matrix(y_list,pred_list))"
   ]
  },
  {
   "cell_type": "code",
   "execution_count": 27,
   "metadata": {},
   "outputs": [
    {
     "data": {
      "text/plain": [
       "torch.Size([74, 768])"
      ]
     },
     "execution_count": 27,
     "metadata": {},
     "output_type": "execute_result"
    }
   ],
   "source": [
    "aaa = input_tensors[0,batch_count*batch_size:batch_count*batch_size+cur_batch_size]\n",
    "aaa.shape"
   ]
  },
  {
   "cell_type": "code",
   "execution_count": 26,
   "metadata": {},
   "outputs": [
    {
     "data": {
      "text/plain": [
       "0"
      ]
     },
     "execution_count": 26,
     "metadata": {},
     "output_type": "execute_result"
    }
   ],
   "source": [
    "batch_count"
   ]
  },
  {
   "cell_type": "code",
   "execution_count": null,
   "metadata": {
    "scrolled": true
   },
   "outputs": [],
   "source": [
    "accu = correct.item() / total_num\n",
    "to_print=log.format(0,max_epoch,sum_loss,accu,time.time() - start)\n",
    "to_print = 'Test ' + to_print\n",
    "print(to_print)\n",
    "print(confusion_matrix(y_list,pred_list))\n",
    "log_file.writelines(to_print)\n",
    "log_file.close()"
   ]
  },
  {
   "cell_type": "code",
   "execution_count": 14,
   "metadata": {},
   "outputs": [
    {
     "data": {
      "text/plain": [
       "382"
      ]
     },
     "execution_count": 14,
     "metadata": {},
     "output_type": "execute_result"
    }
   ],
   "source": [
    "Test Iter 0/20, Loss=447.199,accu=0.820,time=311.612\n",
    "\n",
    "[[745  52]\n",
    " [161 225]]"
   ]
  },
  {
   "cell_type": "code",
   "execution_count": 22,
   "metadata": {},
   "outputs": [
    {
     "data": {
      "text/plain": [
       "tensor([[-0.5129, -0.9131]], device='cuda:0', grad_fn=<LogSoftmaxBackward>)"
      ]
     },
     "execution_count": 22,
     "metadata": {},
     "output_type": "execute_result"
    }
   ],
   "source": [
    "proba"
   ]
  },
  {
   "cell_type": "code",
   "execution_count": 25,
   "metadata": {},
   "outputs": [],
   "source": [
    "proba2= proba.cpu().detach().numpy()"
   ]
  },
  {
   "cell_type": "code",
   "execution_count": 26,
   "metadata": {},
   "outputs": [
    {
     "data": {
      "text/plain": [
       "array([[-0.5129397, -0.9131278]], dtype=float32)"
      ]
     },
     "execution_count": 26,
     "metadata": {},
     "output_type": "execute_result"
    }
   ],
   "source": [
    "proba2"
   ]
  },
  {
   "cell_type": "code",
   "execution_count": 27,
   "metadata": {},
   "outputs": [
    {
     "data": {
      "text/plain": [
       "array([[0.5987329 , 0.40126717]], dtype=float32)"
      ]
     },
     "execution_count": 27,
     "metadata": {},
     "output_type": "execute_result"
    }
   ],
   "source": [
    "np.exp(proba2)"
   ]
  },
  {
   "cell_type": "code",
   "execution_count": 24,
   "metadata": {},
   "outputs": [
    {
     "data": {
      "image/png": "[encoded data removed]",
      "text/plain": [
       "<Figure size 432x288 with 1 Axes>"
      ]
     },
     "metadata": {
      "needs_background": "light"
     },
     "output_type": "display_data"
    }
   ],
   "source": [
    "#fpr,tpr,thres = roc_curve(y_list,y_hat)\n",
    "fpr_caml = np.load('/gpfs/qlong/home/tzzhang/mimicIII/nn_code/exp/caml/fpr.npy')\n",
    "tpr_caml = np.load('/gpfs/qlong/home/tzzhang/mimicIII/nn_code/exp/caml/tpr.npy')\n",
    "\n",
    "plt.figure(1)\n",
    "plt.plot([0, 1], [0, 1], 'k--')\n",
    "plt.plot(fpr, tpr, label='Bert')\n",
    "plt.plot(fpr_caml, tpr_caml, label='caml')\n",
    "plt.xlabel('False positive rate')\n",
    "plt.ylabel('True positive rate')\n",
    "plt.title('ROC curve')\n",
    "plt.legend(loc='best')\n",
    "plt.show()"
   ]
  },
  {
   "cell_type": "code",
   "execution_count": 16,
   "metadata": {},
   "outputs": [
    {
     "data": {
      "image/png": "[encoded data removed]",
      "text/plain": [
       "<Figure size 432x288 with 1 Axes>"
      ]
     },
     "metadata": {
      "needs_background": "light"
     },
     "output_type": "display_data"
    }
   ],
   "source": [
    "fpr_ori = np.load('/gpfs/qlong/home/tzzhang/mimicIII/nn_code/exp/Best_Clinical_Bert/fpr.npy')\n",
    "tpr_ori = np.load('/gpfs/qlong/home/tzzhang/mimicIII/nn_code/exp/Best_Clinical_Bert/tpr.npy')\n",
    "\n",
    "fpr_caml = np.load('/gpfs/qlong/home/tzzhang/mimicIII/nn_code/exp/caml/fpr.npy')\n",
    "tpr_caml = np.load('/gpfs/qlong/home/tzzhang/mimicIII/nn_code/exp/caml/tpr.npy')\n",
    "\n",
    "plt.figure(1)\n",
    "plt.plot([0, 1], [0, 1], 'k--')\n",
    "plt.plot(fpr, tpr, label='Bert with vocab',color='r')\n",
    "plt.plot(fpr_caml, tpr_caml, label='caml',color='b')\n",
    "plt.plot(fpr_ori, tpr_ori, label='original Bert',color='g')\n",
    "\n",
    "plt.xlabel('False positive rate')\n",
    "plt.ylabel('True positive rate')\n",
    "plt.title('ROC curve')\n",
    "plt.legend(loc='best')\n",
    "plt.show()"
   ]
  },
  {
   "cell_type": "code",
   "execution_count": 11,
   "metadata": {},
   "outputs": [
    {
     "name": "stderr",
     "output_type": "stream",
     "text": [
      "ERROR:root:Internal Python error in the inspect module.\n",
      "Below is the traceback from this internal error.\n",
      "\n",
      "\n",
      "KeyboardInterrupt\n",
      "\n"
     ]
    }
   ],
   "source": [
    "imp.reload(utils)\n",
    "\n",
    "start = time.time()\n",
    "model_sent.eval()\n",
    "model_word.eval()\n",
    "pred_list = []\n",
    "y_list = []\n",
    "correct = sum_loss =total_num = 0\n",
    "y_hat = []\n",
    "model_word = model_word.cuda()\n",
    "model_sent = model_sent.cuda()\n",
    "for doc_count,(doc,label) in enumerate(validation_generator):\n",
    "    total_num += len(label)\n",
    "    #doc, label = Variable(doc).to(device), Variable(label).to(device)#数据和标签\n",
    "    label = label.cuda()\n",
    "    batch_count=0\n",
    "    sent_num=0\n",
    "    #print(len(doc))\n",
    "    input_tensors = torch.zeros([1,max_doc_len,config.hidden_size]).cuda()\n",
    "    while batch_size * batch_count < len(doc) and batch_size * (batch_count+1) < max_doc_len:\n",
    "        batch_sent =utils.batch_sent_loader(doc,batch_size,batch_count,max_doc_len=max_doc_len)\n",
    "        cur_batch_size = len(batch_sent)\n",
    "        sent_num += cur_batch_size\n",
    "        input_ids = torch.zeros(cur_batch_size,max_sent_len).long().cuda()\n",
    "        input_mask = torch.ones(cur_batch_size,max_sent_len).long().cuda()\n",
    "        for i in range(len(batch_sent)):\n",
    "            tmp_ids,tmp_mask= utils.word_tokenize(batch_sent[i][0],max_sent_len,tokenizer)\n",
    "            input_ids[i,:] = torch.tensor(tmp_ids)\n",
    "            input_mask[i,:] = torch.tensor(tmp_mask)\n",
    "        _,tmp_input_tensors = model_word(input_ids,attention_mask=input_mask)\n",
    "        start_ind = batch_count*batch_size\n",
    "        end_ind = start_ind + cur_batch_size\n",
    "        input_tensors[0,start_ind:end_ind] = tmp_input_tensors\n",
    "        batch_count +=1\n",
    "    sent_mask = [1]*sent_num\n",
    "    while len(sent_mask)<max_doc_len:\n",
    "        sent_mask.append(0)\n",
    "    sent_mask = torch.tensor(sent_mask).unsqueeze(0).cuda()\n",
    "    _,proba = model_sent(input_tensors,label,attention_mask=sent_mask)\n",
    "    pos_socre = np.exp(proba.cpu().detach().numpy())[0,1]\n",
    "    y_hat.append(pos_socre)\n",
    "    loss = criterion(proba, label)\n",
    "    _,predicted = torch.max(proba,1)\n",
    "    #for making confusion matrix\n",
    "    pred_list.append(predicted.item())\n",
    "    y_list.append(label.item())\n",
    "\n",
    "    sum_loss += loss.item() * len(label)\n",
    "    #print(logits)\n",
    "    correct += (predicted == label).sum()\n",
    "fpr,tpr,thres = roc_curve(y_list,y_hat)\n",
    "np.save(os.path.join(save_dir,'fpr.npy'),fpr)\n",
    "np.save(os.path.join(save_dir,'tpr.npy'),tpr)\n",
    "np.save(os.path.join(save_dir,'thres.npy'),thres)"
   ]
  },
  {
   "cell_type": "markdown",
   "metadata": {},
   "source": [
    "# New 11-15"
   ]
  },
  {
   "cell_type": "code",
   "execution_count": 3,
   "metadata": {},
   "outputs": [],
   "source": [
    "hpara1 = utils.hpara()\n",
    "hpara1.ratio = 10"
   ]
  },
  {
   "cell_type": "code",
   "execution_count": 4,
   "metadata": {},
   "outputs": [],
   "source": [
    "# Set up the word embedding model but do not load the pre-trained parameters\n",
    "tf_src_dir = '/gpfs/qlong/home/tzzhang/nlp_test/bert/mimic_based_complete_model'\n",
    "bert_config_file = os.path.join(tf_src_dir,'bert_config.json')\n",
    "config = modeling_bert.BertConfig.from_json_file(bert_config_file)\n",
    "config.num_hidden_layers = hpara1.word_layers\n",
    "model_word = modeling_bert.BertModel(config)"
   ]
  },
  {
   "cell_type": "code",
   "execution_count": 5,
   "metadata": {},
   "outputs": [],
   "source": [
    "imp.reload(utils)\n",
    "training_generator,validation_generator,dummy_generator = utils.load_data(ratio=hpara1.ratio,clarity=True,stratify =True)\n",
    "tokenizer = utils._load_tf_tokenizer(vocab_file = '/gpfs/qlong/home/tzzhang/nlp_test/bert/mimic_based_complete_model/vocab.txt')"
   ]
  },
  {
   "cell_type": "code",
   "execution_count": 6,
   "metadata": {},
   "outputs": [
    {
     "name": "stdout",
     "output_type": "stream",
     "text": [
      "tensor([-0.0284, -0.0251,  0.0168, -0.0085, -0.0121, -0.0086,  0.0285,  0.0362,\n",
      "         0.0117, -0.0014])\n"
     ]
    }
   ],
   "source": [
    "para = model_word.state_dict()\n",
    "att_layer_weight = para['encoder.layer.0.attention.self.query.weight']\n",
    "print(att_layer_weight[0,:10])"
   ]
  },
  {
   "cell_type": "code",
   "execution_count": 7,
   "metadata": {},
   "outputs": [],
   "source": [
    "config_doc = modeling_bert.BertConfig.from_json_file(bert_config_file)\n",
    "config_doc.num_hidden_layers = hpara1.sent_layers\n",
    "model_sent = modeling_bert.BertModel_no_embedding(config_doc)"
   ]
  },
  {
   "cell_type": "code",
   "execution_count": 8,
   "metadata": {},
   "outputs": [
    {
     "name": "stdout",
     "output_type": "stream",
     "text": [
      "tensor([-0.0284, -0.0251,  0.0168, -0.0085, -0.0121, -0.0086,  0.0285,  0.0362,\n",
      "         0.0117, -0.0014])\n"
     ]
    }
   ],
   "source": [
    "para = model_word.state_dict()\n",
    "att_layer_weight = para['encoder.layer.0.attention.self.query.weight']\n",
    "print(att_layer_weight[0,:10])"
   ]
  },
  {
   "cell_type": "code",
   "execution_count": 15,
   "metadata": {},
   "outputs": [
    {
     "data": {
      "text/plain": [
       "IncompatibleKeys(missing_keys=[], unexpected_keys=[])"
      ]
     },
     "execution_count": 15,
     "metadata": {},
     "output_type": "execute_result"
    }
   ],
   "source": [
    "exp_dir = './exp/PU_Bert_2019_11_18_complete_10ratio_weighted/'\n",
    "model_word.load_state_dict(torch.load(exp_dir + 'save_word_3.bin'))\n",
    "model_sent.load_state_dict(torch.load(exp_dir + 'save_sent_3.bin'))"
   ]
  },
  {
   "cell_type": "code",
   "execution_count": 16,
   "metadata": {},
   "outputs": [],
   "source": [
    "model_word = model_word.cuda()\n",
    "model_sent = model_sent.cuda()"
   ]
  },
  {
   "cell_type": "code",
   "execution_count": 17,
   "metadata": {},
   "outputs": [],
   "source": [
    "import imp\n",
    "from sklearn.metrics import confusion_matrix\n",
    "imp.reload(utils)\n",
    "date = str(list(time.localtime())[0:3]).replace(', ','_')\n",
    "save_dir = './exp/'+model_name+'_'+date[1:-1]+'_eval_10ratio/'\n",
    "if not os.path.exists(save_dir):\n",
    "    cmd = 'mkdir -p ' + save_dir\n",
    "    os.system(cmd)\n",
    "do_train = True\n",
    "do_test = True\n",
    "criterion = torch.nn.NLLLoss()\n",
    "log_file = open(save_dir+'log','a')\n",
    "optimizer = optim.Adamax\n",
    "word_optimizer = optimizer(model_word.parameters(), lr=0.00005)\n",
    "sent_optimizer = optimizer(model_sent.parameters(), lr=0.0003)\n",
    "max_epoch = 20\n",
    "log = 'Iter {}/{}, Loss={:.3f},accu={:.3f},time={:.3f}\\n'\n",
    "from tqdm import tqdm\n",
    "batch_size = 8\n",
    "accumulation_steps = 10\n",
    "max_sent_len = 64\n",
    "max_doc_len = 400"
   ]
  },
  {
   "cell_type": "code",
   "execution_count": 18,
   "metadata": {},
   "outputs": [
    {
     "name": "stdout",
     "output_type": "stream",
     "text": [
      "Test Iter 0/0, Loss=1041.482,accu=0.938,time=1218.466\n",
      "\n",
      "[[3894   49]\n",
      " [ 218  176]]\n"
     ]
    }
   ],
   "source": [
    "start = time.time()\n",
    "model_sent.eval()\n",
    "model_word.eval()\n",
    "pred_list = []\n",
    "y_list = []\n",
    "y_hat = []\n",
    "\n",
    "correct = sum_loss =total_num = 0\n",
    "for doc_count,(doc,label) in enumerate(validation_generator):\n",
    "    total_num += len(label)\n",
    "    #doc, label = Variable(doc).to(device), Variable(label).to(device)#数据和标签\n",
    "    label = label.cuda()\n",
    "    batch_count=0\n",
    "    sent_num = 0\n",
    "    #print(len(doc))\n",
    "    input_tensors = torch.zeros([1,max_doc_len,config.hidden_size]).cuda()\n",
    "    while batch_size * batch_count < len(doc) and batch_size * batch_count < max_doc_len:\n",
    "        batch_sent =utils.batch_sent_loader(doc,batch_size,batch_count,max_doc_len=max_doc_len)\n",
    "        cur_batch_size = len(batch_sent)\n",
    "        sent_num += cur_batch_size\n",
    "        input_ids = torch.zeros(cur_batch_size,max_sent_len).long().cuda()\n",
    "        input_mask = torch.ones(cur_batch_size,max_sent_len).long().cuda()\n",
    "        for i in range(len(batch_sent)):\n",
    "            tmp_ids,tmp_mask= utils.word_tokenize(batch_sent[i][0],max_sent_len,tokenizer)\n",
    "            input_ids[i,:] = torch.tensor(tmp_ids)\n",
    "            input_mask[i,:] = torch.tensor(tmp_mask)\n",
    "        _,tmp_input_tensors = model_word(input_ids,attention_mask=input_mask)\n",
    "        start_ind = batch_count*batch_size\n",
    "        end_ind = start_ind + cur_batch_size\n",
    "        input_tensors[0,start_ind:end_ind] = tmp_input_tensors\n",
    "        batch_count +=1\n",
    "    sent_mask = [1]*sent_num\n",
    "    while len(sent_mask)<max_doc_len:\n",
    "        sent_mask.append(0)\n",
    "    sent_mask = torch.tensor(sent_mask).unsqueeze(0).cuda()\n",
    "    loss,proba = model_sent(input_tensors,label,attention_mask=sent_mask)\n",
    "    pos_socre = np.exp(proba.cpu().detach().numpy())[0,1]\n",
    "    y_hat.append(pos_socre)\n",
    "    _,predicted = torch.max(proba,1)\n",
    "    #for making confusion matrix\n",
    "    pred_list.append(predicted.item())\n",
    "    y_list.append(label.item())\n",
    "    sum_loss += loss.item() * len(label)\n",
    "    #print(logits)\n",
    "    correct += (predicted == label).sum()\n",
    "accu = correct.item() / total_num\n",
    "to_print=log.format(0,0,sum_loss,accu,time.time() - start)\n",
    "to_print = 'Test ' + to_print\n",
    "print(to_print)\n",
    "print(confusion_matrix(y_list,pred_list))"
   ]
  },
  {
   "cell_type": "code",
   "execution_count": null,
   "metadata": {},
   "outputs": [],
   "source": [
    "sklearn.metrics.roc_auc_score(y_list, y_hat)"
   ]
  },
  {
   "cell_type": "code",
   "execution_count": 19,
   "metadata": {},
   "outputs": [],
   "source": [
    "fpr,tpr,thres = roc_curve(y_list,y_hat)\n",
    "np.save(os.path.join(save_dir,'fpr.npy'),fpr)\n",
    "np.save(os.path.join(save_dir,'tpr.npy'),tpr)\n",
    "np.save(os.path.join(save_dir,'thres.npy'),thres)"
   ]
  },
  {
   "cell_type": "code",
   "execution_count": 20,
   "metadata": {},
   "outputs": [
    {
     "data": {
      "image/png": "[encoded data removed]",
      "text/plain": [
       "<Figure size 432x288 with 1 Axes>"
      ]
     },
     "metadata": {
      "needs_background": "light"
     },
     "output_type": "display_data"
    }
   ],
   "source": [
    "fpr_ori = np.load('/gpfs/qlong/home/tzzhang/mimicIII/nn_code/exp/Best_Clinical_Bert/fpr.npy')\n",
    "tpr_ori = np.load('/gpfs/qlong/home/tzzhang/mimicIII/nn_code/exp/Best_Clinical_Bert/tpr.npy')\n",
    "\n",
    "fpr_caml = np.load('/gpfs/qlong/home/tzzhang/mimicIII/nn_code/exp/caml/fpr.npy')\n",
    "tpr_caml = np.load('/gpfs/qlong/home/tzzhang/mimicIII/nn_code/exp/caml/tpr.npy')\n",
    "\n",
    "plt.figure(1)\n",
    "plt.plot([0, 1], [0, 1], 'k--')\n",
    "plt.plot(fpr, tpr, label='this one',color='r')\n",
    "plt.plot(fpr_caml, tpr_caml, label='caml',color='b')\n",
    "plt.plot(fpr_ori, tpr_ori, label='original Bert',color='g')\n",
    "\n",
    "plt.xlabel('False positive rate')\n",
    "plt.ylabel('True positive rate')\n",
    "plt.title('ROC curve')\n",
    "plt.legend(loc='best')\n",
    "plt.show()"
   ]
  },
  {
   "cell_type": "code",
   "execution_count": null,
   "metadata": {},
   "outputs": [],
   "source": []
  }
 ],
 "metadata": {
  "kernelspec": {
   "display_name": "Python 3",
   "language": "python",
   "name": "python3"
  },
  "language_info": {
   "codemirror_mode": {
    "name": "ipython",
    "version": 3
   },
   "file_extension": ".py",
   "mimetype": "text/x-python",
   "name": "python",
   "nbconvert_exporter": "python",
   "pygments_lexer": "ipython3",
   "version": "3.5.2"
  }
 },
 "nbformat": 4,
 "nbformat_minor": 2
}
