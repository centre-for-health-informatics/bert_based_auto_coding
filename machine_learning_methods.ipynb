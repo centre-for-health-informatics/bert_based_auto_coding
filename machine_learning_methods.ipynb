{
 "cells": [
  {
   "cell_type": "code",
   "execution_count": 5,
   "metadata": {},
   "outputs": [],
   "source": [
    "from sklearn.feature_extraction.text import TfidfVectorizer\n",
    "import numpy as np\n",
    "from sklearn.feature_extraction.text import CountVectorizer\n",
    "from sklearn.feature_extraction.text import TfidfVectorizer\n",
    "from sklearn.naive_bayes import ComplementNB\n",
    "from sklearn.naive_bayes import MultinomialNB\n",
    "from sklearn.metrics import confusion_matrix\n",
    "from sklearn.model_selection import train_test_split\n",
    "from sklearn import metrics\n",
    "from sklearn.linear_model import LogisticRegression\n",
    "from sklearn import svm\n",
    "import copy\n",
    "from multiprocessing import Pool\n",
    "from sklearn.metrics import roc_curve, auc\n",
    "import sklearn\n",
    "import time\n",
    "import utils"
   ]
  },
  {
   "cell_type": "code",
   "execution_count": 2,
   "metadata": {},
   "outputs": [],
   "source": [
    "import pickle\n",
    "ratio=210\n",
    "src_dir = './pu_data_ratio_Clarity' + str(ratio) +'/'\n",
    "text_train = pickle.load(open(src_dir+'text_train_stratified.pkl','rb'))\n",
    "label_train = pickle.load(open(src_dir+'label_train_stratified.pkl','rb'))\n",
    "text_test = pickle.load(open(src_dir+'text_test_stratified.pkl','rb'))\n",
    "label_test = pickle.load(open(src_dir+'label_test_stratified.pkl','rb'))"
   ]
  },
  {
   "cell_type": "code",
   "execution_count": 3,
   "metadata": {},
   "outputs": [],
   "source": [
    "text_train.extend(text_test)\n",
    "label_train.extend(label_test)\n",
    "text_total = text_train\n",
    "label_total = label_train"
   ]
  },
  {
   "cell_type": "code",
   "execution_count": 4,
   "metadata": {},
   "outputs": [
    {
     "data": {
      "text/plain": [
       "list"
      ]
     },
     "execution_count": 4,
     "metadata": {},
     "output_type": "execute_result"
    }
   ],
   "source": [
    "type(text_train)"
   ]
  },
  {
   "cell_type": "code",
   "execution_count": 5,
   "metadata": {},
   "outputs": [],
   "source": [
    "# Convert splited sentence to documents. \n",
    "def back_to_doc(doc_list):\n",
    "    new_doc_list = []\n",
    "    for doc in doc_list:\n",
    "        new_doc_list.append('')\n",
    "        for sent in doc:\n",
    "            new_doc_list[-1]+=' ' + str(sent)\n",
    "    return new_doc_list\n",
    "new_text_total = back_to_doc(text_total)"
   ]
  },
  {
   "cell_type": "code",
   "execution_count": 7,
   "metadata": {},
   "outputs": [
    {
     "data": {
      "text/plain": [
       "9068"
      ]
     },
     "execution_count": 7,
     "metadata": {},
     "output_type": "execute_result"
    }
   ],
   "source": [
    "len(new_text_total)"
   ]
  },
  {
   "cell_type": "markdown",
   "metadata": {},
   "source": [
    "# Lemmatize the text"
   ]
  },
  {
   "cell_type": "code",
   "execution_count": 12,
   "metadata": {},
   "outputs": [],
   "source": [
    "import pickle\n",
    "ratio=2\n",
    "src_dir = './pu_data_ratio_Clarity' + str(ratio) +'/'\n",
    "text_train = pickle.load(open(src_dir+'text_train_stratified.pkl','rb'))\n",
    "label_train = pickle.load(open(src_dir+'label_train_stratified.pkl','rb'))\n",
    "train_len = len(text_train)\n",
    "text_test = pickle.load(open(src_dir+'text_test_stratified.pkl','rb'))\n",
    "label_test = pickle.load(open(src_dir+'label_test_stratified.pkl','rb'))\n",
    "text_train.extend(text_test)\n",
    "label_train.extend(label_test)\n",
    "text_total = text_train\n",
    "label_total = label_train\n",
    "new_text_total = utils.back_to_doc(text_total)"
   ]
  },
  {
   "cell_type": "code",
   "execution_count": 13,
   "metadata": {},
   "outputs": [],
   "source": [
    "import spacy\n",
    "nlp = spacy.load('en',disable = [\"parser\", \"ner\"])\n",
    "def lemma(doc):\n",
    "    doc = nlp(doc)\n",
    "    lemmatized_doc = ''\n",
    "    for token in doc:\n",
    "        if not token.lemma_ == '-PRON-':\n",
    "            lemmatized_doc += ' ' + token.lemma_\n",
    "    return lemmatized_doc"
   ]
  },
  {
   "cell_type": "code",
   "execution_count": 14,
   "metadata": {
    "scrolled": true
   },
   "outputs": [
    {
     "name": "stderr",
     "output_type": "stream",
     "text": [
      "100%|██████████| 5913/5913 [04:51<00:00, 20.30it/s]\n"
     ]
    }
   ],
   "source": [
    "from tqdm import tqdm\n",
    "lemmatized_text = []\n",
    "for doc in tqdm(new_text_total):\n",
    "    doc = lemma(doc)\n",
    "    lemmatized_text.append(doc)"
   ]
  },
  {
   "cell_type": "code",
   "execution_count": 15,
   "metadata": {},
   "outputs": [],
   "source": [
    "new_text_train = lemmatized_text[:train_len]\n",
    "label_train = label_total[:train_len]\n",
    "new_text_test = lemmatized_text[train_len:]\n",
    "label_test = label_total[train_len:]"
   ]
  },
  {
   "cell_type": "code",
   "execution_count": 16,
   "metadata": {
    "scrolled": true
   },
   "outputs": [
    {
     "data": {
      "text/plain": [
       "4730"
      ]
     },
     "execution_count": 16,
     "metadata": {},
     "output_type": "execute_result"
    }
   ],
   "source": [
    "len(new_text_train)"
   ]
  },
  {
   "cell_type": "markdown",
   "metadata": {},
   "source": [
    "# RUN ML on lemmatized text"
   ]
  },
  {
   "cell_type": "code",
   "execution_count": 119,
   "metadata": {},
   "outputs": [],
   "source": [
    "Tfidf_vectorizer = TfidfVectorizer(ngram_range=(1,2),min_df =5,stop_words='english',max_df = 0.8)\n",
    "Tfidf_vectorizer = Tdidf_vectorizer.fit(new_text_total)"
   ]
  },
  {
   "cell_type": "code",
   "execution_count": 123,
   "metadata": {},
   "outputs": [],
   "source": [
    "# Don't allow idf of testing data to be breached\n",
    "Tfidf_vectorizer = TfidfVectorizer(ngram_range=(1,2),min_df =5,stop_words='english',max_df = 0.8)\n",
    "Tfidf_vectorizer = Tdidf_vectorizer.fit(new_text_train)"
   ]
  },
  {
   "cell_type": "code",
   "execution_count": 124,
   "metadata": {},
   "outputs": [
    {
     "name": "stdout",
     "output_type": "stream",
     "text": [
      "(4730, 122539)\n"
     ]
    }
   ],
   "source": [
    "X_train = Tfidf_vectorizer.transform(new_text_train)\n",
    "y_train = label_train\n",
    "X_test = Tfidf_vectorizer.transform(new_text_test)\n",
    "y_test = label_test\n",
    "print(np.shape(X_train))"
   ]
  },
  {
   "cell_type": "code",
   "execution_count": 129,
   "metadata": {},
   "outputs": [],
   "source": [
    "def _svm_pipeline(global_idf):\n",
    "    Tfidf_vectorizer = TfidfVectorizer(ngram_range=(1,2),min_df =5,stop_words='english',max_df = 0.8)\n",
    "    #--------------------Vectorize----------------------\n",
    "    # Use the idf of whole text or only the idf of training dataset\n",
    "    if global_idf:\n",
    "        Tfidf_vectorizer = Tdidf_vectorizer.fit(new_text_total)\n",
    "    else:\n",
    "        Tfidf_vectorizer = Tdidf_vectorizer.fit(new_text_train)\n",
    "    X_train = Tfidf_vectorizer.transform(new_text_train)\n",
    "    y_train = label_train\n",
    "    X_test = Tfidf_vectorizer.transform(new_text_test)\n",
    "    y_test = label_test\n",
    "    print(np.shape(X_train))\n",
    "    #--------------------Training----------------------\n",
    "    SVC_clf = svm.SVC(class_weight = 'balanced',kernel = 'linear',probability=1)\n",
    "    SVC_clf.fit(X_train,y_train)\n",
    "    #--------------------Evaluation----------------------\n",
    "    y_pred = SVC_clf.predict(X_test)\n",
    "\n",
    "    y_pred_proba = SVC_clf.predict_proba(X_test)\n",
    "    y_pred = np.argmax(y_pred_proba,axis=-1)\n",
    "\n",
    "    print(metrics.classification_report(y_test, y_pred, target_names=['No_pressure_ulcer','pressure_ulcer']))\n",
    "    print(metrics.confusion_matrix(y_test,y_pred))\n",
    "    \n",
    "    y_pred_prob2 = y_pred_proba[:,1]\n",
    "    fpr,tpr,thres = roc_curve(y_test,y_pred_prob2)\n",
    "    print(sklearn.metrics.roc_auc_score(y_test, y_pred_prob2))\n",
    "    return sklearn.metrics.roc_auc_score(y_test, y_pred_prob2)"
   ]
  },
  {
   "cell_type": "code",
   "execution_count": 17,
   "metadata": {},
   "outputs": [
    {
     "name": "stdout",
     "output_type": "stream",
     "text": [
      "(4730, 15575)\n",
      "(4730, 19106)\n",
      "                   precision    recall  f1-score   support\n",
      "\n",
      "No_pressure_ulcer       0.88      0.90      0.89       789\n",
      "   pressure_ulcer       0.79      0.76      0.78       394\n",
      "\n",
      "         accuracy                           0.85      1183\n",
      "        macro avg       0.84      0.83      0.83      1183\n",
      "     weighted avg       0.85      0.85      0.85      1183\n",
      "\n",
      "[[709  80]\n",
      " [ 93 301]]\n",
      "0.926267266281935\n",
      "                   precision    recall  f1-score   support\n",
      "\n",
      "No_pressure_ulcer       0.89      0.90      0.90       789\n",
      "   pressure_ulcer       0.80      0.78      0.79       394\n",
      "\n",
      "         accuracy                           0.86      1183\n",
      "        macro avg       0.85      0.84      0.85      1183\n",
      "     weighted avg       0.86      0.86      0.86      1183\n",
      "\n",
      "[[712  77]\n",
      " [ 85 309]]\n",
      "0.9288793242104314\n",
      "298.75770568847656\n",
      "[0.9288793242104314, 0.926267266281935]\n"
     ]
    }
   ],
   "source": [
    "start = time.time()\n",
    "p = Pool(2)\n",
    "auc_result = p.map(_svm_pipeline_1gram, range(2))\n",
    "print(time.time() - start)\n",
    "print(auc_result)"
   ]
  },
  {
   "cell_type": "code",
   "execution_count": 145,
   "metadata": {
    "scrolled": true
   },
   "outputs": [
    {
     "name": "stdout",
     "output_type": "stream",
     "text": [
      "(17344, 351080)\n",
      "(17344, 433428)\n",
      "                   precision    recall  f1-score   support\n",
      "\n",
      "No_pressure_ulcer       0.94      0.99      0.96      3943\n",
      "   pressure_ulcer       0.73      0.40      0.52       394\n",
      "\n",
      "         accuracy                           0.93      4337\n",
      "        macro avg       0.84      0.69      0.74      4337\n",
      "     weighted avg       0.92      0.93      0.92      4337\n",
      "\n",
      "[[3884   59]\n",
      " [ 236  158]]\n",
      "0.9218566347095863\n",
      "                   precision    recall  f1-score   support\n",
      "\n",
      "No_pressure_ulcer       0.94      0.99      0.96      3943\n",
      "   pressure_ulcer       0.73      0.40      0.51       394\n",
      "\n",
      "         accuracy                           0.93      4337\n",
      "        macro avg       0.84      0.69      0.74      4337\n",
      "     weighted avg       0.92      0.93      0.92      4337\n",
      "\n",
      "[[3886   57]\n",
      " [ 238  156]]\n",
      "0.923470688272348\n",
      "7141.79450917244\n",
      "[0.923470688272348, 0.9218566347095863]\n"
     ]
    },
    {
     "name": "stderr",
     "output_type": "stream",
     "text": [
      "Process ForkPoolWorker-6:\n",
      "Process ForkPoolWorker-5:\n",
      "Traceback (most recent call last):\n",
      "Traceback (most recent call last):\n",
      "  File \"/export/home/tzzhang/.pyenv/versions/3.5.2/lib/python3.5/multiprocessing/process.py\", line 249, in _bootstrap\n",
      "    self.run()\n",
      "  File \"/export/home/tzzhang/.pyenv/versions/3.5.2/lib/python3.5/multiprocessing/process.py\", line 249, in _bootstrap\n",
      "    self.run()\n",
      "  File \"/export/home/tzzhang/.pyenv/versions/3.5.2/lib/python3.5/multiprocessing/process.py\", line 93, in run\n",
      "    self._target(*self._args, **self._kwargs)\n",
      "  File \"/export/home/tzzhang/.pyenv/versions/3.5.2/lib/python3.5/multiprocessing/process.py\", line 93, in run\n",
      "    self._target(*self._args, **self._kwargs)\n",
      "  File \"/export/home/tzzhang/.pyenv/versions/3.5.2/lib/python3.5/multiprocessing/pool.py\", line 108, in worker\n",
      "    task = get()\n",
      "  File \"/export/home/tzzhang/.pyenv/versions/3.5.2/lib/python3.5/multiprocessing/pool.py\", line 108, in worker\n",
      "    task = get()\n",
      "  File \"/export/home/tzzhang/.pyenv/versions/3.5.2/lib/python3.5/multiprocessing/queues.py\", line 342, in get\n",
      "    with self._rlock:\n",
      "  File \"/export/home/tzzhang/.pyenv/versions/3.5.2/lib/python3.5/multiprocessing/queues.py\", line 343, in get\n",
      "    res = self._reader.recv_bytes()\n",
      "  File \"/export/home/tzzhang/.pyenv/versions/3.5.2/lib/python3.5/multiprocessing/synchronize.py\", line 96, in __enter__\n",
      "    return self._semlock.__enter__()\n",
      "  File \"/export/home/tzzhang/.pyenv/versions/3.5.2/lib/python3.5/multiprocessing/connection.py\", line 216, in recv_bytes\n",
      "    buf = self._recv_bytes(maxlength)\n",
      "KeyboardInterrupt\n",
      "  File \"/export/home/tzzhang/.pyenv/versions/3.5.2/lib/python3.5/multiprocessing/connection.py\", line 407, in _recv_bytes\n",
      "    buf = self._recv(4)\n",
      "  File \"/export/home/tzzhang/.pyenv/versions/3.5.2/lib/python3.5/multiprocessing/connection.py\", line 379, in _recv\n",
      "    chunk = read(handle, remaining)\n",
      "KeyboardInterrupt\n"
     ]
    }
   ],
   "source": [
    "start = time.time()\n",
    "p = Pool(2)\n",
    "auc_result = p.map(_svm_pipeline, range(2))\n",
    "print(time.time() - start)\n",
    "print(auc_result)"
   ]
  },
  {
   "cell_type": "code",
   "execution_count": 146,
   "metadata": {},
   "outputs": [
    {
     "data": {
      "text/plain": [
       "[0.923470688272348, 0.9218566347095863]"
      ]
     },
     "execution_count": 146,
     "metadata": {},
     "output_type": "execute_result"
    }
   ],
   "source": [
    "auc_result"
   ]
  },
  {
   "cell_type": "code",
   "execution_count": 125,
   "metadata": {},
   "outputs": [
    {
     "name": "stdout",
     "output_type": "stream",
     "text": [
      "                   precision    recall  f1-score   support\n",
      "\n",
      "No_pressure_ulcer       0.90      0.90      0.90       789\n",
      "   pressure_ulcer       0.80      0.79      0.79       394\n",
      "\n",
      "         accuracy                           0.86      1183\n",
      "        macro avg       0.85      0.84      0.84      1183\n",
      "     weighted avg       0.86      0.86      0.86      1183\n",
      "\n",
      "[[709  80]\n",
      " [ 83 311]]\n"
     ]
    }
   ],
   "source": [
    "SVC_clf = svm.SVC(class_weight = 'balanced',kernel = 'linear',probability=1)\n",
    "SVC_clf.fit(X_train,y_train)\n",
    "y_pred = SVC_clf.predict(X_test)\n",
    "\n",
    "y_pred_proba = SVC_clf.predict_proba(X_test)\n",
    "y_pred = np.argmax(y_pred_proba,axis=-1)\n",
    "\n",
    "print(metrics.classification_report(y_test, y_pred, target_names=['No_pressure_ulcer','pressure_ulcer']))\n",
    "print(metrics.confusion_matrix(y_test,y_pred))"
   ]
  },
  {
   "cell_type": "code",
   "execution_count": 126,
   "metadata": {},
   "outputs": [
    {
     "name": "stdout",
     "output_type": "stream",
     "text": [
      "0.9342192455913481\n"
     ]
    },
    {
     "data": {
      "image/png": "[encoded data removed]",
      "text/plain": [
       "<Figure size 432x288 with 1 Axes>"
      ]
     },
     "metadata": {
      "needs_background": "light"
     },
     "output_type": "display_data"
    }
   ],
   "source": [
    "from sklearn.metrics import roc_curve, auc\n",
    "import sklearn\n",
    "y_pred_prob2 = y_pred_proba[:,1]\n",
    "fpr,tpr,thres = roc_curve(y_test,y_pred_prob2)\n",
    "print(sklearn.metrics.roc_auc_score(y_test, y_pred_prob2))\n",
    "\n",
    "import matplotlib.pyplot as plt\n",
    "plt.figure(1)\n",
    "plt.plot([0, 1], [0, 1], 'k--')\n",
    "plt.plot(fpr, tpr, label='SVM')\n",
    "plt.xlabel('False positive rate')\n",
    "plt.ylabel('True positive rate')\n",
    "plt.title('ROC curve')\n",
    "plt.legend(loc='best')\n",
    "plt.show()"
   ]
  },
  {
   "cell_type": "code",
   "execution_count": 11,
   "metadata": {},
   "outputs": [
    {
     "data": {
      "text/plain": [
       "(21681, 433428)"
      ]
     },
     "execution_count": 11,
     "metadata": {},
     "output_type": "execute_result"
    }
   ],
   "source": [
    "np.shape(Count_vec)"
   ]
  },
  {
   "cell_type": "code",
   "execution_count": 13,
   "metadata": {},
   "outputs": [
    {
     "name": "stdout",
     "output_type": "stream",
     "text": [
      "                   precision    recall  f1-score   support\n",
      "\n",
      "No_pressure_ulcer       0.97      0.83      0.90      3943\n",
      "   pressure_ulcer       0.31      0.76      0.44       394\n",
      "\n",
      "         accuracy                           0.83      4337\n",
      "        macro avg       0.64      0.80      0.67      4337\n",
      "     weighted avg       0.91      0.83      0.86      4337\n",
      "\n"
     ]
    }
   ],
   "source": [
    "X_train, X_test, y_train, y_test = train_test_split(Count_vec, label_total, test_size=0.2, random_state=42,stratify=label_total)\n",
    "clf = MultinomialNB()\n",
    "clf.fit(X_train,y_train)\n",
    "y_pred = clf.predict(X_test)\n",
    "print(metrics.classification_report(y_test, y_pred, target_names=['No_pressure_ulcer','pressure_ulcer']))"
   ]
  },
  {
   "cell_type": "code",
   "execution_count": 16,
   "metadata": {},
   "outputs": [
    {
     "name": "stdout",
     "output_type": "stream",
     "text": [
      "                   precision    recall  f1-score   support\n",
      "\n",
      "No_pressure_ulcer       0.97      0.84      0.90      3940\n",
      "   pressure_ulcer       0.32      0.76      0.45       397\n",
      "\n",
      "         accuracy                           0.83      4337\n",
      "        macro avg       0.65      0.80      0.68      4337\n",
      "     weighted avg       0.91      0.83      0.86      4337\n",
      "\n"
     ]
    }
   ],
   "source": [
    "X_train, X_test, y_train, y_test = train_test_split(Count_vec, label_total, test_size=0.2, random_state=42)\n",
    "clf = ComplementNB()\n",
    "clf.fit(X_train,y_train)\n",
    "y_pred = clf.predict(X_test)\n",
    "print(metrics.classification_report(y_test, y_pred, target_names=['No_pressure_ulcer','pressure_ulcer']))"
   ]
  },
  {
   "cell_type": "code",
   "execution_count": 17,
   "metadata": {},
   "outputs": [
    {
     "data": {
      "text/plain": [
       "array([[3308,  632],\n",
       "       [  95,  302]])"
      ]
     },
     "execution_count": 17,
     "metadata": {},
     "output_type": "execute_result"
    }
   ],
   "source": [
    "metrics.confusion_matrix(y_test,y_pred)"
   ]
  },
  {
   "cell_type": "code",
   "execution_count": 18,
   "metadata": {},
   "outputs": [
    {
     "data": {
      "text/plain": [
       "0.4537941397445529"
      ]
     },
     "execution_count": 18,
     "metadata": {},
     "output_type": "execute_result"
    }
   ],
   "source": [
    "metrics.f1_score(y_test,y_pred)"
   ]
  },
  {
   "cell_type": "code",
   "execution_count": null,
   "metadata": {},
   "outputs": [],
   "source": [
    "svm.SVC(gamma='scale')"
   ]
  },
  {
   "cell_type": "code",
   "execution_count": null,
   "metadata": {
    "scrolled": true
   },
   "outputs": [
    {
     "name": "stdout",
     "output_type": "stream",
     "text": [
      "Fitting 5 folds for each of 72 candidates, totalling 360 fits\n"
     ]
    },
    {
     "name": "stderr",
     "output_type": "stream",
     "text": [
      "[Parallel(n_jobs=-1)]: Using backend LokyBackend with 40 concurrent workers.\n",
      "[Parallel(n_jobs=-1)]: Done 120 tasks      | elapsed:  3.6min\n"
     ]
    }
   ],
   "source": [
    "# Grid Search for NB parameters\n",
    "from sklearn.pipeline import Pipeline\n",
    "from sklearn.model_selection import GridSearchCV\n",
    "from sklearn.pipeline_helper import PipelineHelper\n",
    "X = new_text_total\n",
    "Y = label_total\n",
    "pipe = Pipeline([\n",
    "    ('vectorizer', PipelineHelper([\n",
    "        ('count', CountVectorizer(stop_words='english'),\n",
    "        ('tfidf', TfidfVectorizer(stop_words='english'),\n",
    "    ])),\n",
    "    ('classifier', PipelineHelper([\n",
    "        ('Multinomial', MultinomialNB()),\n",
    "        ('Complement', ComplementNB()),\n",
    "    ])),\n",
    "])\n",
    "\n",
    "params = {\n",
    "    'vectorizer__selected_model': pipe.named_steps['vectorizer'].generate({\n",
    "        'count__ngram_range': [(1,1),(1,2),(1,3)],\n",
    "        'count__min_df': [5,10],\n",
    "        'count__max_df': [0.4,0.6,0.8],\n",
    "        'tfidf__ngram_range': [(1,1),(1,2),(1,3)],\n",
    "        'tfidf__min_df':[5,10],\n",
    "        'tfidf__max_df':[0.4,0.6,0.8],\n",
    "    }),\n",
    "    'classifier__selected_model': pipe.named_steps['classifier'].generate({\n",
    "        'Multinomial__alpha': [1.0],\n",
    "        'Complement__alpha': [1.0],\n",
    "    })\n",
    "}\n",
    "grid = GridSearchCV(pipe, params, scoring='accuracy', verbose=1,cv=5,n_jobs=-1)\n",
    "grid.fit(X, Y)\n",
    "print(grid.best_params_)\n",
    "print(grid.best_score_)\n"
   ]
  },
  {
   "cell_type": "code",
   "execution_count": 20,
   "metadata": {},
   "outputs": [
    {
     "name": "stdout",
     "output_type": "stream",
     "text": [
      "{'vectorizer__selected_model': ('tfidf', {'min_df': 10, 'ngram_range': (1, 1), 'max_df': 0.4}), 'classifier__selected_model': ('Multinomial', {'alpha': 1.0})}\n"
     ]
    }
   ],
   "source": [
    "print(grid.best_params_)"
   ]
  },
  {
   "cell_type": "code",
   "execution_count": 9,
   "metadata": {},
   "outputs": [
    {
     "name": "stdout",
     "output_type": "stream",
     "text": [
      "(7884, 13921)\n",
      "                   precision    recall  f1-score   support\n",
      "\n",
      "No_pressure_ulcer       0.82      0.96      0.89      1170\n",
      "    ressure_ulcer       0.79      0.41      0.54       407\n",
      "\n",
      "         accuracy                           0.82      1577\n",
      "        macro avg       0.80      0.69      0.71      1577\n",
      "     weighted avg       0.81      0.82      0.80      1577\n",
      "\n",
      "[[1124   46]\n",
      " [ 239  168]]\n"
     ]
    }
   ],
   "source": [
    "Tfidf_vectorizer =TfidfVectorizer(ngram_range=(1,1),min_df =10,stop_words='english',token_pattern=r\"(?u)\\b\\d?[a-z]{2,}\\d?\\b\",max_df = 0.8)\n",
    "Tfidf_vec = Tfidf_vectorizer.fit_transform(new_text_total)\n",
    "print(np.shape(Tfidf_vec))\n",
    "X_train, X_test, y_train, y_test = train_test_split(Tfidf_vec, label_total, test_size=0.2, random_state=41)\n",
    "clf = MultinomialNB()\n",
    "clf.fit(X_train,y_train)\n",
    "y_pred = clf.predict(X_test)\n",
    "print(metrics.classification_report(y_test, y_pred, target_names=['No_pressure_ulcer','ressure_ulcer']))\n",
    "print(metrics.confusion_matrix(y_test,y_pred))"
   ]
  },
  {
   "cell_type": "markdown",
   "metadata": {},
   "source": [
    "                   precision    recall  f1-score   support\n",
    "\n",
    "No_pressure_ulcer       0.86      0.88      0.87       797\n",
    "    ressure_ulcer       0.74      0.69      0.72       386\n",
    "\n",
    "         accuracy                           0.82      1183\n",
    "        macro avg       0.80      0.79      0.79      1183\n",
    "     weighted avg       0.82      0.82      0.82      1183\n",
    "\n",
    "[[704  93]\n",
    " [119 267]]"
   ]
  },
  {
   "cell_type": "markdown",
   "metadata": {},
   "source": [
    "# 正常SVM"
   ]
  },
  {
   "cell_type": "code",
   "execution_count": 6,
   "metadata": {},
   "outputs": [],
   "source": [
    "import pickle\n",
    "ratio=2\n",
    "src_dir = './pu_data_ratio_Clarity' + str(ratio) +'/'\n",
    "text_train = pickle.load(open(src_dir+'text_train_stratified.pkl','rb'))\n",
    "label_train = pickle.load(open(src_dir+'label_train_stratified.pkl','rb'))\n",
    "text_test = pickle.load(open(src_dir+'text_test_stratified.pkl','rb'))\n",
    "label_test = pickle.load(open(src_dir+'label_test_stratified.pkl','rb'))\n",
    "text_train.extend(text_test)\n",
    "label_train.extend(label_test)\n",
    "text_total = text_train\n",
    "label_total = label_train\n",
    "new_text_total = utils.back_to_doc(text_total)\n",
    "text_train = pickle.load(open(src_dir+'text_train_stratified.pkl','rb'))\n",
    "label_train = pickle.load(open(src_dir+'label_train_stratified.pkl','rb'))\n",
    "new_text_train = utils.back_to_doc(text_train)\n",
    "new_text_test = utils.back_to_doc(text_test)"
   ]
  },
  {
   "cell_type": "code",
   "execution_count": 9,
   "metadata": {},
   "outputs": [],
   "source": [
    "def _svm_pipeline_1gram(global_idf):\n",
    "    Tfidf_vectorizer = TfidfVectorizer(ngram_range=(1,1),min_df =5,stop_words='english',max_df = 0.8)\n",
    "    #--------------------Vectorize----------------------\n",
    "    # Use the idf of whole text or only the idf of training dataset\n",
    "    if global_idf:\n",
    "        Tfidf_vectorizer = Tfidf_vectorizer.fit(new_text_total)\n",
    "    else:\n",
    "        Tfidf_vectorizer = Tfidf_vectorizer.fit(new_text_train)\n",
    "    X_train = Tfidf_vectorizer.transform(new_text_train)\n",
    "    y_train = label_train\n",
    "    X_test = Tfidf_vectorizer.transform(new_text_test)\n",
    "    y_test = label_test\n",
    "    print(np.shape(X_train))\n",
    "    #--------------------Training----------------------\n",
    "    SVC_clf = svm.SVC(class_weight = 'balanced',kernel = 'linear',probability=1)\n",
    "    SVC_clf.fit(X_train,y_train)\n",
    "    #--------------------Evaluation----------------------\n",
    "    y_pred = SVC_clf.predict(X_test)\n",
    "\n",
    "    y_pred_proba = SVC_clf.predict_proba(X_test)\n",
    "    y_pred = np.argmax(y_pred_proba,axis=-1)\n",
    "\n",
    "    print(metrics.classification_report(y_test, y_pred, target_names=['No_pressure_ulcer','pressure_ulcer']))\n",
    "    print(metrics.confusion_matrix(y_test,y_pred))\n",
    "    \n",
    "    y_pred_prob2 = y_pred_proba[:,1]\n",
    "    fpr,tpr,thres = roc_curve(y_test,y_pred_prob2)\n",
    "    print(sklearn.metrics.roc_auc_score(y_test, y_pred_prob2))\n",
    "    return sklearn.metrics.roc_auc_score(y_test, y_pred_prob2)"
   ]
  },
  {
   "cell_type": "code",
   "execution_count": 10,
   "metadata": {},
   "outputs": [
    {
     "name": "stdout",
     "output_type": "stream",
     "text": [
      "(4730, 17292)\n",
      "(4730, 19106)\n",
      "                   precision    recall  f1-score   support\n",
      "\n",
      "No_pressure_ulcer       0.89      0.90      0.89       789\n",
      "   pressure_ulcer       0.79      0.78      0.78       394\n",
      "\n",
      "         accuracy                           0.86      1183\n",
      "        macro avg       0.84      0.84      0.84      1183\n",
      "     weighted avg       0.86      0.86      0.86      1183\n",
      "\n",
      "[[709  80]\n",
      " [ 88 306]]\n",
      "0.926978183526021\n",
      "                   precision    recall  f1-score   support\n",
      "\n",
      "No_pressure_ulcer       0.89      0.90      0.90       789\n",
      "   pressure_ulcer       0.80      0.78      0.79       394\n",
      "\n",
      "         accuracy                           0.86      1183\n",
      "        macro avg       0.84      0.84      0.84      1183\n",
      "     weighted avg       0.86      0.86      0.86      1183\n",
      "\n",
      "[[711  78]\n",
      " [ 88 306]]\n",
      "0.9270425199282005\n",
      "319.71243834495544\n",
      "[0.926978183526021, 0.9270425199282005]\n"
     ]
    }
   ],
   "source": [
    "start = time.time()\n",
    "p = Pool(2)\n",
    "auc_result = p.map(_svm_pipeline_1gram, range(2))\n",
    "print(time.time() - start)\n",
    "print(auc_result)"
   ]
  },
  {
   "cell_type": "code",
   "execution_count": 106,
   "metadata": {},
   "outputs": [
    {
     "data": {
      "text/plain": [
       "5913"
      ]
     },
     "execution_count": 106,
     "metadata": {},
     "output_type": "execute_result"
    }
   ],
   "source": [
    "len(new_text_total)"
   ]
  },
  {
   "cell_type": "code",
   "execution_count": 107,
   "metadata": {},
   "outputs": [],
   "source": [
    "Tfidf_vectorizer = TfidfVectorizer(ngram_range=(1,2),min_df =5,stop_words='english',max_df = 0.8)\n",
    "Tfidf_vectorizer = Tdidf_vectorizer.fit(new_text_total)"
   ]
  },
  {
   "cell_type": "code",
   "execution_count": 108,
   "metadata": {},
   "outputs": [
    {
     "name": "stdout",
     "output_type": "stream",
     "text": [
      "(4730, 149922)\n"
     ]
    }
   ],
   "source": [
    "#Tfidf_vectorizer =TfidfVectorizer(ngram_range=(1,2),min_df =5,stop_words='english',max_df = 0.8,vocabulary = whole_vocab)\n",
    "X_train = Tfidf_vectorizer.transform(new_text_train)\n",
    "y_train = label_train\n",
    "X_test = Tfidf_vectorizer.transform(new_text_test)\n",
    "y_test = label_test\n",
    "print(np.shape(X_train))"
   ]
  },
  {
   "cell_type": "code",
   "execution_count": 19,
   "metadata": {},
   "outputs": [],
   "source": [
    "clf2 = svm.SVC(kernel = 'linear',gamma = 'scale')\n",
    "clf2.fit(X_train,y_train)\n",
    "y_pred = clf2.predict(X_test)"
   ]
  },
  {
   "cell_type": "code",
   "execution_count": 70,
   "metadata": {},
   "outputs": [
    {
     "name": "stdout",
     "output_type": "stream",
     "text": [
      "{'vectorizer__selected_model': ('tfidf', {'max_df': 0.4, 'min_df': 5, 'ngram_range': (1, 2)}), 'classifier__selected_model': ('Linear_SVM', {'class_weight': 'balanced'})}\n",
      "0.8001768844593624\n"
     ]
    }
   ],
   "source": [
    "print(grid.best_params_)\n",
    "print(grid.best_score_)"
   ]
  },
  {
   "cell_type": "code",
   "execution_count": 57,
   "metadata": {},
   "outputs": [
    {
     "name": "stdout",
     "output_type": "stream",
     "text": [
      "(5913, 149922)\n"
     ]
    }
   ],
   "source": [
    "X_train, X_test, y_train, y_test = train_test_split(Tdidf_vec, label_total, test_size=0.2, random_state=42,stratify=label_total)"
   ]
  },
  {
   "cell_type": "code",
   "execution_count": 60,
   "metadata": {},
   "outputs": [
    {
     "data": {
      "text/plain": [
       "(4730, 149922)"
      ]
     },
     "execution_count": 60,
     "metadata": {},
     "output_type": "execute_result"
    }
   ],
   "source": [
    "np.shape(X_train)"
   ]
  },
  {
   "cell_type": "code",
   "execution_count": 109,
   "metadata": {},
   "outputs": [
    {
     "name": "stdout",
     "output_type": "stream",
     "text": [
      "                   precision    recall  f1-score   support\n",
      "\n",
      "No_pressure_ulcer       0.89      0.90      0.90       789\n",
      "   pressure_ulcer       0.80      0.79      0.79       394\n",
      "\n",
      "         accuracy                           0.86      1183\n",
      "        macro avg       0.85      0.84      0.85      1183\n",
      "     weighted avg       0.86      0.86      0.86      1183\n",
      "\n",
      "[[711  78]\n",
      " [ 84 310]]\n"
     ]
    }
   ],
   "source": [
    "SVC_clf = svm.SVC(class_weight = 'balanced',kernel = 'linear',probability=1)\n",
    "SVC_clf.fit(X_train,y_train)\n",
    "y_pred = SVC_clf.predict(X_test)\n",
    "\n",
    "y_pred_proba = SVC_clf.predict_proba(X_test)\n",
    "y_pred = np.argmax(y_pred_proba,axis=-1)\n",
    "\n",
    "print(metrics.classification_report(y_test, y_pred, target_names=['No_pressure_ulcer','pressure_ulcer']))\n",
    "print(metrics.confusion_matrix(y_test,y_pred))"
   ]
  },
  {
   "cell_type": "code",
   "execution_count": 110,
   "metadata": {},
   "outputs": [
    {
     "name": "stdout",
     "output_type": "stream",
     "text": [
      "0.9326397869178359\n"
     ]
    },
    {
     "data": {
      "image/png": "[encoded data removed]",
      "text/plain": [
       "<Figure size 432x288 with 1 Axes>"
      ]
     },
     "metadata": {
      "needs_background": "light"
     },
     "output_type": "display_data"
    }
   ],
   "source": [
    "from sklearn.metrics import roc_curve, auc\n",
    "import sklearn\n",
    "y_pred_prob2 = y_pred_proba[:,1]\n",
    "fpr,tpr,thres = roc_curve(y_test,y_pred_prob2)\n",
    "print(sklearn.metrics.roc_auc_score(y_test, y_pred_prob2))\n",
    "\n",
    "import matplotlib.pyplot as plt\n",
    "plt.figure(1)\n",
    "plt.plot([0, 1], [0, 1], 'k--')\n",
    "plt.plot(fpr, tpr, label='SVM')\n",
    "plt.xlabel('False positive rate')\n",
    "plt.ylabel('True positive rate')\n",
    "plt.title('ROC curve')\n",
    "plt.legend(loc='best')\n",
    "plt.show()"
   ]
  },
  {
   "cell_type": "code",
   "execution_count": 30,
   "metadata": {},
   "outputs": [
    {
     "name": "stdout",
     "output_type": "stream",
     "text": [
      "                   precision    recall  f1-score   support\n",
      "\n",
      "No_pressure_ulcer       0.93      0.99      0.96      3940\n",
      "   pressure_ulcer       0.70      0.27      0.39       397\n",
      "\n",
      "         accuracy                           0.92      4337\n",
      "        macro avg       0.82      0.63      0.67      4337\n",
      "     weighted avg       0.91      0.92      0.91      4337\n",
      "\n",
      "[[3895   45]\n",
      " [ 290  107]]\n"
     ]
    }
   ],
   "source": [
    "print(metrics.classification_report(y_test, y_pred, target_names=['No_pressure_ulcer','pressure_ulcer']))\n",
    "print(metrics.confusion_matrix(y_test,y_pred))"
   ]
  },
  {
   "cell_type": "code",
   "execution_count": 32,
   "metadata": {},
   "outputs": [
    {
     "data": {
      "text/plain": [
       "array([[0.75815417, 0.24184583],\n",
       "       [0.35019152, 0.64980848],\n",
       "       [0.96622018, 0.03377982],\n",
       "       ...,\n",
       "       [0.9179925 , 0.0820075 ],\n",
       "       [0.96096659, 0.03903341],\n",
       "       [0.94485377, 0.05514623]])"
      ]
     },
     "execution_count": 32,
     "metadata": {},
     "output_type": "execute_result"
    }
   ],
   "source": [
    "y_pred_proba"
   ]
  },
  {
   "cell_type": "code",
   "execution_count": 31,
   "metadata": {},
   "outputs": [
    {
     "data": {
      "text/plain": [
       "0.38979963570127507"
      ]
     },
     "execution_count": 31,
     "metadata": {},
     "output_type": "execute_result"
    }
   ],
   "source": [
    "metrics.f1_score(y_test,y_pred)"
   ]
  },
  {
   "cell_type": "code",
   "execution_count": 34,
   "metadata": {},
   "outputs": [
    {
     "data": {
      "text/plain": [
       "(4337,)"
      ]
     },
     "execution_count": 34,
     "metadata": {},
     "output_type": "execute_result"
    }
   ],
   "source": [
    "np.shape(y_test)"
   ]
  },
  {
   "cell_type": "code",
   "execution_count": 35,
   "metadata": {},
   "outputs": [
    {
     "data": {
      "text/plain": [
       "(4337, 2)"
      ]
     },
     "execution_count": 35,
     "metadata": {},
     "output_type": "execute_result"
    }
   ],
   "source": [
    "np.shape(y_pred_proba)"
   ]
  },
  {
   "cell_type": "code",
   "execution_count": 36,
   "metadata": {},
   "outputs": [],
   "source": [
    "y_pred_pos_proba = y_pred_proba[:,1]"
   ]
  },
  {
   "cell_type": "code",
   "execution_count": 38,
   "metadata": {},
   "outputs": [
    {
     "data": {
      "text/plain": [
       "array([0.24184583, 0.64980848, 0.03377982, ..., 0.0820075 , 0.03903341,\n",
       "       0.05514623])"
      ]
     },
     "execution_count": 38,
     "metadata": {},
     "output_type": "execute_result"
    }
   ],
   "source": [
    "y_pred_pos_proba"
   ]
  },
  {
   "cell_type": "code",
   "execution_count": 37,
   "metadata": {},
   "outputs": [
    {
     "data": {
      "text/plain": [
       "0.8731776394021149"
      ]
     },
     "execution_count": 37,
     "metadata": {},
     "output_type": "execute_result"
    }
   ],
   "source": [
    "import sklearn\n",
    "sklearn.metrics.roc_auc_score(y_test, y_pred_pos_proba)"
   ]
  },
  {
   "cell_type": "code",
   "execution_count": 40,
   "metadata": {},
   "outputs": [],
   "source": [
    "fpr,tpr,thres = sklearn.metrics.roc_curve(y_test,y_pred_pos_proba)\n",
    "fpr_20bert = np.load('/gpfs/qlong/home/tzzhang/mimicIII/nn_code/exp/fpr.npy')\n",
    "tpr_20bert = np.load('/gpfs/qlong/home/tzzhang/mimicIII/nn_code/exp/tpr.npy')"
   ]
  },
  {
   "cell_type": "code",
   "execution_count": 42,
   "metadata": {},
   "outputs": [
    {
     "data": {
      "image/png": "[encoded data removed]",
      "text/plain": [
       "<Figure size 432x288 with 1 Axes>"
      ]
     },
     "metadata": {
      "needs_background": "light"
     },
     "output_type": "display_data"
    }
   ],
   "source": [
    "import matplotlib.pyplot as plt\n",
    "from sklearn.metrics import roc_curve, auc\n",
    "\n",
    "plt.figure(1)\n",
    "plt.plot([0, 1], [0, 1], 'k--')\n",
    "plt.plot(fpr_20bert, tpr_20bert, label='best')\n",
    "plt.plot(fpr, tpr, label='this one')\n",
    "plt.xlabel('False positive rate')\n",
    "plt.ylabel('True positive rate')\n",
    "plt.title('ROC curve')\n",
    "plt.legend(loc='best')\n",
    "plt.show()"
   ]
  },
  {
   "cell_type": "code",
   "execution_count": 23,
   "metadata": {},
   "outputs": [
    {
     "ename": "NameError",
     "evalue": "name 'Tdidf_vectorizer' is not defined",
     "output_type": "error",
     "traceback": [
      "\u001b[0;31m---------------------------------------------------------------------------\u001b[0m",
      "\u001b[0;31mNameError\u001b[0m                                 Traceback (most recent call last)",
      "\u001b[0;32m<ipython-input-23-a36767d0587d>\u001b[0m in \u001b[0;36m<module>\u001b[0;34m\u001b[0m\n\u001b[1;32m      2\u001b[0m \u001b[0;32mimport\u001b[0m \u001b[0mimp\u001b[0m\u001b[0;34m\u001b[0m\u001b[0m\n\u001b[1;32m      3\u001b[0m \u001b[0mimp\u001b[0m\u001b[0;34m.\u001b[0m\u001b[0mreload\u001b[0m\u001b[0;34m(\u001b[0m\u001b[0mtools\u001b[0m\u001b[0;34m)\u001b[0m\u001b[0;34m\u001b[0m\u001b[0m\n\u001b[0;32m----> 4\u001b[0;31m \u001b[0mpos_words\u001b[0m \u001b[0;34m=\u001b[0m \u001b[0mtools\u001b[0m\u001b[0;34m.\u001b[0m\u001b[0mshow_word\u001b[0m\u001b[0;34m(\u001b[0m\u001b[0mTdidf_vectorizer\u001b[0m\u001b[0;34m,\u001b[0m\u001b[0mSVC_clf\u001b[0m\u001b[0;34m,\u001b[0m\u001b[0;36m200\u001b[0m\u001b[0;34m,\u001b[0m\u001b[0mwords_count\u001b[0m\u001b[0;34m,\u001b[0m\u001b[0mcount_thres\u001b[0m \u001b[0;34m=\u001b[0m \u001b[0;36m20\u001b[0m\u001b[0;34m,\u001b[0m\u001b[0mfor_pos\u001b[0m \u001b[0;34m=\u001b[0m \u001b[0;32mTrue\u001b[0m\u001b[0;34m)\u001b[0m\u001b[0;34m\u001b[0m\u001b[0m\n\u001b[0m\u001b[1;32m      5\u001b[0m \u001b[0mprint\u001b[0m\u001b[0;34m(\u001b[0m\u001b[0mpos_words\u001b[0m\u001b[0;34m)\u001b[0m\u001b[0;34m\u001b[0m\u001b[0m\n",
      "\u001b[0;31mNameError\u001b[0m: name 'Tdidf_vectorizer' is not defined"
     ]
    }
   ],
   "source": [
    "import tools\n",
    "import imp\n",
    "imp.reload(tools)\n",
    "pos_words = tools.show_word(Tdidf_vectorizer,SVC_clf,200,words_count,count_thres = 20,for_pos = True)\n",
    "print(pos_words)"
   ]
  },
  {
   "cell_type": "code",
   "execution_count": 27,
   "metadata": {},
   "outputs": [
    {
     "name": "stdout",
     "output_type": "stream",
     "text": [
      "0.09206149367533677\n",
      "['rehab stay', 'fromon', 'discharged fromon', 'read', 'facility rehabilitation', 'physician discharge', 'health discharge', 'attending', 'diagnosis congestive', 'failure systolic', 'penicillins heparin', 'facility healthcare', 'ulcer', 'pressure ulcer', 'patient dnr', 'decubitus', 'cxr stable', 'home health', 'healthcare center', '30 days', 'stable unchanged', 'attending physician', 'checked negative', 'dx', 'hiv antibody', 'stable cxr', 'urology allergies', 'service urology', 'antibody test', 'discharge md', 'disposition extended', 'thursdayat 20', 'thursdayat', 'md discharge', 'pm discharge', 'patient stable', 'stage', 'physician', 'facility nursing', 'appointment dr', 'coccyx', 'dr arranged', 'attending addendum', 'failed', 'arranged', 'included', 'lasix decreased', 'decreased 20', 'negative discharge', 'sacral', 'failed improve', 'improve patient', 'chronic acute', 'discharge discharge', 'clinic notes', 'betweenand', 'amoxicillin attending', 'discharged coumadin', '1000mg daily', 'recommendations discharge', 'anesthesia', 'antibody', 'care vna', 'insurance issues', 'sirs', 'discharged toon', 'medications vancomycin', 'daily po', 'dnr', 'agents attending', 'hr discharge', 'vancomycin iv', 'recommended outpatient', 'rehab discharged', 'peaked', 'placement tube', 'patient pulmonary', 'recommendations', 'allergies amoxicillin', 'healthcare', '7pm', 'care patient', 'secondary patient', 'saw patient', 'dialysis discharge', 'ms remained', 'thought likely', 'facility home', 'nursing rehabilitation', 'heparin agents', 'discharge diagnosis', 'inhibitor beta', 'resolved treatment', 'penicillins attending', 'clinical', 'patient recommended', 'latex', 'today', 'improved chest', 'addendum discharge', 'conveyed', 'eval', 'northeast', 'facility northeast', 'improvment', 'cholestasis', 'checked', 'rhabdomyolysis', 'nursing rehab', 'pneumonia discharge', 'documented', 'amoxicillin', 'augmentin', 'id recommendations', 'medicine allergies', 'neurologist', 'toon', 'decreased', 'treatment pneumonia', 'issues', 'rehab discharge', 'patient hospital', 'incorrectly', 'hydrochlorothiazide attending', 'admission ruled', 'vancomycin discharge', 'dnr dni', 'dni', 'nature', 'bacterial meningitis', 'stage pressure', 'removal discharge', 'po antibiotics', 'symptoms thought', 'patient incontinent', 'cardiac origin', 'summary', 'incontinent', 'penicillins aspirin', 'hypotension admission', 'exacerbation discharge', 'took care', 'mild renal', 'cvicu', 'saw', 'patient clinical', 'discharge growth', 'meningitis', 'park', 'decubitus ulcer', 'diagnosis mild', 'following removal', 'inr lovenox', 'intern', 'nph', 'longterm', 'presumed secondary', 'discharge inr', 'maintain', 'onher', 'contrast study', 'lovenox injections', 'issues blood', 'transitional', 'po vancomycin', 'discharge summary', 'abd pelvis', 'allergies latex', 'lovenox', 'tolerate', 'retention', 'flexiseal', 'anticoagulation therapy', 'troponin', 'ms discharged', 'want', 'service medicine', 'congestive', 'acute diastolic', 'consider', 'eeg', 'failure presumed', 'ventilator associated', 'sma', 'incisions', 'addendum ms', 'removed prior', 'sulfasalazine', 'obtain', 'vitamin b12', 'days discharge', 'abg', 'baseline following', 'records obtained', 'demerol', 'ulcers', 'lower ext', 'sulfa sulfonamides', 'insurance', 'turning']\n"
     ]
    }
   ],
   "source": [
    "import tools\n",
    "import imp\n",
    "imp.reload(tools)\n",
    "pos_words = tools.show_word(Count_vectorizer,SVC_clf,200,words_count,count_thres = 20,for_pos = True)\n",
    "print(pos_words)"
   ]
  },
  {
   "cell_type": "code",
   "execution_count": 28,
   "metadata": {},
   "outputs": [
    {
     "ename": "NameError",
     "evalue": "name 'Tdidf_vectorizer' is not defined",
     "output_type": "error",
     "traceback": [
      "\u001b[0;31m---------------------------------------------------------------------------\u001b[0m",
      "\u001b[0;31mNameError\u001b[0m                                 Traceback (most recent call last)",
      "\u001b[0;32m<ipython-input-28-4bb8747643b2>\u001b[0m in \u001b[0;36m<module>\u001b[0;34m\u001b[0m\n\u001b[0;32m----> 1\u001b[0;31m \u001b[0mneg_words\u001b[0m \u001b[0;34m=\u001b[0m \u001b[0mtools\u001b[0m\u001b[0;34m.\u001b[0m\u001b[0mshow_word\u001b[0m\u001b[0;34m(\u001b[0m\u001b[0mTdidf_vectorizer\u001b[0m\u001b[0;34m,\u001b[0m\u001b[0mSVC_clf\u001b[0m\u001b[0;34m,\u001b[0m\u001b[0;36m200\u001b[0m\u001b[0;34m,\u001b[0m\u001b[0mwords_count\u001b[0m\u001b[0;34m,\u001b[0m\u001b[0mcount_thres\u001b[0m \u001b[0;34m=\u001b[0m \u001b[0;36m50\u001b[0m\u001b[0;34m,\u001b[0m\u001b[0mfor_pos\u001b[0m \u001b[0;34m=\u001b[0m \u001b[0;32mFalse\u001b[0m\u001b[0;34m)\u001b[0m\u001b[0;34m\u001b[0m\u001b[0m\n\u001b[0m\u001b[1;32m      2\u001b[0m \u001b[0mprint\u001b[0m\u001b[0;34m(\u001b[0m\u001b[0mneg_words\u001b[0m\u001b[0;34m)\u001b[0m\u001b[0;34m\u001b[0m\u001b[0m\n",
      "\u001b[0;31mNameError\u001b[0m: name 'Tdidf_vectorizer' is not defined"
     ]
    }
   ],
   "source": [
    "neg_words = tools.show_word(Tdidf_vectorizer,SVC_clf,200,words_count,count_thres = 50,for_pos = False)\n",
    "print(neg_words)"
   ]
  },
  {
   "cell_type": "code",
   "execution_count": 29,
   "metadata": {},
   "outputs": [
    {
     "name": "stdout",
     "output_type": "stream",
     "text": [
      "0.05714287838089768\n",
      "['length stay', 'expected', 'length', 'awaiting', 'neurosurgery', 'disposition homemdcompleted', 'added', 'homemdcompleted', 'failure discharge', 'service neurosurgery', 'neurosurgery allergies', 'alprazolam', 'medications discharge', 'care discharge', 'service neurology', 'neurology allergies', 'opposed', 'update', 'paperwork', 'pentoxifylline', 'care physician', 'discharge medication', 'continued home', 'allergies morphine', 'dictated', 'recommendations included', 'supplemental oxygen', 'results', 'ritalin', 'nursing center', 'care recommendations', 'changed', 'overnight', 'health care', 'clarify', 'code discharge', 'status code', 'supplemental', 'ultram', 'facility house', 'addendum note', 'patient referred', 'pending', 'medication list', 'discharge paperwork', 'course discharge', 'codeine attending', 'aggrenox', 'aspiration pneumonia', 'void', 'end stage', 'information', 'home discharge', 'phone', 'sepsis', 'evaluated neurosurgery', 'carbonate', 'recs', 'appt dr', 'rehabilitation facility', 'sig mg', 'final read', 'acute chronic', 'discharged rehab', 'negative patient', 'complications', 'trial', 'organism', 'facility health', 'lidocaine', 'blood pressure', 'palliative', 'care center', 'respiratory status', 'urinalysis', '50 mg', 'chips', 'tid discharge', 'just', 'chronic renal', 'note pt', 'dictated medquist36', 'job', 'calcium', 'allergies sulfa', 'palliative care', 'referred', 'bleeding', 'ice chips', 'systolic heart', 'onand', 'crestor', 'meds discharge', 'transient', 'amlodipine', 'inhibitors', 'yesterday', 'vicodin attending', 'ultram 50', 'scheduled', 'addendum patient', 'extend', 'thirty', 'hand', 'hydrocodone', 'systolic blood', 'facility vna', 'infiltrate', '125 mg', 'dr week', 'surgical service', 'prograf', 'pain discharge', 'acute', 'pravachol', 'center', 'schedule', 'medquist36', 'repeated', 'facility newbridge', 'patient remained', 'finalized', 'goal', 'delirium', 'study date', 'x3', 'growing', 'facility senior', 'lipitor', 'service patient', '69', 'facility rehab', 'med', 'facility medical', 'serum', 'additional days', 'newbridge', 'slight', 'ace inhibitors', 'patient transferred', 'pylori', 'positioning', 'bladder', 'medical center', 'sensitive', 'correction', 'appt', 'diuresed', 'buspar', 'check', 'failure chronic', 'followup', 'senior', 'lungs', 'regimen discharge', 'rehabilitation nursing', 'ondue', 'cpap', 'tuesday', 'oxygen', 'postive', 'senior healthcare', 'originally', 'day discharge', 'kcl', 'request', 'worsen', 'rate control', 'vicodin', 'discharge diagnoses', 'robitussin', 'drip discontinued', 'discontinue', 'benzocaine', 'foot', 'patient empirically', 'patient rehab', 'represented', 'acute respiratory', 'accepted', 'did', 'female', 'bcx', 'services discharge', 'urinary', 'evening', 'final', 'discharge lasix', 'ditropan', 'question', 'inweeks', 'nitrofurantoin', 'house', 'peg tube', 'empirically treated', '20meq', 'worked', 'therapy discharge', 'digoxin level', 'number']\n"
     ]
    }
   ],
   "source": [
    "neg_words = tools.show_word(Count_vectorizer,SVC_clf,200,words_count,count_thres = 50,for_pos = False)\n",
    "print(neg_words)"
   ]
  },
  {
   "cell_type": "markdown",
   "metadata": {},
   "source": [
    "# 训练测试比例不同实验"
   ]
  },
  {
   "cell_type": "code",
   "execution_count": 11,
   "metadata": {},
   "outputs": [],
   "source": [
    "import pickle\n",
    "ratio=210\n",
    "src_dir = './pu_data_ratio_Clarity' + str(ratio) +'/'\n",
    "text_train = pickle.load(open(src_dir+'text_train_stratified.pkl','rb'))\n",
    "label_train = pickle.load(open(src_dir+'label_train_stratified.pkl','rb'))\n",
    "text_test = pickle.load(open(src_dir+'text_test_stratified.pkl','rb'))\n",
    "label_test = pickle.load(open(src_dir+'label_test_stratified.pkl','rb'))\n",
    "new_text_train = back_to_doc(text_train)\n",
    "new_text_test = back_to_doc(text_test)"
   ]
  },
  {
   "cell_type": "code",
   "execution_count": 11,
   "metadata": {},
   "outputs": [
    {
     "name": "stdout",
     "output_type": "stream",
     "text": [
      "(7884, 13921)\n",
      "(6307, 13921)\n"
     ]
    }
   ],
   "source": [
    "Tdidf_vectorizer_1gram =TfidfVectorizer(ngram_range=(1,1),min_df =10,stop_words='english',max_df = 0.8,token_pattern=r\"(?u)\\b\\d?[a-z]{2,}\\d?\\b\")\n",
    "Tdidf_vec_1gram = Tdidf_vectorizer_1gram.fit_transform(new_text_total)\n",
    "print(np.shape(Tdidf_vec_1gram))\n",
    "Tfidf_vectorizer2 = TfidfVectorizer(ngram_range=(1,1),min_df =10,stop_words='english', \\\n",
    "                                    max_df = 0.8,token_pattern=r\"(?u)\\b\\d?[a-z]{2,}\\d?\\b\",vocabulary = Tdidf_vectorizer_1gram.vocabulary_)\n",
    "X_train = Tfidf_vectorizer2.fit_transform(new_text_train)\n",
    "y_train = label_train\n",
    "X_test = Tfidf_vectorizer2.fit_transform(new_text_test)\n",
    "y_test = label_test\n",
    "print(np.shape(X_train))"
   ]
  },
  {
   "cell_type": "code",
   "execution_count": 14,
   "metadata": {},
   "outputs": [
    {
     "name": "stdout",
     "output_type": "stream",
     "text": [
      "(9068, 95653)\n",
      "(4731, 95653)\n"
     ]
    }
   ],
   "source": [
    "Tdidf_vectorizer_2gram =TfidfVectorizer(ngram_range=(1,2),min_df =10,stop_words='english',max_df = 0.8,token_pattern=r\"(?u)\\b\\d?[a-z]{2,}\\d?\\b\")\n",
    "Tdidf_vec_2gram = Tdidf_vectorizer_2gram.fit_transform(new_text_total)\n",
    "print(np.shape(Tdidf_vec_2gram))\n",
    "Tfidf_vectorizer2 = TfidfVectorizer(ngram_range=(1,2),min_df =10,stop_words='english', \\\n",
    "                                    max_df = 0.8,token_pattern=r\"(?u)\\b\\d?[a-z]{2,}\\d?\\b\",vocabulary = Tdidf_vectorizer_2gram.vocabulary_)\n",
    "X_train = Tfidf_vectorizer2.fit_transform(new_text_train)\n",
    "y_train = label_train\n",
    "X_test = Tfidf_vectorizer2.fit_transform(new_text_test)\n",
    "y_test = label_test\n",
    "print(np.shape(X_train))"
   ]
  },
  {
   "cell_type": "code",
   "execution_count": 15,
   "metadata": {},
   "outputs": [
    {
     "name": "stdout",
     "output_type": "stream",
     "text": [
      "(4337, 95653)\n"
     ]
    }
   ],
   "source": [
    "print(np.shape(X_test))"
   ]
  },
  {
   "cell_type": "code",
   "execution_count": null,
   "metadata": {},
   "outputs": [],
   "source": [
    "# Grid Search for SVC parameters\n",
    "from sklearn.pipeline import Pipeline\n",
    "from sklearn.model_selection import GridSearchCV\n",
    "from sklearn.pipeline_helper import PipelineHelper\n",
    "X = new_text_total\n",
    "Y = label_total\n",
    "pipe = Pipeline([\n",
    "    ('vectorizer', PipelineHelper([\n",
    "        ('count', CountVectorizer(stop_words='english')),\n",
    "        ('tfidf', TfidfVectorizer(stop_words='english')),\n",
    "    ])),\n",
    "    ('classifier', PipelineHelper([\n",
    "        ('SVC', svm.SVC()),\n",
    "    ])),\n",
    "])\n",
    "\n",
    "params = {\n",
    "    'vectorizer__selected_model': pipe.named_steps['vectorizer'].generate({\n",
    "        'count__ngram_range': [(1,1),(1,2),(1,3)],\n",
    "        'count__min_df': [5,10],\n",
    "        'count__max_df': [0.4,0.6,0.8],\n",
    "        'tfidf__ngram_range': [(1,1),(1,2),(1,3)],\n",
    "        'tfidf__min_df':[5,10],\n",
    "        'tfidf__max_df':[0.4,0.6,0.8],\n",
    "    }),\n",
    "    'classifier__selected_model': pipe.named_steps['classifier'].generate({\n",
    "    })\n",
    "}\n",
    "grid = GridSearchCV(pipe, params, scoring='accuracy', verbose=1,cv=5,n_jobs=-1)\n",
    "grid.fit(X, Y)\n",
    "print(grid.best_params_)\n",
    "print(grid.best_score_)\n"
   ]
  },
  {
   "cell_type": "code",
   "execution_count": null,
   "metadata": {},
   "outputs": [],
   "source": [
    "clf_1gram = svm.SVC(class_weight = 'balanced',kernel = 'linear',probability=1)\n",
    "clf_1gram.fit(X_train,y_train)\n",
    "y_pred = clf_1gram.predict(X_test)\n",
    "\n",
    "y_pred_proba = clf_1gram.predict_proba(X_test)\n",
    "y_pred_proba = np.argmax(y_pred_proba,axis=-1)\n",
    "\n",
    "print(metrics.classification_report(y_test, y_pred_proba, target_names=['No_pressure_ulcer','pressure_ulcer']))\n",
    "print(metrics.confusion_matrix(y_test,y_pred_proba))"
   ]
  },
  {
   "cell_type": "code",
   "execution_count": 18,
   "metadata": {},
   "outputs": [
    {
     "name": "stdout",
     "output_type": "stream",
     "text": [
      "                   precision    recall  f1-score   support\n",
      "\n",
      "No_pressure_ulcer       0.98      0.87      0.92      3943\n",
      "   pressure_ulcer       0.38      0.78      0.52       394\n",
      "\n",
      "         accuracy                           0.87      4337\n",
      "        macro avg       0.68      0.83      0.72      4337\n",
      "     weighted avg       0.92      0.87      0.89      4337\n",
      "\n",
      "[[3446  497]\n",
      " [  85  309]]\n"
     ]
    }
   ],
   "source": [
    "clf_2gram = svm.SVC(class_weight = 'balanced',kernel = 'linear',probability=1)\n",
    "clf_2gram.fit(X_train,y_train)\n",
    "y_pred = clf_2gram.predict(X_test)\n",
    "\n",
    "y_pred_proba = clf_2gram.predict_proba(X_test)\n",
    "y_pred_proba = np.argmax(y_pred_proba,axis=-1)\n",
    "\n",
    "print(metrics.classification_report(y_test, y_pred_proba, target_names=['No_pressure_ulcer','pressure_ulcer']))\n",
    "print(metrics.confusion_matrix(y_test,y_pred_proba))"
   ]
  },
  {
   "cell_type": "code",
   "execution_count": 19,
   "metadata": {},
   "outputs": [],
   "source": [
    "y_pred_proba = clf_2gram.predict_proba(X_test)"
   ]
  },
  {
   "cell_type": "code",
   "execution_count": 23,
   "metadata": {},
   "outputs": [
    {
     "data": {
      "text/plain": [
       "(4337, 2)"
      ]
     },
     "execution_count": 23,
     "metadata": {},
     "output_type": "execute_result"
    }
   ],
   "source": [
    "np.shape(y_pred_proba)"
   ]
  },
  {
   "cell_type": "code",
   "execution_count": 35,
   "metadata": {},
   "outputs": [],
   "source": [
    "y_pred_pos_proba =  y_pred_proba[:,1]"
   ]
  },
  {
   "cell_type": "code",
   "execution_count": 36,
   "metadata": {},
   "outputs": [
    {
     "data": {
      "text/plain": [
       "0.9194054618413922"
      ]
     },
     "execution_count": 36,
     "metadata": {},
     "output_type": "execute_result"
    }
   ],
   "source": [
    "from sklearn.metrics import roc_curve, auc\n",
    "import sklearn\n",
    "fpr,tpr,thres = roc_curve(y_test,y_pred_pos_proba)\n",
    "sklearn.metrics.roc_auc_score(y_test, y_pred_pos_proba)"
   ]
  },
  {
   "cell_type": "code",
   "execution_count": 37,
   "metadata": {},
   "outputs": [
    {
     "data": {
      "image/png": "[encoded data removed]",
      "text/plain": [
       "<Figure size 432x288 with 1 Axes>"
      ]
     },
     "metadata": {
      "needs_background": "light"
     },
     "output_type": "display_data"
    }
   ],
   "source": [
    "from sklearn.metrics import roc_curve, auc\n",
    "import sklearn\n",
    "fpr,tpr,thres = roc_curve(y_test,y_pred_pos_proba)\n",
    "print(sklearn.metrics.roc_auc_score(y_test, y_pred_pos_proba))\n",
    "\n",
    "import matplotlib.pyplot as plt\n",
    "plt.figure(1)\n",
    "plt.plot([0, 1], [0, 1], 'k--')\n",
    "plt.plot(fpr, tpr, label='SVM')\n",
    "plt.xlabel('False positive rate')\n",
    "plt.ylabel('True positive rate')\n",
    "plt.title('ROC curve')\n",
    "plt.legend(loc='best')\n",
    "plt.show()"
   ]
  },
  {
   "cell_type": "code",
   "execution_count": 38,
   "metadata": {},
   "outputs": [
    {
     "name": "stderr",
     "output_type": "stream",
     "text": [
      "/export/home/tzzhang/.pyenv/versions/3.5.2/lib/python3.5/site-packages/sklearn/externals/joblib/__init__.py:15: DeprecationWarning: sklearn.externals.joblib is deprecated in 0.21 and will be removed in 0.23. Please import this functionality directly from joblib, which can be installed with: pip install joblib. If this warning is raised when loading pickled models, you may need to re-serialize those models with scikit-learn 0.21+.\n",
      "  warnings.warn(msg, category=DeprecationWarning)\n"
     ]
    },
    {
     "data": {
      "text/plain": [
       "['2ratio_svm.model']"
      ]
     },
     "execution_count": 38,
     "metadata": {},
     "output_type": "execute_result"
    }
   ],
   "source": [
    "from sklearn.externals import joblib\n",
    "joblib.dump(clf_2gram,'2ratio_svm.model')"
   ]
  },
  {
   "cell_type": "code",
   "execution_count": null,
   "metadata": {},
   "outputs": [],
   "source": []
  },
  {
   "cell_type": "code",
   "execution_count": null,
   "metadata": {},
   "outputs": [],
   "source": [
    "X_test = Tfidf_vectorizer2.fit_transform(new_text_test)\n",
    "y_test = label_test\n",
    "print(np.shape(X_train))"
   ]
  },
  {
   "cell_type": "code",
   "execution_count": 15,
   "metadata": {},
   "outputs": [
    {
     "name": "stdout",
     "output_type": "stream",
     "text": [
      "(6307, 13921)\n"
     ]
    }
   ],
   "source": [
    "print(np.shape(X_train))"
   ]
  },
  {
   "cell_type": "code",
   "execution_count": 14,
   "metadata": {},
   "outputs": [
    {
     "name": "stdout",
     "output_type": "stream",
     "text": [
      "                   precision    recall  f1-score   support\n",
      "\n",
      "No_pressure_ulcer       0.90      0.94      0.92      1195\n",
      "   pressure_ulcer       0.79      0.66      0.72       382\n",
      "\n",
      "         accuracy                           0.88      1577\n",
      "        macro avg       0.84      0.80      0.82      1577\n",
      "     weighted avg       0.87      0.88      0.87      1577\n",
      "\n"
     ]
    }
   ],
   "source": [
    "print(metrics.classification_report(y_test, y_pred_proba, target_names=['No_pressure_ulcer','pressure_ulcer']))\n"
   ]
  },
  {
   "cell_type": "code",
   "execution_count": 13,
   "metadata": {},
   "outputs": [
    {
     "data": {
      "text/plain": [
       "0.7226173541963015"
      ]
     },
     "execution_count": 13,
     "metadata": {},
     "output_type": "execute_result"
    }
   ],
   "source": [
    "metrics.f1_score(y_test,y_pred_proba)"
   ]
  },
  {
   "cell_type": "code",
   "execution_count": 18,
   "metadata": {},
   "outputs": [
    {
     "name": "stdout",
     "output_type": "stream",
     "text": [
      "0.6944779028129857\n",
      "['ulcer', 'sacral', 'decubitus', 'stage', 'ulcers', 'wound', 'extended', 'skin', 'rehab', 'eeg', 'ml', 'medicine', 'developed', '5mg', 'picc', 'zosyn', 'addendum', 'facility', 'cancer', 'failed', 'vancomycin', 'noted', 'attending', 'event', 'recent', 'slowly', 'cervical', 'transfusions', 'hr', 'ostomy', 'mdcompleted', 'topical', 'le', 'consulted', 'failure', 'hospice', 'prolonged', 'catheter', 'tracheostomy', 'long', 'residual', 'uti', 'maintain', 'oxycodone', 'pseudomonas', 'meropenem', 'ii', 'peg', 'thought', 'poor', 'limited', 'chronic', 'metabolic', 'femoral', 'groin', 'bowel', 'vanco', 'bilateral', 'ischemic', 'troponin', 'study', 'rapid', 'underlying', 'recommendations', 'nrb', 'transitioned', 'brought', 'portal', 'physician', 'senna', 'note', 'appl', 'indicated', 'staph', 'dilaudid', 'ipratropium', 'obstruction', 'elevated', 'current', 'cholecystitis', 'knee', 'mm', 'shift', 'ultimately', 'diff', 'resp', 'treated', 'cabg', 'rib', 'bactrim', 'drainage', 'pressures', 'summary', 'daily', 'process', 'chf', 'pressure', 'foley', 'patch', 'returned', 'klebsiella', 'line', 'sc', 'moderate', 'tid', 'large', 'followed', 'eventually', 'gen', 'low', 'stopped', 'movement', 'managed', 'complicated', 'vitals', 'grade', 'abdominal', 'stools', 'cva', 'second', 'ace', 'bilat', 'feeding', 'code', 'complaints', 'contrast', 'metastatic', 'thickened', 'high', 'dissolve', 'ivf', 'regimen', 'dose', 'dni', 'replacement', 'unable', 'nursing', 'nl', 'actuation', 'compared', 'osh', 'warfarin', 'prevent', 'solution', 'intra', 'unchanged', 'lovenox', 'related', 'sbp', 'plavix', 'lower', 'daughter', 'hypoxic', 'nutrition', 'appreciated', 'anticoagulation', 'complete', 'management', 'pulm', 'included', 'iv', 'period', 'support', 'dl', 'assistance', 'mitral', 'pleural', 'penicillins', 'place', 'cad', 'ventilation', 'cipro', 'prn', 'doppler', 'yellow', 'staff', 'global', 'nc', 'vanc', 'opacity', 'left', 'tolerate', 'responsive', 'responded', 'consolidation', 'ekg', 'na', 'linezolid', 'rv', 'sig', 'excluded', 'tsh', 'ppi', 'growth', 'doctor', 'pod', 'bromide', 'protein', 'multiple', 'caltco2']\n"
     ]
    }
   ],
   "source": [
    "import tools\n",
    "import imp\n",
    "imp.reload(tools)\n",
    "pos_words = tools.show_word(Tdidf_vectorizer_1gram,clf_1gram,200,words_count,count_thres = 20,for_pos = True)\n",
    "print(pos_words)"
   ]
  },
  {
   "cell_type": "code",
   "execution_count": 19,
   "metadata": {},
   "outputs": [
    {
     "name": "stdout",
     "output_type": "stream",
     "text": [
      "0.5272496462742593\n",
      "['dictated', 'job', 'independent', 'clinic', 'normal', 'headache', 'ambulatory', 'calcium', 'lactulose', 'size', 'pending', 'cardiothoracic', 'airway', 'ranitidine', 'tablets', 'qd', 'department', 'dyspnea', 'patent', 'infection', 'wave', 'start', 'neurosurgery', 'pain', 'fluids', 'goal', 'small', 'lasix', 'diarrhea', 'hypertension', 'lisinopril', 'old', 'weakness', 'breast', 'graft', 'decrease', 'levofloxacin', 'intensive', 'previous', 'morning', 'coherent', 'drawn', 'wheezing', 'ambulating', 'question', 'went', 'cerebral', 'inweeks', 'seizures', 'simvastatin', 'laboratory', 'floor', 'revealed', 'stable', 'etiology', 'stenting', 'clopidogrel', 'taken', 'arteries', 'gait', 'children', 'neurologic', 'vna', 'evidence', 'esophageal', 'release', 'tolerated', 'amlodipine', 'stop', 'tenderness', 'hyponatremia', 'hcl', 'pounds', 'hand', 'body', 'given', 'lungs', 'denies', 'diastolic', 'supple', 'peep', 'monitored', 'hematology', 'oxygen', 'symptoms', 'constipation', 'oral', 'mild', 'afib', 'maintained', 'complications', 'region', 'discharged', 'hernia', 'phos', 'partial', 'just', 'breathing', 'vomiting', 'denied', 'structurally', 'er', 'plan', 'procedure', 'driving', 'ns', 'today', 'bleeding', 'hx', 'aneurysm', 'year', 'overnight', 'nad', 'studies', 'st', 'provider', 'tobacco', 'ems', 'approximately', 'arch', 'prbc', 'endoscopy', 'weaned', 'air', 'subarachnoid', 'check', 'folic', 'data', 'report', 'examination', 'bicarbonate', 'lobe', 'alert', 'aspirin', 'acute', 'drink', 'drug', 'night', 'abscess', 'carbonate', 'results', 'ventricle', 'minutes', 'hyperlipidemia', 'bladder', 'tachycardia', 'lateral', 'exam', 'diet', 'indx', 'congestion', 'feeling', 'culture', 'gastrointestinal', 'consciousness', 'phone', 'sugars', 'echocardiogram', 'agitation', 'cardiovascular', 'days', 'abx', 'catheterization', 'end', 'debridement', 'electrolytes', 'bypass', 'mediastinal', 'ibuprofen', 'pack', 'hour', 'mca', 'incision', 'keppra', 'instructed', 'oropharynx', 'saturation', 'fluticasone', 'dilantin', 'occipital', 'diagnoses', 'amiodarone', 'reviewed', 'rest', 'wheezes', 'syndrome', 'months', 'pulse', 'bleed', 'moving', 'varices', 'subsequently', 'colace', 'laceration', 'chemotherapy', 'ef', 'tablet', 'saphenous', 'resolved', 'rrr']\n"
     ]
    }
   ],
   "source": [
    "neg_words = tools.show_word(Tdidf_vectorizer_1gram,clf_1gram,200,words_count,count_thres = 20,for_pos = False)\n",
    "print(neg_words)"
   ]
  },
  {
   "cell_type": "code",
   "execution_count": 15,
   "metadata": {},
   "outputs": [
    {
     "data": {
      "image/png": "[encoded data removed]",
      "text/plain": [
       "<Figure size 432x288 with 1 Axes>"
      ]
     },
     "metadata": {
      "needs_background": "light"
     },
     "output_type": "display_data"
    }
   ],
   "source": [
    "from sklearn.svm import SVC\n",
    "from sklearn.metrics import roc_curve\n",
    "from sklearn.metrics import auc\n",
    "import matplotlib.pyplot as plt\n",
    "import numpy as np\n",
    "#GET ROC DATA\n",
    "fpr, tpr, thresholds = roc_curve(y_test, y_pred_proba, pos_label=1)\n",
    "roc_auc = auc(fpr, tpr)\n",
    "#GRAPH DATA\n",
    "plt.figure(1)\n",
    "\n",
    "plt.xlabel('False Positive Rate')\n",
    "plt.ylabel('True Positive Rate')\n",
    "plt.plot([0, 1], [0, 1], color='navy', linestyle='--')\n",
    "plt.xlim([0.0, 1.0])\n",
    "plt.ylim([0.0, 1.05])\n",
    "plt.title('SVM Classifier ROC')\n",
    "plt.plot(fpr, tpr, color='blue', lw=2, label='SVM ROC area = %0.2f)' % roc_auc)\n",
    "plt.legend(loc=\"lower right\")\n",
    "plt.show()"
   ]
  },
  {
   "cell_type": "code",
   "execution_count": 17,
   "metadata": {},
   "outputs": [
    {
     "name": "stdout",
     "output_type": "stream",
     "text": [
      "(4730, 36251)\n"
     ]
    }
   ],
   "source": [
    "Count_vectorizer2 = CountVectorizer(ngram_range=(1,1),min_df =5,stop_words='english', \\\n",
    "                                    max_df = 0.4,vocabulary = Tdidf_vectorizer_1gram.vocabulary_)\n",
    "X_train = Count_vectorizer2.fit_transform(new_text_train)\n",
    "y_train = label_train\n",
    "X_test = Count_vectorizer2.fit_transform(new_text_test)\n",
    "y_test = label_test\n",
    "print(np.shape(X_train))"
   ]
  },
  {
   "cell_type": "code",
   "execution_count": 25,
   "metadata": {},
   "outputs": [],
   "source": [
    "words_count = np.sum(X_train,axis=0)\n",
    "words_count += np.sum(X_test,axis=0)"
   ]
  },
  {
   "cell_type": "code",
   "execution_count": 26,
   "metadata": {},
   "outputs": [
    {
     "data": {
      "text/plain": [
       "(1, 436831)"
      ]
     },
     "execution_count": 26,
     "metadata": {},
     "output_type": "execute_result"
    }
   ],
   "source": [
    "np.shape(words_count)"
   ]
  },
  {
   "cell_type": "code",
   "execution_count": 22,
   "metadata": {},
   "outputs": [
    {
     "data": {
      "text/plain": [
       "<21681x36251 sparse matrix of type '<class 'numpy.float64'>'\n",
       "\twith 8695434 stored elements in Compressed Sparse Row format>"
      ]
     },
     "execution_count": 22,
     "metadata": {},
     "output_type": "execute_result"
    }
   ],
   "source": [
    "Tdidf_vec_1gram"
   ]
  },
  {
   "cell_type": "code",
   "execution_count": 27,
   "metadata": {},
   "outputs": [
    {
     "data": {
      "text/plain": [
       "3"
      ]
     },
     "execution_count": 27,
     "metadata": {},
     "output_type": "execute_result"
    }
   ],
   "source": [
    "words_count[0,5]"
   ]
  },
  {
   "cell_type": "code",
   "execution_count": 51,
   "metadata": {
    "scrolled": true
   },
   "outputs": [
    {
     "name": "stdout",
     "output_type": "stream",
     "text": [
      "0.7584702253326446\n",
      "['ulcer', 'sacral', 'decubitus', 'ulcers', 'extended', 'coccyx', 'rehab', 'stage', 'wound', 'eeg', 'addendum', 'cancer', 'skin', 'decub', 'failed', 'mdcompleted', 'wheelchair', 'q6h', 'unchanged', 'le', 'solution', 'heel', '5mg', 'developed', 'consulted', 'hospice', 'neuropathy', 'zosyn', 'cva', 'expired', 'picc', 'penicillins', 'failure', 'moderate', 'topical', 'cholecystitis', '300', 'treatment', 'meropenem', 'cervical', 'line', 'appl', 'ii', 'paraplegia', 'troponin', 'large', 'caltco2', 'institution', 'infected', '09am', '44pm', 'hypernatremia', 'tibial', 'diff', 'klebsiella', 'tid', 'intubation', 'porcine', 'zinc', 'senna', 'rib', 'groin', 'foley', 'ascorbic', 'nursing', 'midodrine', 'dissolve', 'dc', 'sacrum', 'histroy', 'mirtazapine', '05', 'rvr', '28', 'dependent', 'high', 'tricuspid', 'drainage', 'complicated', 'x2', 'retention', 'cryptogenic', '27', 'pressures', 'stump', 'cast', 'transfusions', 'counts', 'recent', '143', 'prolonged', 'sc', 'obtain', 'related', 'traumatic', 'cvicu', 'adverse', 'agents', 'limited', 'growth', 'intra', '03pm', 'ischemic', 'fem', 'bony', 'mets', 'study', 'loose', 'labs', 'nutritional', '100mg', 'nrb', 'ulceration', 'meeting', 'rue', 'ptx', 'colostomy', '49pm', '25mg', 'flush', 'catheter', 'determined', 'milrinone', '54', 'reactions', '21pm', 'zofran', 'cmo', 'vanco', 'background', 'cachectic', 'actuation', 'final', 'comfort', 'empiric', 'aicd', 'cord', 'percutaneous', 'mod', 'team', 'appetite', 'hip', 'peg', 'extensive', 'cardiogenic', 'fromon', 'cholangiocarcinoma', 'washout', 'iodine', '29', 'confusion', 'atelectasis', 'leg', 'stools', 'cholelithiasis', 'buttocks', 'unable', 'duoderm', 'plateau', 'reversed', 'md', 'new', 'current', 'sbp', 'colitis', '220', 'ostomy', 'possibility', 'staph', 'grade', 'brain', 'nitrate', 'hard', 'rapid', 'slowly', '200mg', 'process', 'stricture', 'ankle', 'angap', 'stopped', 'pleurodesis', 'pleural', 'slowing', 'injection', 'sarcoma', 'baseline', 'eventually', 'cisplatin', 'cipro', 'tv', 'recommendations', 'thought', 'period', 'nstemi', 'rhabdomyolysis', 'mixed', 'place', 'tramadol', 'vit']\n"
     ]
    }
   ],
   "source": [
    "import tools\n",
    "import imp\n",
    "imp.reload(tools)\n",
    "pos_words = tools.show_word(Tdidf_vectorizer_1gram,clf_1gram,200,words_count,count_thres = 20,for_pos = True)\n",
    "print(pos_words)"
   ]
  },
  {
   "cell_type": "code",
   "execution_count": 53,
   "metadata": {},
   "outputs": [
    {
     "name": "stdout",
     "output_type": "stream",
     "text": [
      "0.6210676611234992\n",
      "['job', 'medquist36', 'dictated', 'size', '6h', 'qd', 'q4', 'airway', 'graft', 'patent', 'headache', 'independent', 'med', 'pending', 'lactulose', '45', 'thalamic', '95', 'lisinopril', 'peritoneal', 'nitro', 'amlodipine', 'bleed', 'tobacco', 'examination', '09pm', 'pounds', 'rashes', 'dyspnea', 'cerebral', '20am', 'ejection', 'approximately', 'ambulatory', 'carbonate', 'outpatient', 'infiltrate', 'intensive', 'tests', 'tamponade', '42', 'hernia', 'tablets', 'hcl', 'hyponatremia', 'staphylococcus', 'neurosurgery', 'diet', 'captopril', 'advised', 'phone', 'pd', '24hr', 'fluticasone', 'block', 'presence', 'vomiting', 'levo', 'bld', 'woman', 'tomorrow', 'bicarbonate', 'bright', 'wave', 'changed', 'acetabular', 'stairs', 'pelvis', 'campus', 'nasogastric', 'ventral', 'infor', 'losartan', 'dysarthria', 'orthopedic', 'twice', 'ambulating', 'cardiothoracic', 'pta', 'blocker', 'protonix', 'children', 'arm', 'flutter', 'etiology', 'dye', 'hypertrophy', 'data', 'igg', 'lateral', 'circumferential', 'tiny', '35', 'drawn', 'transverse', 'colace', '2mg', '34pm', 'rigors', 'levofloxacin', 'dic', 'ramus', 'angiogram', 'perineal', 'craniotomy', 'syndrome', '55', 'celexa', 'azithromycin', 'endoscopy', 'atenolol', 'number', 'renal', 'maintained', 'sinus', 'carried', 'lipitor', 'grandchildren', 'fraction', 'l3', 'hematology', 'refills', 'suctioning', 'infection', 'tenderness', 'arteriogram', 'macu', '50am', 'oxacillin', '94', 'atrovent', 'unasyn', 'provider', 'methicillin', 'gait', 'echocardiogram', 'oxygen', 'calhco3', 'clinic', 'inweeks', 'amoxicillin', 'prbcs', 'department', '45am', 'levels', 'quadrant', 'wheezing', 'yes', 'reglan', 'rehabilitation', 'intestinal', 'disk', 'gastrointestinal', 'smokes', '69', 'noxious', 'percent', '110', 'diarrhea', 'tracheoplasty', 'mechanical', 'neurologic', 'aged', 'antrum', 'relatively', 'cholangiogram', 'prednisone', 'went', 'valproic', 'claudication', 'neurology', 'accident', 'vein', 'resuscitate', 'palpable', 'nsaids', 'lap', 'l1', 'undergo', 'wwp', 'pneumothorax', 'salt', 'pulmonologist', 'body', 'wt', 'hemorrhage', 'female', 'start', 'dimer', 'auscultation', 'comminuted', 'ring', 'malaise', 'adjacent', '903', 'aneurysm', 'retardation', 'dopamine', 'instructed', 'risperidone']\n"
     ]
    }
   ],
   "source": [
    "neg_words = tools.show_word(Tdidf_vectorizer_1gram,clf_1gram,200,words_count,count_thres = 20,for_pos = False)\n",
    "print(neg_words)"
   ]
  },
  {
   "cell_type": "code",
   "execution_count": 54,
   "metadata": {},
   "outputs": [],
   "source": [
    "imp.reload(tools)\n",
    "tools.vocab_prep(pos_words,neg_words)"
   ]
  },
  {
   "cell_type": "code",
   "execution_count": 103,
   "metadata": {},
   "outputs": [],
   "source": [
    "X_train = Tfidf_vectorizer2.fit_transform(new_text_train)\n",
    "y_train = label_train\n",
    "X_test = Tfidf_vectorizer2.fit_transform(new_text_test)\n",
    "y_test = label_test"
   ]
  },
  {
   "cell_type": "code",
   "execution_count": null,
   "metadata": {},
   "outputs": [],
   "source": [
    "X_train_normed = X_train / np.sum(X_train,axis=-1) \n",
    "X_test_normed = X_test / np.sum(X_test,axis=-1) \n",
    "print(np.sum(X_train_normed[0,:]))\n",
    "print(np.shape(X_train_normed))"
   ]
  },
  {
   "cell_type": "code",
   "execution_count": 104,
   "metadata": {},
   "outputs": [],
   "source": [
    "def feature_scaling(X):\n",
    "    X = X.todense()\n",
    "    normed_X = np.zeros_like(X)\n",
    "    min_array = np.min(X,axis=-1)\n",
    "    max_array = np.max(X,axis=-1)\n",
    "    for i in range(np.shape(X)[0]):\n",
    "        normed_X[i,:] = (X[i,:] - min_array[i]) / (max_array[i] - min_array[i])\n",
    "    return normed_X\n",
    "        "
   ]
  },
  {
   "cell_type": "code",
   "execution_count": 105,
   "metadata": {},
   "outputs": [
    {
     "name": "stdout",
     "output_type": "stream",
     "text": [
      "68.07648285581799\n",
      "(4730, 21020)\n"
     ]
    }
   ],
   "source": [
    "X_train_normed = feature_scaling(X_train)\n",
    "X_test_normed =feature_scaling(X_test)# (X_test - np.min(X_test,axis=-1)) / (np.max(X_test,axis=-1) - np.min(X_test,axis=-1))\n",
    "print(np.sum(X_train_normed[0,:]))\n",
    "print(np.shape(X_train_normed))"
   ]
  },
  {
   "cell_type": "code",
   "execution_count": 106,
   "metadata": {},
   "outputs": [
    {
     "name": "stdout",
     "output_type": "stream",
     "text": [
      "                   precision    recall  f1-score   support\n",
      "\n",
      "No_pressure_ulcer       0.85      0.90      0.88       797\n",
      "   pressure_ulcer       0.77      0.68      0.72       386\n",
      "\n",
      "         accuracy                           0.83      1183\n",
      "        macro avg       0.81      0.79      0.80      1183\n",
      "     weighted avg       0.82      0.83      0.82      1183\n",
      "\n",
      "[[717  80]\n",
      " [124 262]]\n"
     ]
    }
   ],
   "source": [
    "clf_1gram_norm = svm.SVC(class_weight = 'balanced',kernel = 'linear',probability=1)\n",
    "clf_1gram_norm.fit(X_train_normed,y_train)\n",
    "\n",
    "y_pred_proba = clf_1gram_norm.predict_proba(X_test_normed)\n",
    "y_pred_proba = np.argmax(y_pred_proba,axis=-1)\n",
    "\n",
    "print(metrics.classification_report(y_test, y_pred_proba, target_names=['No_pressure_ulcer','pressure_ulcer']))\n",
    "print(metrics.confusion_matrix(y_test,y_pred_proba))"
   ]
  },
  {
   "cell_type": "code",
   "execution_count": 10,
   "metadata": {},
   "outputs": [
    {
     "name": "stdout",
     "output_type": "stream",
     "text": [
      "                   precision    recall  f1-score   support\n",
      "\n",
      "No_pressure_ulcer       0.81      0.91      0.86       797\n",
      "   pressure_ulcer       0.76      0.57      0.65       386\n",
      "\n",
      "         accuracy                           0.80      1183\n",
      "        macro avg       0.79      0.74      0.76      1183\n",
      "     weighted avg       0.80      0.80      0.79      1183\n",
      "\n",
      "[[729  68]\n",
      " [167 219]]\n"
     ]
    }
   ],
   "source": [
    "clf_1gram = svm.SVC(class_weight = 'balanced',kernel = 'linear',probability=1)\n",
    "clf_1gram.fit(X_train,y_train)\n",
    "y_pred = clf_1gram.predict(X_test)\n",
    "\n",
    "y_pred_proba = clf_1gram.predict_proba(X_test)\n",
    "y_pred_proba = np.argmax(y_pred_proba,axis=-1)\n",
    "\n",
    "print(metrics.classification_report(y_test, y_pred_proba, target_names=['No_pressure_ulcer','pressure_ulcer']))\n",
    "print(metrics.confusion_matrix(y_test,y_pred_proba))"
   ]
  },
  {
   "cell_type": "code",
   "execution_count": 88,
   "metadata": {},
   "outputs": [],
   "source": [
    "plt.show()"
   ]
  },
  {
   "cell_type": "code",
   "execution_count": 12,
   "metadata": {},
   "outputs": [
    {
     "data": {
      "text/plain": [
       "50"
      ]
     },
     "execution_count": 12,
     "metadata": {},
     "output_type": "execute_result"
    }
   ],
   "source": [
    "len(pos_words)"
   ]
  },
  {
   "cell_type": "code",
   "execution_count": 13,
   "metadata": {
    "scrolled": true
   },
   "outputs": [
    {
     "data": {
      "text/plain": [
       "['klebsiella',\n",
       " 'sacral',\n",
       " 'decreased',\n",
       " 'ofmdcompleted',\n",
       " 'saw',\n",
       " 'nature',\n",
       " 'trache',\n",
       " 'latex',\n",
       " 'indefinitely',\n",
       " 'recorded',\n",
       " 'oncology',\n",
       " 'vaccine',\n",
       " 'duoderm',\n",
       " 'sirs',\n",
       " 'demerol',\n",
       " 'ulcers',\n",
       " 'drugs',\n",
       " 'betweenand',\n",
       " '81mg',\n",
       " 'agents',\n",
       " 'healthcare',\n",
       " 'read',\n",
       " 'failed',\n",
       " 'bandages',\n",
       " 'neurologist',\n",
       " 'peaked',\n",
       " 'ulcer',\n",
       " 'hiv',\n",
       " 'penicillins',\n",
       " 'presumed',\n",
       " 'conveyed',\n",
       " 'nursing',\n",
       " 'meningitis',\n",
       " 'rehab',\n",
       " 'decubitus',\n",
       " 'md',\n",
       " 'fromon',\n",
       " 'antibody',\n",
       " 'dx',\n",
       " 'insurance',\n",
       " 'coccyx',\n",
       " 'stage',\n",
       " 'gent',\n",
       " 'congestive',\n",
       " 'pepcid',\n",
       " 'physician',\n",
       " 'eeg',\n",
       " 'caremdcompleted',\n",
       " 'toon',\n",
       " 'mdcompleted']"
      ]
     },
     "execution_count": 13,
     "metadata": {},
     "output_type": "execute_result"
    }
   ],
   "source": [
    "pos_words"
   ]
  },
  {
   "cell_type": "code",
   "execution_count": 14,
   "metadata": {
    "scrolled": true
   },
   "outputs": [
    {
     "data": {
      "text/plain": [
       "['pneumothorax',\n",
       " 'hemodynamic',\n",
       " 'tab',\n",
       " 'list',\n",
       " 'dilantin',\n",
       " 'nitrofurantoin',\n",
       " 'tests',\n",
       " 'therapeutic',\n",
       " 'neurology',\n",
       " 'og',\n",
       " 'reglan',\n",
       " 'life',\n",
       " 'size',\n",
       " 'fax',\n",
       " 'number',\n",
       " 'stitches',\n",
       " 'maintained',\n",
       " 'spent',\n",
       " 'called',\n",
       " 'cefazolin',\n",
       " 'inclinic',\n",
       " 'drawn',\n",
       " 'blocking',\n",
       " 'needs',\n",
       " 'benadryl',\n",
       " 'cerebral',\n",
       " 'resultant',\n",
       " 'changed',\n",
       " 'garden',\n",
       " 'represented',\n",
       " 'chips',\n",
       " 'pod6',\n",
       " 'peak',\n",
       " 'conceivably',\n",
       " 'neurosurgery',\n",
       " 'correct',\n",
       " 'court',\n",
       " 'cardiothoracic',\n",
       " 'monitored',\n",
       " 'meq',\n",
       " 'medquist36',\n",
       " 'homemdcompleted',\n",
       " 'hydrocodone',\n",
       " 'verified',\n",
       " 'transient',\n",
       " 'job',\n",
       " 'dictated',\n",
       " 'ice',\n",
       " 'aged',\n",
       " 'oob']"
      ]
     },
     "execution_count": 14,
     "metadata": {},
     "output_type": "execute_result"
    }
   ],
   "source": [
    "neg_words"
   ]
  },
  {
   "cell_type": "code",
   "execution_count": 79,
   "metadata": {},
   "outputs": [],
   "source": [
    "num=200\n",
    "important_word_index = np.argpartition(coef,-num)[0,-num:]"
   ]
  },
  {
   "cell_type": "code",
   "execution_count": 74,
   "metadata": {},
   "outputs": [
    {
     "data": {
      "text/plain": [
       "[4169,\n",
       " 14019,\n",
       " 6485,\n",
       " 469,\n",
       " 14492,\n",
       " 6528,\n",
       " 5335,\n",
       " 3982,\n",
       " 12710,\n",
       " 2853,\n",
       " 13491,\n",
       " 10458,\n",
       " 7531,\n",
       " 10451,\n",
       " 693,\n",
       " 3187,\n",
       " 9412,\n",
       " 11650,\n",
       " 1893,\n",
       " 11725,\n",
       " 4186,\n",
       " 5283,\n",
       " 2162,\n",
       " 14451,\n",
       " 2088,\n",
       " 3042,\n",
       " 519,\n",
       " 7389,\n",
       " 10762,\n",
       " 2031,\n",
       " 4073,\n",
       " 8678,\n",
       " 6352,\n",
       " 10631,\n",
       " 5408,\n",
       " 11057,\n",
       " 3359,\n",
       " 7365,\n",
       " 2383,\n",
       " 62,\n",
       " 14222,\n",
       " 13531,\n",
       " 7479,\n",
       " 5191,\n",
       " 2006,\n",
       " 12666,\n",
       " 5198,\n",
       " 11677,\n",
       " 4139,\n",
       " 4404,\n",
       " 3671,\n",
       " 817,\n",
       " 8509,\n",
       " 5803,\n",
       " 4860,\n",
       " 1554,\n",
       " 7750,\n",
       " 8767,\n",
       " 11238,\n",
       " 3330,\n",
       " 6155,\n",
       " 6762,\n",
       " 8520,\n",
       " 13641,\n",
       " 12563,\n",
       " 10056,\n",
       " 10577,\n",
       " 11930,\n",
       " 8346,\n",
       " 13829,\n",
       " 14003,\n",
       " 6957,\n",
       " 10760,\n",
       " 11860,\n",
       " 12296,\n",
       " 281,\n",
       " 9471,\n",
       " 10582,\n",
       " 7403,\n",
       " 2534,\n",
       " 9225,\n",
       " 2491,\n",
       " 3405,\n",
       " 797,\n",
       " 8017,\n",
       " 3420,\n",
       " 8744,\n",
       " 13879,\n",
       " 10474,\n",
       " 9443,\n",
       " 4538,\n",
       " 1226,\n",
       " 9831,\n",
       " 6907,\n",
       " 10982,\n",
       " 4537,\n",
       " 11175,\n",
       " 12734,\n",
       " 10389,\n",
       " 14471,\n",
       " 4532,\n",
       " 2686,\n",
       " 9480,\n",
       " 10472,\n",
       " 4528,\n",
       " 9436,\n",
       " 13472,\n",
       " 13622,\n",
       " 4205,\n",
       " 3937,\n",
       " 10099,\n",
       " 1495,\n",
       " 608,\n",
       " 4784,\n",
       " 8588,\n",
       " 14377,\n",
       " 5490,\n",
       " 3160,\n",
       " 3747,\n",
       " 11594,\n",
       " 11309,\n",
       " 8715,\n",
       " 12062,\n",
       " 5890,\n",
       " 3154,\n",
       " 7078,\n",
       " 2875,\n",
       " 13802,\n",
       " 11601,\n",
       " 12321,\n",
       " 4767,\n",
       " 9298,\n",
       " 13804,\n",
       " 7877,\n",
       " 11441,\n",
       " 1346,\n",
       " 8603,\n",
       " 10202,\n",
       " 1178,\n",
       " 3606,\n",
       " 11841,\n",
       " 11330,\n",
       " 9512,\n",
       " 8154,\n",
       " 8266,\n",
       " 8157,\n",
       " 8807,\n",
       " 5730,\n",
       " 13807,\n",
       " 6670,\n",
       " 3912,\n",
       " 8622,\n",
       " 5114,\n",
       " 14525,\n",
       " 4612,\n",
       " 13350,\n",
       " 11876,\n",
       " 13580,\n",
       " 904,\n",
       " 11108,\n",
       " 2942,\n",
       " 13298,\n",
       " 2609,\n",
       " 2126,\n",
       " 10310,\n",
       " 5393,\n",
       " 11099,\n",
       " 9746,\n",
       " 11718,\n",
       " 11874,\n",
       " 3541,\n",
       " 8820,\n",
       " 14308,\n",
       " 13703,\n",
       " 4471,\n",
       " 12670,\n",
       " 11701,\n",
       " 9738,\n",
       " 7192,\n",
       " 1045,\n",
       " 2150,\n",
       " 13327,\n",
       " 11368,\n",
       " 14555,\n",
       " 10427,\n",
       " 10424,\n",
       " 4684,\n",
       " 13541,\n",
       " 3530,\n",
       " 5061,\n",
       " 13822,\n",
       " 11688,\n",
       " 7202,\n",
       " 5946,\n",
       " 4679,\n",
       " 14567,\n",
       " 7965,\n",
       " 5424,\n",
       " 2018,\n",
       " 9845]"
      ]
     },
     "execution_count": 74,
     "metadata": {},
     "output_type": "execute_result"
    }
   ],
   "source": [
    "important_word_index.tolist()[0]"
   ]
  },
  {
   "cell_type": "code",
   "execution_count": 72,
   "metadata": {},
   "outputs": [
    {
     "data": {
      "text/plain": [
       "(1, 14572)"
      ]
     },
     "execution_count": 72,
     "metadata": {},
     "output_type": "execute_result"
    }
   ],
   "source": [
    "np.shape(coef[0])"
   ]
  },
  {
   "cell_type": "code",
   "execution_count": 76,
   "metadata": {},
   "outputs": [
    {
     "data": {
      "text/plain": [
       "(1, 200)"
      ]
     },
     "execution_count": 76,
     "metadata": {},
     "output_type": "execute_result"
    }
   ],
   "source": [
    "np.shape(important_word_index)"
   ]
  },
  {
   "cell_type": "code",
   "execution_count": 21,
   "metadata": {},
   "outputs": [
    {
     "name": "stdout",
     "output_type": "stream",
     "text": [
      "[[5.86067458e-01 2.92969513e-01 4.74585611e-01 8.53704063e-01\n",
      "  8.53924145e-01 2.01365132e-02 4.91993867e-01 1.92194369e-01\n",
      "  5.82830364e-01 8.40463601e-01 9.60270445e-01 5.54859401e-01\n",
      "  6.73639713e-01 2.62294174e-01 4.16429261e-01 9.72951806e-01\n",
      "  4.74302172e-01 4.27831011e-01 5.85554223e-01 6.06118638e-01\n",
      "  1.55307370e-01 8.43082487e-01 9.24948215e-01 4.05933444e-01\n",
      "  1.34340235e-01 3.47627509e-01 7.69452937e-01 5.84526135e-01\n",
      "  3.22761071e-01 3.86712462e-01 2.31672555e-01 8.35420562e-01\n",
      "  9.04713302e-01 3.64458877e-01 1.76847215e-01 1.82108329e-01\n",
      "  3.04034335e-01 7.24781834e-01 3.83627156e-01 6.17998336e-01\n",
      "  8.59577864e-01 4.83431745e-01 2.58678388e-01 4.44140279e-01\n",
      "  6.47573729e-01 1.30471835e-01 3.32257480e-01 9.95231689e-01\n",
      "  8.12030574e-01 5.85507871e-01 2.53054451e-01 9.99516870e-01\n",
      "  5.40382806e-01 9.12084175e-02 8.18315543e-01 8.53165847e-01\n",
      "  1.03050254e-01 2.24827036e-01 9.92643364e-01 6.76093773e-01\n",
      "  5.75569241e-01 4.12315477e-01 3.11725176e-01 6.37104431e-01\n",
      "  9.25288531e-01 2.53993951e-01 1.17971096e-01 8.65370400e-01\n",
      "  2.37859270e-01 4.19655640e-01 2.82936532e-01 5.00368288e-01\n",
      "  8.45872582e-01 8.40604569e-01 1.53505752e-01 7.80280539e-01\n",
      "  6.28805683e-01 7.31782427e-01 1.76663044e-01 1.15883693e-02\n",
      "  5.65016925e-02 8.75961725e-01 4.59113378e-01 6.28012151e-01\n",
      "  8.46765055e-01 8.58418375e-02 9.28560809e-01 7.86183435e-01\n",
      "  6.75170410e-01 7.61912337e-01 9.02150936e-01 4.87527719e-01\n",
      "  8.92484792e-01 1.68063671e-01 2.67577930e-01 6.23346350e-01\n",
      "  6.97003880e-01 5.02580417e-01 7.69875359e-02 3.65764780e-01\n",
      "  8.14459069e-01 7.44652920e-01 4.34241062e-01 8.09909981e-01\n",
      "  5.08835691e-01 3.77546292e-01 8.98933479e-01 2.52928553e-01\n",
      "  2.52700198e-01 6.01779719e-01 7.06211166e-02 7.76345097e-02\n",
      "  8.21456277e-01 1.83225755e-01 1.38298250e-01 4.14682441e-01\n",
      "  1.23161159e-01 3.29235401e-01 6.80702467e-01 2.46822403e-01\n",
      "  1.27373154e-01 9.43792587e-01 4.11821389e-01 3.29514815e-01\n",
      "  3.45995715e-01 4.54518964e-01 4.23415244e-01 6.03231792e-01\n",
      "  5.28620981e-02 5.34175164e-01 3.76819444e-01 3.54749725e-01\n",
      "  8.22557928e-01 4.43199150e-01 4.64962707e-01 9.13036808e-01\n",
      "  7.04403818e-01 9.17941636e-01 2.04256571e-01 1.64377287e-01\n",
      "  1.84132600e-01 5.44018936e-02 7.88424935e-01 5.94544884e-01\n",
      "  4.94937719e-01 9.28486799e-01 5.10562461e-02 5.56170057e-01\n",
      "  1.92958453e-01 3.18598298e-01 7.57972368e-01 8.81994361e-02\n",
      "  6.74565913e-01 6.19954214e-01 3.32995731e-04 7.72428509e-01\n",
      "  9.40582145e-01 3.64667982e-01 5.30151051e-01 5.43626353e-01\n",
      "  9.28299561e-01 7.48814188e-01 8.68024363e-01 7.97602391e-01\n",
      "  9.21747480e-01 8.26251473e-02 9.38796542e-01 3.86722885e-01\n",
      "  5.41190580e-01 6.13516676e-01 7.07505243e-01 9.08384144e-01\n",
      "  8.59319208e-01 6.74242176e-01 7.91674961e-01 7.84676572e-01\n",
      "  2.94054756e-01 2.42059843e-01 2.03277311e-01 8.28052529e-01\n",
      "  1.16419654e-01 8.80002689e-01 9.93297415e-01 7.72100243e-01\n",
      "  8.19150652e-01 4.83532317e-01 1.76856463e-01 7.58635257e-01\n",
      "  1.86232869e-01 1.27558387e-01 2.62547279e-01 7.76426698e-01\n",
      "  5.67296251e-01 6.85405894e-01 3.96392388e-01 7.44318208e-01\n",
      "  7.79537582e-01 9.58010348e-01 6.97681390e-02 8.17560345e-01\n",
      "  4.84887609e-01 9.16669895e-01 5.51632348e-01 8.46027570e-01\n",
      "  4.64361621e-01 7.71573872e-01 5.30957045e-01 8.32447156e-01\n",
      "  2.10536181e-01 5.75494229e-01 2.10271959e-01 4.13498460e-02\n",
      "  6.17578909e-01 6.82249905e-01 3.30878286e-01 3.15241688e-01\n",
      "  3.40778740e-02 5.85013888e-01 9.77189901e-01 9.01390563e-01\n",
      "  8.20289812e-01 6.17134869e-02 9.01525182e-01 5.78846343e-01\n",
      "  1.69715137e-01 2.46771012e-01 3.89165514e-01 7.07297793e-01\n",
      "  5.34512785e-01 3.07448722e-01 2.97660143e-01 8.56406252e-01\n",
      "  6.13715983e-01 3.94771903e-01 4.90684122e-02 1.59105849e-01\n",
      "  4.38987895e-01 3.47482848e-01 3.41599997e-01 5.82172438e-02\n",
      "  4.12104043e-01 1.62292605e-01 5.49420043e-01 4.56748392e-01\n",
      "  5.97587708e-01 2.51122004e-01 5.79783205e-01 5.61410872e-01\n",
      "  4.35338713e-01 9.14672073e-01 4.44763216e-01 6.16318218e-01\n",
      "  4.69648374e-01 4.20916396e-01 5.82832186e-01 3.14228414e-01\n",
      "  4.51874659e-01 9.96314877e-01 5.53837503e-02 9.93087346e-01\n",
      "  9.17647160e-01 5.55819433e-01 3.95268583e-01 3.76981837e-01\n",
      "  6.15548810e-01 1.03763151e-01 4.98182564e-01 9.04700081e-01\n",
      "  8.44308600e-01 8.55536003e-01 2.15955171e-01 5.52543356e-01\n",
      "  1.12483038e-01 4.27196689e-01 2.21924406e-01 5.24756127e-01\n",
      "  5.95241357e-01 8.14820441e-01 8.05277213e-01 1.52593745e-01\n",
      "  9.14694978e-01 2.10907306e-01 5.47327134e-01 6.60982575e-01\n",
      "  5.65037473e-01 1.54328398e-01 9.01285122e-01 2.52231620e-01\n",
      "  2.05461670e-01 4.44987955e-01 4.99653625e-01 9.42741188e-01\n",
      "  5.95142194e-01 7.07489428e-01 2.59526974e-01 2.36166903e-01\n",
      "  8.08943112e-01 5.68432775e-01 4.23139184e-01 8.41952590e-01\n",
      "  7.69203430e-03 9.63980924e-01 6.99974832e-02 6.23134663e-01\n",
      "  1.45051632e-01 3.28770913e-02 7.37730481e-02 1.75357450e-01\n",
      "  2.22394373e-02 6.59130223e-01 3.94289606e-01 9.61262165e-01\n",
      "  1.93210205e-01 6.69267622e-01 7.59055325e-01 3.39521926e-01\n",
      "  1.13095936e-01 2.46746517e-01 9.30172850e-01 6.58352979e-01\n",
      "  3.26982640e-01 1.24031123e-01 6.99349549e-01 1.50374687e-01\n",
      "  5.32910280e-01 6.85854752e-01 9.90394263e-01 1.57261522e-01\n",
      "  9.84388565e-01 4.11551555e-01 9.55111402e-01 4.89439680e-01\n",
      "  3.24474656e-01 3.28145275e-01 5.98330594e-01 1.46924750e-01\n",
      "  3.96881446e-01 7.29152712e-01 8.61164115e-01 3.12912671e-02\n",
      "  1.06769894e-01 4.45902540e-01 9.88853522e-01 3.54942481e-01\n",
      "  5.82587699e-01 9.64257893e-01 6.95025006e-01 9.30360780e-01\n",
      "  1.41165491e-01 9.50031787e-01 8.26209057e-01 7.71605175e-01\n",
      "  1.34564037e-02 3.89377833e-01 6.73038017e-01 1.45833386e-01\n",
      "  9.82703196e-01 8.91991697e-01 2.83811177e-01 1.96832648e-01\n",
      "  7.45491657e-01 8.63352061e-01 4.85016601e-01 6.99360543e-01\n",
      "  4.89691023e-01 6.58365998e-01 9.73445810e-01 7.13656800e-02\n",
      "  1.92584327e-01 9.99407500e-01 1.69352995e-01 5.48861728e-01\n",
      "  7.44941364e-02 9.73904226e-01 9.82162832e-01 6.16340268e-01\n",
      "  6.20182278e-01 1.82452309e-01 9.16679036e-01 2.23641470e-01\n",
      "  4.95923898e-01 1.97406880e-01 5.52025834e-01 6.38677083e-01\n",
      "  8.23140828e-01 7.06618966e-01 5.34023523e-01 8.20906537e-01\n",
      "  6.63427354e-01 5.43650408e-01 8.13880478e-01 9.23061123e-02\n",
      "  5.93486948e-02 5.86958886e-01 9.49804307e-01 4.70193801e-01\n",
      "  4.91839433e-01 1.78994474e-01 3.77236210e-01 8.58604316e-01\n",
      "  1.60748853e-01 8.74963679e-01 6.47370835e-02 9.77312276e-01\n",
      "  4.24547776e-01 6.58652568e-01 6.07074149e-01 5.09331383e-01\n",
      "  1.01073146e-02 3.30605096e-01 9.86994213e-01 8.42146355e-01\n",
      "  3.03244452e-01 7.40263138e-01 2.11623894e-01 4.53311233e-01\n",
      "  9.08462502e-01 2.39456862e-01 7.97232322e-01 6.29001991e-02\n",
      "  9.82907113e-01 4.83192735e-01 5.24137051e-01 2.33076584e-01\n",
      "  1.33089355e-01 9.12844275e-01 2.25155781e-01 5.03993453e-01\n",
      "  7.84284928e-01 2.52523493e-01 2.71432981e-01 1.92616901e-01\n",
      "  9.03447353e-01 2.11759638e-01 3.38500035e-01 3.66698103e-01\n",
      "  2.69793057e-01 1.40617585e-01 8.74557718e-01 1.81714243e-01\n",
      "  6.70238748e-01 4.79661753e-01 6.42986300e-01 9.82029695e-01\n",
      "  6.38426147e-01 7.95375468e-01 1.95432883e-01 8.66926301e-01\n",
      "  1.24091398e-01 8.50068367e-01 2.62896639e-01 3.00449551e-01\n",
      "  8.42168259e-01 6.87159002e-01 4.76194146e-01 9.57260524e-01\n",
      "  6.64746034e-01 1.99426822e-01 5.53267027e-01 4.64638255e-01\n",
      "  9.93144558e-01 5.52751279e-01 3.81610352e-01 8.62206739e-01\n",
      "  2.41610405e-01 6.66070214e-01 1.98489816e-01 9.75079843e-01\n",
      "  7.73100006e-01 8.79260402e-01 4.86605658e-01 4.06035650e-01\n",
      "  5.71415770e-01 9.07046909e-01 5.92925665e-01 1.76894653e-02\n",
      "  2.53308056e-01 2.19726380e-02 3.50310562e-01 1.98984076e-01\n",
      "  7.11550477e-01 8.58836357e-01 5.56042383e-01 8.17405195e-01\n",
      "  8.28946736e-01 9.04503097e-01 1.04966063e-01 9.17897639e-01\n",
      "  8.32025127e-01 1.57251812e-01 2.89194925e-02 3.59955738e-01\n",
      "  8.32097501e-01 1.34741299e-01 6.86565857e-01 3.11486383e-01\n",
      "  2.23033961e-01 4.24994027e-01 1.45744019e-01 9.69562682e-01\n",
      "  6.85965805e-01 8.80588036e-01 6.53206053e-01 3.34752176e-01\n",
      "  9.06571810e-01 8.28531852e-01 8.02867269e-01 2.30208181e-01\n",
      "  6.78331412e-01 7.21215080e-01 5.67986731e-01 1.27961207e-01\n",
      "  7.65659917e-01 8.68306238e-01 1.13369467e-01 5.27996859e-01\n",
      "  2.70751577e-02 7.85005124e-01 8.63007743e-01 8.45317972e-01\n",
      "  7.93457769e-01 8.47167484e-01 7.25992497e-01 9.13691732e-01\n",
      "  2.20129916e-01 2.78809511e-01 3.13848243e-01 1.75414608e-01\n",
      "  2.46084931e-01 4.25975621e-01 5.98748735e-01 9.85267895e-01\n",
      "  6.57636985e-01 1.89355028e-01 8.91829333e-01 9.25471128e-02\n",
      "  6.10904843e-01 4.04048138e-01 8.56729311e-01 6.74060958e-01\n",
      "  3.77952554e-01 5.47758275e-01 9.89265997e-01 7.00119086e-01\n",
      "  9.12101348e-01 6.43410866e-01 6.10432176e-01 6.73277690e-02\n",
      "  6.90793346e-01 6.34737940e-01 1.42528404e-01 1.78905020e-01\n",
      "  9.95837711e-01 7.31319703e-01 6.95924438e-01 8.43028780e-01\n",
      "  5.09808906e-01 2.36231144e-01 9.62606083e-01 9.57319736e-01\n",
      "  1.20087625e-01 6.24754672e-01 4.60492088e-01 3.01790261e-01\n",
      "  9.68372546e-01 4.67420434e-01 2.48257715e-01 9.75062849e-01\n",
      "  3.22846713e-01 1.25649972e-01 1.69931067e-01 4.74766159e-01\n",
      "  7.95842552e-01 2.56485432e-01 2.13291273e-01 4.38070170e-01\n",
      "  4.44902550e-01 2.82737839e-01 9.69735542e-01 5.53517238e-01\n",
      "  2.37360162e-01 7.50695632e-01 3.10950701e-01 8.07817809e-01\n",
      "  9.30496923e-01 3.35887930e-01 4.46988223e-01 6.23302268e-01\n",
      "  7.87948978e-01 5.18841979e-01 4.43819053e-01 4.96059452e-01\n",
      "  8.70192647e-02 7.70589701e-02 3.50997721e-01 9.97431087e-01\n",
      "  3.99373912e-01 6.87297970e-01 8.63202895e-01 3.67855642e-01\n",
      "  6.15314909e-01 2.14519633e-01 1.28225624e-01 4.48527526e-01\n",
      "  7.47730831e-01 9.72824120e-01 8.97588132e-01 7.24840217e-01\n",
      "  6.66654129e-01 5.92837379e-01 4.67778403e-02 3.45334084e-01\n",
      "  6.19073499e-01 7.74261199e-03 7.28321758e-01 7.40064744e-01\n",
      "  6.34255886e-01 5.05546924e-01 7.09769610e-01 3.99939563e-01\n",
      "  9.48084166e-01 4.17754960e-01 5.86175578e-01 5.70136659e-01\n",
      "  8.56349421e-01 1.91125658e-02 1.27332221e-01 4.51109481e-01\n",
      "  7.11100994e-01 1.68911595e-01 7.49260884e-01 9.50115710e-01\n",
      "  3.74842615e-01 7.57476746e-01 3.87732013e-01 4.59160703e-01\n",
      "  7.63230023e-01 8.77935489e-01 7.80807216e-01 9.50323709e-01\n",
      "  6.73768999e-01 1.61550132e-01 4.95916043e-01 7.09247353e-01\n",
      "  3.60368433e-01 3.98743943e-01 5.99431433e-01 7.77302105e-01\n",
      "  5.45210119e-01 7.18383461e-01 5.03848774e-01 2.06988219e-01\n",
      "  7.48617088e-01 6.14101932e-01 5.69491818e-01 2.47407753e-01\n",
      "  3.70116467e-01 6.04320219e-01 8.96258516e-02 2.64315141e-01\n",
      "  3.47579630e-01 4.91279530e-01 6.55320902e-01 2.55636216e-01\n",
      "  6.03793540e-01 9.78072087e-01 7.92849666e-01 2.09331479e-01\n",
      "  8.25756226e-02 6.71908417e-01 8.78028688e-01 5.45352632e-01\n",
      "  3.23740191e-01 1.65930936e-01 6.00376001e-01 3.70336047e-01\n",
      "  1.31411031e-01 2.92254953e-01 8.89555140e-01 8.92072696e-01\n",
      "  9.66940766e-01 1.74564345e-01 4.72701285e-01 3.41263456e-01\n",
      "  6.91355221e-01 4.48047977e-01 2.38731564e-01 7.59037944e-01\n",
      "  6.49237872e-01 1.81154700e-01 3.80391712e-01 3.53571046e-01\n",
      "  3.10028124e-01 8.22558072e-01 7.00397849e-01 5.92413420e-01\n",
      "  7.28646825e-01 1.81257282e-01 8.45333104e-01 3.39715976e-01\n",
      "  3.84178188e-01 6.43509445e-01 1.31405895e-01 5.46482804e-01\n",
      "  6.66284175e-01 4.97039282e-01 2.48902655e-01 1.57972337e-01\n",
      "  5.50001074e-02 2.36941593e-01 6.06344472e-01 9.70146038e-01\n",
      "  4.45907792e-01 4.38950529e-01 3.05778990e-01 2.24475961e-01\n",
      "  7.23992832e-01 5.46246674e-01 6.25359713e-01 4.96106472e-01\n",
      "  5.93023264e-01 6.40023107e-01 3.93236987e-01 8.91790417e-01\n",
      "  6.78651982e-01 2.63500077e-01 8.07995141e-01 1.83439060e-01\n",
      "  1.46411388e-01 9.79408868e-03 9.44100618e-01 4.84647696e-01\n",
      "  3.77747526e-01 1.06026606e-01 6.96570746e-02 7.23191030e-01\n",
      "  6.01454956e-01 8.32378335e-01 5.79954075e-01 8.97656164e-01\n",
      "  7.12180938e-01 3.21533560e-02 3.86142160e-02 3.91492831e-01\n",
      "  1.14458834e-01 1.65858784e-01 4.68856592e-01 3.66244073e-01\n",
      "  7.13310226e-01 4.78267096e-01 9.14095000e-01 5.88967382e-01\n",
      "  9.95126503e-02 9.47490400e-01 3.13958780e-01 4.54688645e-01\n",
      "  6.52364218e-01 1.82041956e-01 1.50151848e-01 1.99735043e-02\n",
      "  7.53949044e-02 5.98646323e-01 3.23281429e-01 8.13122762e-01\n",
      "  9.28540728e-01 2.80105487e-02 5.55321929e-01 2.67847356e-01\n",
      "  3.21252712e-01 4.45208622e-01 6.66664621e-01 1.30168909e-01\n",
      "  2.10216741e-01 1.41929021e-01 7.46641556e-02 8.88371534e-01\n",
      "  2.01020676e-01 3.73204513e-01 5.89755334e-01 1.57046387e-01\n",
      "  5.47727622e-01 8.75026457e-01 9.60241622e-01 8.84156038e-01\n",
      "  2.11855976e-01 8.13082147e-01 4.98195275e-01 9.34151292e-01\n",
      "  7.23641430e-01 9.17801700e-02 4.67497702e-01 1.28135380e-02\n",
      "  6.52041848e-01 4.94926685e-01 5.62958520e-01 5.64551436e-01\n",
      "  2.72321430e-01 8.47337972e-01 8.46684044e-01 2.78911074e-01\n",
      "  2.94173829e-01 9.60022038e-01 2.99794886e-01 3.02036822e-01\n",
      "  6.34785597e-01 9.12428274e-01 4.16816272e-01 6.30366363e-01\n",
      "  1.97986876e-02 9.63288427e-01 9.89274847e-01 6.99469948e-01\n",
      "  1.83462159e-01 5.49708928e-01 1.05394928e-01 5.71023455e-01\n",
      "  1.25709690e-01 9.40005641e-01 1.55692665e-01 3.74016480e-01\n",
      "  7.55028068e-01 8.75263414e-02 4.79261584e-01 2.74340139e-02\n",
      "  9.40778790e-01 6.74707636e-01 5.39102661e-01 8.02518853e-02\n",
      "  6.93391164e-01 5.18500684e-01 1.77869806e-01 1.33934089e-01\n",
      "  1.50151730e-01 8.63400897e-01 6.17744807e-01 8.17343871e-01\n",
      "  6.04127383e-01 6.49040613e-01 5.71172097e-01 1.77695207e-01\n",
      "  3.22837448e-02 9.66198408e-01 1.69181627e-01 6.60765462e-01\n",
      "  9.02069208e-01 8.53445134e-01 3.24827550e-01 5.10801767e-01\n",
      "  2.91110581e-01 1.64768091e-01 8.59727650e-02 2.84666116e-01\n",
      "  3.15070742e-01 9.48062594e-01 2.63663083e-01 2.33883034e-01\n",
      "  2.25619232e-01 1.11893747e-01 1.22804786e-01 8.00960178e-01\n",
      "  9.57170483e-01 4.24701621e-01 2.19482693e-01 1.64631156e-01\n",
      "  4.82454208e-01 8.51026386e-01 3.98907451e-01 3.82495479e-01\n",
      "  1.22011582e-01 4.64900716e-01 1.13382508e-01 5.31984623e-01\n",
      "  5.74948158e-01 6.76465108e-01 3.07170465e-01 2.37516868e-01\n",
      "  4.13610030e-01 1.52608673e-01 7.15798948e-01 5.86007261e-01\n",
      "  1.35496165e-02 3.34142697e-01 9.71252992e-01 3.27405114e-01\n",
      "  2.31435562e-01 2.40644481e-01 8.50820813e-01 8.44691239e-01\n",
      "  5.92258896e-01 2.31964713e-01 6.28648368e-01 6.45592271e-01\n",
      "  1.05545988e-01 6.93764648e-01 2.63156549e-01 5.59352739e-01\n",
      "  2.97164719e-01 5.49419391e-01 8.30776860e-02 6.46628997e-01\n",
      "  4.97964881e-01 3.59328017e-01 7.88027404e-01 2.78097899e-01\n",
      "  4.74162551e-01 2.48061608e-01 1.52031351e-01 3.69919090e-01\n",
      "  8.53051319e-01 8.17592533e-01 8.29094788e-02 9.06504469e-01\n",
      "  3.23474742e-01 2.94938184e-01 5.26519901e-01 8.58409372e-01\n",
      "  9.75482957e-01 8.01195945e-01 1.06894570e-01 8.47153008e-01\n",
      "  4.01304505e-01 9.62210176e-01 7.93898734e-01 3.01982436e-01\n",
      "  1.78539255e-01 7.12169738e-01 5.04836423e-01 3.65879461e-02\n",
      "  5.04802642e-01 5.01068646e-01 7.93174724e-02 5.59926691e-01\n",
      "  9.28725997e-01 5.43697005e-01 8.60432475e-01 9.71715254e-01\n",
      "  2.56510107e-01 1.34824108e-01 3.10855589e-01 7.79926397e-01\n",
      "  9.42493971e-01 6.73629967e-01 1.60224324e-01 4.22263594e-01\n",
      "  4.02912940e-02 6.93790425e-02 8.86795267e-01 1.08990365e-01\n",
      "  4.64868698e-01 3.55155051e-01 3.12244442e-01 9.21045276e-01\n",
      "  7.23404745e-01 7.97086132e-01 6.71947608e-01 3.93062896e-01\n",
      "  8.61312207e-01 5.40142763e-01 4.70824971e-01 7.38066698e-01\n",
      "  6.85109818e-02 2.38853923e-01 7.91721254e-01 3.56369479e-01\n",
      "  7.27514167e-01 9.94040501e-01 8.51022750e-01 2.70907947e-03\n",
      "  5.55770440e-01 3.31711498e-01 1.30013175e-01 3.64643086e-01\n",
      "  5.43016115e-01 1.99057908e-01 9.35684090e-01 7.83765379e-01\n",
      "  6.44531362e-01 2.74983940e-01 8.93865211e-01 7.67064151e-01\n",
      "  9.17629318e-01 6.95667858e-01 9.41287775e-01 7.01093782e-01\n",
      "  1.34292458e-01 4.29521029e-01 2.88893788e-01 4.07334870e-01\n",
      "  6.22009438e-01 6.96160041e-01 9.98829719e-01 4.95306303e-01\n",
      "  9.32671879e-01 2.89937346e-01 6.24104498e-01 1.34175092e-01\n",
      "  2.11590434e-01 9.23155850e-02 4.23091335e-01 3.38169254e-01]]\n"
     ]
    }
   ],
   "source": [
    "# test for reverse\n",
    "a = np.random.random((1,1000))\n",
    "print(a)"
   ]
  },
  {
   "cell_type": "code",
   "execution_count": 25,
   "metadata": {
    "scrolled": true
   },
   "outputs": [],
   "source": [
    "x"
   ]
  },
  {
   "cell_type": "code",
   "execution_count": 35,
   "metadata": {},
   "outputs": [],
   "source": [
    "b = a[0,pos_indices]"
   ]
  },
  {
   "cell_type": "code",
   "execution_count": 37,
   "metadata": {},
   "outputs": [],
   "source": [
    "c = np.sort(b)"
   ]
  },
  {
   "cell_type": "code",
   "execution_count": 39,
   "metadata": {},
   "outputs": [],
   "source": [
    "c = -np.sort(-b)"
   ]
  },
  {
   "cell_type": "code",
   "execution_count": 40,
   "metadata": {
    "scrolled": true
   },
   "outputs": [
    {
     "data": {
      "text/plain": [
       "array([0.99951687, 0.9994075 , 0.99882972, 0.99743109, 0.99631488,\n",
       "       0.99583771, 0.99523169, 0.9940405 , 0.99329742, 0.99314456,\n",
       "       0.99308735, 0.99264336, 0.99039426, 0.98927485, 0.989266  ,\n",
       "       0.98885352, 0.98699421, 0.9852679 , 0.98438857, 0.98290711,\n",
       "       0.9827032 , 0.98216283, 0.9820297 , 0.97807209, 0.97731228,\n",
       "       0.9771899 , 0.97548296, 0.97507984, 0.97506285, 0.97390423,\n",
       "       0.97344581, 0.97295181, 0.97282412, 0.97171525, 0.97125299,\n",
       "       0.97014604, 0.96973554, 0.96956268, 0.96837255, 0.96694077,\n",
       "       0.96619841, 0.96425789, 0.96398092, 0.96328843, 0.96260608,\n",
       "       0.96221018, 0.96126217, 0.96027044, 0.96024162, 0.96002204,\n",
       "       0.95801035, 0.95731974, 0.95726052, 0.95717048, 0.9551114 ,\n",
       "       0.95032371, 0.95011571, 0.95003179, 0.94980431, 0.94808417,\n",
       "       0.94806259, 0.9474904 , 0.94410062, 0.94379259, 0.94274119,\n",
       "       0.94249397, 0.94128777, 0.94077879, 0.94058214, 0.94000564,\n",
       "       0.93879654, 0.93568409, 0.93415129, 0.93267188, 0.93049692,\n",
       "       0.93036078, 0.93017285, 0.928726  , 0.92856081, 0.92854073,\n",
       "       0.9284868 , 0.92829956, 0.92528853, 0.92494821, 0.92174748,\n",
       "       0.92104528, 0.91794164, 0.91789764, 0.91764716, 0.91762932,\n",
       "       0.91667904, 0.91666989, 0.91469498, 0.91467207, 0.914095  ,\n",
       "       0.91369173, 0.91303681, 0.91284428, 0.91242827, 0.91210135,\n",
       "       0.9084625 , 0.90838414, 0.90704691, 0.90657181, 0.90650447,\n",
       "       0.9047133 , 0.90470008, 0.9045031 , 0.90344735, 0.90215094,\n",
       "       0.90206921, 0.90152518, 0.90139056, 0.90128512, 0.89893348,\n",
       "       0.89765616, 0.89758813, 0.89386521, 0.89248479, 0.8920727 ,\n",
       "       0.8919917 , 0.89182933, 0.89179042, 0.88955514, 0.88837153,\n",
       "       0.88679527, 0.88415604, 0.88058804, 0.88000269, 0.8792604 ,\n",
       "       0.87802869, 0.87793549, 0.87596172, 0.87502646, 0.87496368,\n",
       "       0.87455772, 0.86830624, 0.86802436, 0.8669263 , 0.8653704 ,\n",
       "       0.8634009 , 0.86335206, 0.8632029 , 0.86300774, 0.86220674,\n",
       "       0.86131221, 0.86116411, 0.86043247, 0.85957786, 0.85931921,\n",
       "       0.85883636, 0.85860432, 0.85840937, 0.85672931, 0.85640625,\n",
       "       0.85634942, 0.855536  , 0.85392414, 0.85370406, 0.85344513,\n",
       "       0.85316585, 0.85305132, 0.85102639, 0.85102275, 0.85082081,\n",
       "       0.85006837, 0.84733797, 0.84716748, 0.84715301, 0.84676506,\n",
       "       0.84668404, 0.84602757, 0.84587258, 0.8453331 , 0.84531797,\n",
       "       0.84469124, 0.8443086 , 0.84308249, 0.84302878, 0.84216826,\n",
       "       0.84214635, 0.84195259, 0.84060457, 0.8404636 , 0.83542056,\n",
       "       0.83244716, 0.83237834, 0.8320975 , 0.83202513, 0.82894674,\n",
       "       0.82853185, 0.82805253, 0.82620906, 0.82314083, 0.82255807,\n",
       "       0.82255793, 0.82145628, 0.82090654, 0.82028981, 0.81915065,\n",
       "       0.81831554, 0.81759253, 0.81756035, 0.81740519, 0.81734387,\n",
       "       0.81482044, 0.81445907, 0.81388048, 0.81312276, 0.81308215,\n",
       "       0.81203057, 0.80990998, 0.80894311, 0.80799514, 0.80781781,\n",
       "       0.80527721, 0.80286727, 0.80119595, 0.80096018, 0.79760239,\n",
       "       0.79723232, 0.79708613, 0.79584255, 0.79537547, 0.79389873,\n",
       "       0.79345777, 0.79284967, 0.79172125, 0.79167496, 0.78842494,\n",
       "       0.7880274 , 0.78794898, 0.78618343, 0.78500512, 0.78467657,\n",
       "       0.78428493, 0.78376538, 0.78080722, 0.78028054, 0.7799264 ,\n",
       "       0.77953758, 0.7773021 , 0.7764267 , 0.77310001, 0.77242851,\n",
       "       0.77210024, 0.77160517, 0.77157387, 0.76945294, 0.76706415,\n",
       "       0.76565992, 0.76323002, 0.76191234, 0.75905533, 0.75903794,\n",
       "       0.75863526, 0.75797237, 0.75747675, 0.75502807, 0.75069563,\n",
       "       0.74926088, 0.74881419, 0.74861709, 0.74773083, 0.74549166,\n",
       "       0.74465292, 0.74431821, 0.74026314, 0.74006474, 0.7380667 ,\n",
       "       0.73178243, 0.7313197 , 0.72915271, 0.72864682, 0.72832176,\n",
       "       0.72751417, 0.7259925 , 0.72484022, 0.72478183, 0.72399283,\n",
       "       0.72364143, 0.72340475, 0.72319103, 0.72121508, 0.71838346,\n",
       "       0.71579895, 0.71331023, 0.71218094, 0.71216974, 0.71155048,\n",
       "       0.71110099, 0.70976961, 0.70924735, 0.70750524, 0.70748943,\n",
       "       0.70729779, 0.70661897, 0.70440382, 0.70109378, 0.70039785,\n",
       "       0.70011909, 0.69946995, 0.69936054, 0.69934955, 0.69700388,\n",
       "       0.69616004, 0.69592444, 0.69566786, 0.69502501, 0.69376465,\n",
       "       0.69339116, 0.69135522, 0.69079335, 0.68729797, 0.687159  ,\n",
       "       0.68656586, 0.68596581, 0.68585475, 0.68540589, 0.68224991,\n",
       "       0.68070247, 0.67865198, 0.67833141, 0.67646511, 0.67609377,\n",
       "       0.67517041, 0.67470764, 0.67456591, 0.67424218, 0.67406096,\n",
       "       0.673769  , 0.67363971, 0.67362997, 0.67303802, 0.67194761,\n",
       "       0.67190842, 0.67023875, 0.66926762, 0.66666462, 0.66665413,\n",
       "       0.66628418, 0.66607021, 0.66474603, 0.66342735, 0.66098258,\n",
       "       0.66076546, 0.65913022, 0.65865257, 0.658366  , 0.65835298,\n",
       "       0.65763698, 0.6553209 , 0.65320605, 0.65236422, 0.65204185,\n",
       "       0.64923787, 0.64904061, 0.64757373, 0.646629  , 0.64559227,\n",
       "       0.64453136, 0.64350945, 0.64341087, 0.6429863 , 0.64002311,\n",
       "       0.63867708, 0.63842615, 0.63710443, 0.6347856 , 0.63473794,\n",
       "       0.63425589, 0.63036636, 0.62880568, 0.62864837, 0.62801215,\n",
       "       0.62535971, 0.62475467, 0.6241045 , 0.62334635, 0.62330227,\n",
       "       0.62313466, 0.62200944, 0.62018228, 0.61995421, 0.6190735 ,\n",
       "       0.61799834, 0.61774481, 0.61757891, 0.61634027, 0.61631822,\n",
       "       0.61554881, 0.61531491, 0.61410193, 0.61371598, 0.61351668,\n",
       "       0.61090484, 0.61043218, 0.60707415, 0.60634447, 0.60611864,\n",
       "       0.60432022, 0.60412738, 0.60379354, 0.60323179, 0.60177972,\n",
       "       0.60145496, 0.600376  , 0.59943143, 0.59874874, 0.59864632,\n",
       "       0.59833059, 0.59758771, 0.59524136, 0.59514219, 0.59454488,\n",
       "       0.59302326, 0.59292566, 0.59283738, 0.59241342, 0.5922589 ,\n",
       "       0.58975533, 0.58896738, 0.58695889, 0.58617558, 0.58606746,\n",
       "       0.58600726, 0.58555422, 0.58550787, 0.58501389, 0.58452614,\n",
       "       0.58283219, 0.58283036, 0.5825877 , 0.57995408, 0.5797832 ,\n",
       "       0.57884634, 0.57556924, 0.57549423, 0.57494816, 0.57141577,\n",
       "       0.5711721 , 0.57102345, 0.57013666, 0.56949182, 0.56843277,\n",
       "       0.56798673, 0.56729625, 0.56503747, 0.56455144, 0.56295852,\n",
       "       0.56141087, 0.55992669, 0.55935274, 0.55617006, 0.55604238,\n",
       "       0.55581943, 0.55577044, 0.55532193, 0.5548594 , 0.55351724,\n",
       "       0.55326703, 0.55275128, 0.55254336, 0.55202583, 0.55163235,\n",
       "       0.54970893, 0.54942004, 0.54941939, 0.54886173, 0.54775828,\n",
       "       0.54772762, 0.54732713, 0.5464828 , 0.54624667, 0.54535263,\n",
       "       0.54521012, 0.54369701, 0.54365041, 0.54362635, 0.54301611,\n",
       "       0.54119058, 0.54038281, 0.54014276, 0.53910266, 0.53451279,\n",
       "       0.53417516, 0.53402352, 0.53291028, 0.53198462, 0.53095704,\n",
       "       0.53015105, 0.52799686, 0.5265199 , 0.52475613, 0.52413705,\n",
       "       0.51884198, 0.51850068])"
      ]
     },
     "execution_count": 40,
     "metadata": {},
     "output_type": "execute_result"
    }
   ],
   "source": [
    "c"
   ]
  },
  {
   "cell_type": "code",
   "execution_count": 27,
   "metadata": {},
   "outputs": [
    {
     "data": {
      "text/plain": [
       "numpy.ndarray"
      ]
     },
     "execution_count": 27,
     "metadata": {},
     "output_type": "execute_result"
    }
   ],
   "source": [
    "type(pos_indices)"
   ]
  },
  {
   "cell_type": "code",
   "execution_count": 36,
   "metadata": {},
   "outputs": [
    {
     "data": {
      "text/plain": [
       "(497,)"
      ]
     },
     "execution_count": 36,
     "metadata": {},
     "output_type": "execute_result"
    }
   ],
   "source": [
    "np.shape(b)"
   ]
  },
  {
   "cell_type": "code",
   "execution_count": 30,
   "metadata": {},
   "outputs": [
    {
     "ename": "IndexError",
     "evalue": "index 3 is out of bounds for axis 0 with size 1",
     "output_type": "error",
     "traceback": [
      "\u001b[0;31m---------------------------------------------------------------------------\u001b[0m",
      "\u001b[0;31mIndexError\u001b[0m                                Traceback (most recent call last)",
      "\u001b[0;32m<ipython-input-30-3ca0c56c61f1>\u001b[0m in \u001b[0;36m<module>\u001b[0;34m\u001b[0m\n\u001b[0;32m----> 1\u001b[0;31m \u001b[0ma\u001b[0m\u001b[0;34m[\u001b[0m\u001b[0mpos_indices\u001b[0m\u001b[0;34m]\u001b[0m\u001b[0;34m\u001b[0m\u001b[0m\n\u001b[0m",
      "\u001b[0;31mIndexError\u001b[0m: index 3 is out of bounds for axis 0 with size 1"
     ]
    }
   ],
   "source": [
    "a[pos_indices]"
   ]
  },
  {
   "cell_type": "code",
   "execution_count": 34,
   "metadata": {},
   "outputs": [
    {
     "data": {
      "text/plain": [
       "(1, 1000)"
      ]
     },
     "execution_count": 34,
     "metadata": {},
     "output_type": "execute_result"
    }
   ],
   "source": [
    "np.shape(a)"
   ]
  },
  {
   "cell_type": "code",
   "execution_count": 41,
   "metadata": {},
   "outputs": [],
   "source": [
    "original_vocab_file = '/gpfs/qlong/home/tzzhang/nlp_test/bert/multi_cased_L-12_H-768_A-12/vocab.txt'"
   ]
  },
  {
   "cell_type": "code",
   "execution_count": 42,
   "metadata": {},
   "outputs": [],
   "source": [
    "ori_vocab = open(original_vocab_file,'r').readlines()"
   ]
  },
  {
   "cell_type": "code",
   "execution_count": 45,
   "metadata": {},
   "outputs": [
    {
     "data": {
      "text/plain": [
       "'broju'"
      ]
     },
     "execution_count": 45,
     "metadata": {},
     "output_type": "execute_result"
    }
   ],
   "source": [
    "ori_vocab[20000].strip()"
   ]
  },
  {
   "cell_type": "code",
   "execution_count": 47,
   "metadata": {},
   "outputs": [
    {
     "name": "stdout",
     "output_type": "stream",
     "text": [
      "1\n",
      "2\n",
      "100\n"
     ]
    }
   ],
   "source": [
    "a = set()\n",
    "a.add(1)\n",
    "a.add(2)\n",
    "a.add(2)\n",
    "a.add(100)\n",
    "for i in a:\n",
    "    print(i)"
   ]
  },
  {
   "cell_type": "code",
   "execution_count": null,
   "metadata": {},
   "outputs": [],
   "source": [
    "def vocab_prep(pos_words,neg_words)"
   ]
  }
 ],
 "metadata": {
  "kernelspec": {
   "display_name": "Python 3",
   "language": "python",
   "name": "python3"
  }
 },
 "nbformat": 4,
 "nbformat_minor": 2
}
