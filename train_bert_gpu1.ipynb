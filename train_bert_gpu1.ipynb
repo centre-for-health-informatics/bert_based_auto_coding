{
 "cells": [
  {
   "cell_type": "code",
   "execution_count": 1,
   "metadata": {},
   "outputs": [],
   "source": [
    "import os\n",
    "os.environ['CUDA_VISIBLE_DEVICES']='1'"
   ]
  },
  {
   "cell_type": "code",
   "execution_count": 2,
   "metadata": {},
   "outputs": [],
   "source": [
    "from pytorch_transformers import modeling_bert\n",
    "import numpy as np\n",
    "import torch\n",
    "from pytorch_transformers import BertTokenizer\n",
    "tokenizer = BertTokenizer.from_pretrained('bert-base-uncased')\n",
    "from tqdm import tqdm\n",
    "import pdb\n",
    "import torch.nn.functional as F\n",
    "from torch import optim\n",
    "import sys\n",
    "model_name = 'Original_Bert'\n",
    "import time\n",
    "import utils\n",
    "import imp\n",
    "#from utils import batch_sent_loader\n",
    "import os\n",
    "from sklearn.metrics import confusion_matrix\n",
    "import json"
   ]
  },
  {
   "cell_type": "code",
   "execution_count": 14,
   "metadata": {},
   "outputs": [],
   "source": [
    "#Set up parameters\n",
    "imp.reload(utils)\n",
    "hpara1 = utils.hpara()\n",
    "hpara1.ratio = 2\n",
    "hpara1.batch_size = 8\n",
    "hpara1.word_layers=1\n",
    "hpara1.sent_layers=1\n",
    "hpara1.use_position_embedding = False\n",
    "hpara1.use_angular = False\n",
    "hpara1.word_lr = 5e-05\n",
    "hpara1.sent_lr = 0.0002\n",
    "hpara1.accumulation_steps = 40"
   ]
  },
  {
   "cell_type": "code",
   "execution_count": 15,
   "metadata": {},
   "outputs": [],
   "source": [
    "hpara1.use_PU_Bert = False"
   ]
  },
  {
   "cell_type": "code",
   "execution_count": 16,
   "metadata": {},
   "outputs": [],
   "source": [
    "if hpara1.use_PU_Bert:\n",
    "    pretrain_model_dir = '/gpfs/qlong/home/tzzhang/nlp_test/bert/mimic_based_complete_model'\n",
    "else:\n",
    "    pretrain_model_dir = '/gpfs/qlong/home/tzzhang/bioBert/pretrained_bert_tf/biobert_pretrain_output_all_notes_150000'\n",
    "vocab_file = os.path.join(pretrain_model_dir,'vocab.txt')\n",
    "bert_config_file = os.path.join(pretrain_model_dir,'bert_config.json')\n",
    "      "
   ]
  },
  {
   "cell_type": "code",
   "execution_count": 17,
   "metadata": {},
   "outputs": [],
   "source": [
    "imp.reload(utils)\n",
    "training_generator,validation_generator,dummy_generator = utils.load_data(ratio=hpara1.ratio,clarity=True)\n",
    "tokenizer = utils._load_tf_tokenizer(vocab_file = vocab_file)"
   ]
  },
  {
   "cell_type": "code",
   "execution_count": 18,
   "metadata": {},
   "outputs": [],
   "source": [
    "# Set up the word embedding model but do not load the pre-trained parameters\n",
    "config = modeling_bert.BertConfig.from_json_file(bert_config_file)\n",
    "config.num_hidden_layers = hpara1.word_layers\n",
    "config.output_attentions = True\n",
    "model_word = modeling_bert.BertModel(config)"
   ]
  },
  {
   "cell_type": "code",
   "execution_count": 19,
   "metadata": {},
   "outputs": [
    {
     "name": "stdout",
     "output_type": "stream",
     "text": [
      "tensor([ 0.0031, -0.0138,  0.0488, -0.0027,  0.0052, -0.0378, -0.0397, -0.0166,\n",
      "        -0.0285,  0.0447])\n"
     ]
    }
   ],
   "source": [
    "para = model_word.state_dict()\n",
    "att_layer_weight = para['encoder.layer.0.attention.self.query.weight']\n",
    "print(att_layer_weight[0,:10])"
   ]
  },
  {
   "cell_type": "code",
   "execution_count": 20,
   "metadata": {},
   "outputs": [
    {
     "data": {
      "text/plain": [
       "<All keys matched successfully>"
      ]
     },
     "execution_count": 20,
     "metadata": {},
     "output_type": "execute_result"
    }
   ],
   "source": [
    "import re\n",
    "# Set up the word embedding model and load the pre-trained parameters\n",
    "if hpara1.use_PU_Bert:\n",
    "    model_state_dict = './PU_pretrained_model/save_word_complete0.bin'\n",
    "else:\n",
    "    model_state_dict = pretrain_model_dir + '/pytorch_model.bin'\n",
    "pretrained_dict = torch.load(model_state_dict)\n",
    "model_dict = model_word.state_dict()\n",
    "matched_dict = {}\n",
    "for k in pretrained_dict.keys():\n",
    "    try:\n",
    "        new_k = re.search(r'(bert\\.)(.*)',k).group(2)\n",
    "    except:\n",
    "        continue\n",
    "    if new_k in model_dict:\n",
    "        matched_dict[new_k] = pretrained_dict[k]\n",
    "model_dict.update(matched_dict)\n",
    "model_word.load_state_dict(model_dict)"
   ]
  },
  {
   "cell_type": "code",
   "execution_count": 21,
   "metadata": {},
   "outputs": [],
   "source": [
    "config_doc = modeling_bert.BertConfig.from_json_file(bert_config_file)\n",
    "config_doc.num_hidden_layers = hpara1.sent_layers\n",
    "config_doc.output_attentions = True\n",
    "use_advanced_loss = hpara1.use_angular\n",
    "use_position_embedding = hpara1.use_position_embedding\n",
    "model_sent = modeling_bert.BertModel_no_embedding(config_doc,use_advanced_loss=use_advanced_loss,use_position_embedding=use_position_embedding)"
   ]
  },
  {
   "cell_type": "code",
   "execution_count": 22,
   "metadata": {},
   "outputs": [
    {
     "name": "stdout",
     "output_type": "stream",
     "text": [
      "tensor([-0.0465,  0.0266, -0.0032,  0.0086,  0.0237,  0.0398, -0.0429,  0.0951,\n",
      "         0.0558,  0.0189])\n"
     ]
    }
   ],
   "source": [
    "para = model_word.state_dict()\n",
    "att_layer_weight = para['encoder.layer.0.attention.self.query.weight']\n",
    "print(att_layer_weight[0,:10])"
   ]
  },
  {
   "cell_type": "code",
   "execution_count": 23,
   "metadata": {},
   "outputs": [],
   "source": [
    "model_word = model_word.cuda()\n",
    "model_sent = model_sent.cuda()"
   ]
  },
  {
   "cell_type": "code",
   "execution_count": 24,
   "metadata": {},
   "outputs": [],
   "source": [
    "date = str(list(time.localtime())[0:3]).replace(', ','_')\n",
    "save_dir = './exp/'+model_name+'_'+date[1:-1]+'_1layer/'\n",
    "\n",
    "if not os.path.exists(save_dir):\n",
    "    cmd = 'mkdir -p ' + save_dir\n",
    "    os.system(cmd)\n",
    "     \n",
    "with open(save_dir + 'hpara.json', 'w') as fp:\n",
    "    json.dump(hpara1.__dict__, fp)\n",
    "    \n",
    "do_train = True\n",
    "do_test = True\n",
    "\n",
    "max_epoch = hpara1.max_epoch\n",
    "log = 'Iter {}/{}, Loss={:.3f},accu={:.3f},time={:.3f}\\n'\n",
    "from tqdm import tqdm\n",
    "batch_size = hpara1.batch_size\n",
    "accumulation_steps = hpara1.accumulation_steps\n",
    "max_sent_len = hpara1.max_sent_len\n",
    "max_doc_len = hpara1.max_doc_len\n",
    "#progress_bar = tqdm(enumerate(training_generator))\n",
    "para_dict = {}\n",
    "hpara_list = []"
   ]
  },
  {
   "cell_type": "code",
   "execution_count": null,
   "metadata": {
    "scrolled": true
   },
   "outputs": [
    {
     "name": "stdout",
     "output_type": "stream",
     "text": [
      "0\n",
      "1000\n",
      "2000\n",
      "3000\n",
      "4000\n",
      "Iter 0/60, Loss=3203.680,accu=0.652,time=854.353\n",
      "\n",
      "Test Iter 0/60, Loss=768.333,accu=0.667,auc=0.770,time=132.597\n",
      "\n",
      "[[789   0]\n",
      " [394   0]]\n",
      "0\n",
      "1000\n",
      "2000\n",
      "3000\n",
      "4000\n",
      "Iter 1/60, Loss=3047.954,accu=0.667,time=865.277\n",
      "\n",
      "Test Iter 1/60, Loss=751.259,accu=0.667,auc=0.749,time=130.537\n",
      "\n",
      "[[789   0]\n",
      " [394   0]]\n",
      "0\n",
      "1000\n",
      "2000\n",
      "3000\n",
      "4000\n",
      "Iter 2/60, Loss=2734.345,accu=0.673,time=860.616\n",
      "\n",
      "Test Iter 2/60, Loss=598.831,accu=0.706,auc=0.783,time=133.848\n",
      "\n",
      "[[663 126]\n",
      " [222 172]]\n",
      "0\n",
      "1000\n",
      "2000\n",
      "3000\n",
      "4000\n",
      "Iter 3/60, Loss=2363.025,accu=0.712,time=859.794\n",
      "\n",
      "Test Iter 3/60, Loss=554.649,accu=0.721,auc=0.841,time=130.364\n",
      "\n",
      "[[745  44]\n",
      " [286 108]]\n",
      "0\n",
      "1000\n",
      "2000\n",
      "3000\n",
      "4000\n",
      "Iter 4/60, Loss=2129.762,accu=0.760,time=851.371\n",
      "\n",
      "Test Iter 4/60, Loss=530.027,accu=0.771,auc=0.866,time=133.960\n",
      "\n",
      "[[720  69]\n",
      " [202 192]]\n",
      "0\n",
      "1000\n",
      "2000\n",
      "3000\n",
      "4000\n",
      "Iter 5/60, Loss=2053.186,accu=0.780,time=849.943\n",
      "\n",
      "Test Iter 5/60, Loss=478.229,accu=0.806,auc=0.880,time=131.520\n",
      "\n",
      "[[686 103]\n",
      " [126 268]]\n",
      "0\n",
      "1000\n",
      "2000\n",
      "3000\n",
      "4000\n",
      "Iter 6/60, Loss=1916.173,accu=0.801,time=859.725\n",
      "\n",
      "Test Iter 6/60, Loss=467.366,accu=0.815,auc=0.886,time=130.164\n",
      "\n",
      "[[675 114]\n",
      " [105 289]]\n",
      "0\n",
      "1000\n",
      "2000\n",
      "3000\n",
      "4000\n",
      "Iter 7/60, Loss=1850.815,accu=0.813,time=850.824\n",
      "\n",
      "Test Iter 7/60, Loss=451.600,accu=0.826,auc=0.894,time=130.963\n",
      "\n",
      "[[672 117]\n",
      " [ 89 305]]\n",
      "0\n",
      "1000\n"
     ]
    }
   ],
   "source": [
    "utils.model_train_and_test(hpara1,model_word,model_sent,save_dir,training_generator,validation_generator,tokenizer=tokenizer)"
   ]
  },
  {
   "cell_type": "code",
   "execution_count": null,
   "metadata": {},
   "outputs": [],
   "source": []
  }
 ],
 "metadata": {
  "kernelspec": {
   "display_name": "Python 3",
   "language": "python",
   "name": "python3"
  },
  "language_info": {
   "codemirror_mode": {
    "name": "ipython",
    "version": 3
   },
   "file_extension": ".py",
   "mimetype": "text/x-python",
   "name": "python",
   "nbconvert_exporter": "python",
   "pygments_lexer": "ipython3",
   "version": "3.5.2"
  }
 },
 "nbformat": 4,
 "nbformat_minor": 2
}
