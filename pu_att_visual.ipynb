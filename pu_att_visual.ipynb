{
 "cells": [
  {
   "cell_type": "code",
   "execution_count": 1,
   "metadata": {},
   "outputs": [],
   "source": [
    "from att_visual import generate\n",
    "import os\n",
    "os.environ['CUDA_VISIBLE_DEVICES']='1'"
   ]
  },
  {
   "cell_type": "code",
   "execution_count": 2,
   "metadata": {},
   "outputs": [],
   "source": [
    "from pytorch_transformers import modeling_bert\n",
    "import numpy as np\n",
    "import torch\n",
    "from pytorch_transformers import BertTokenizer\n",
    "import pdb\n",
    "import torch.nn.functional as F\n",
    "import sys\n",
    "model_name = 'Complete_Bert'\n",
    "import time\n",
    "import utils\n",
    "import imp\n",
    "import os\n",
    "from sklearn.metrics import confusion_matrix\n",
    "import json"
   ]
  },
  {
   "cell_type": "code",
   "execution_count": 3,
   "metadata": {},
   "outputs": [],
   "source": [
    "imp.reload(utils)\n",
    "hpara1 = utils.hpara()"
   ]
  },
  {
   "cell_type": "code",
   "execution_count": 4,
   "metadata": {},
   "outputs": [],
   "source": [
    "hpara1.ratio = 2 \n",
    "hpara1.batch_size = 1\n",
    "hpara1.word_layers=1\n",
    "hpara1.sent_layers=1\n",
    "hpara1.use_position_embedding = True\n",
    "hpara1.use_angular = False"
   ]
  },
  {
   "cell_type": "code",
   "execution_count": 5,
   "metadata": {},
   "outputs": [],
   "source": [
    "imp.reload(utils)\n",
    "training_generator,validation_generator,dummy_generator = utils.load_data(ratio=hpara1.ratio,clarity =True)\n",
    "tokenizer = utils._load_tf_tokenizer(vocab_file = '/gpfs/qlong/home/tzzhang/nlp_test/bert/mimic_based_complete_model/vocab.txt')"
   ]
  },
  {
   "cell_type": "code",
   "execution_count": 6,
   "metadata": {},
   "outputs": [],
   "source": [
    "# Set up the word embedding model but do not load the pre-trained parameters\n",
    "tf_src_dir = '/gpfs/qlong/home/tzzhang/nlp_test/bert/mimic_based_complete_model'\n",
    "bert_config_file = os.path.join(tf_src_dir,'bert_config.json')\n",
    "config = modeling_bert.BertConfig.from_json_file(bert_config_file)\n",
    "config.num_hidden_layers = hpara1.word_layers\n",
    "config.output_attentions = True\n",
    "model_word = modeling_bert.BertModel(config)"
   ]
  },
  {
   "cell_type": "code",
   "execution_count": 7,
   "metadata": {},
   "outputs": [],
   "source": [
    "config_doc = modeling_bert.BertConfig.from_json_file(bert_config_file)\n",
    "config_doc.num_hidden_layers = hpara1.sent_layers\n",
    "config_doc.output_attentions = True\n",
    "use_advanced_loss = hpara1.use_angular\n",
    "use_position_embedding = hpara1.use_position_embedding\n",
    "model_sent = modeling_bert.BertModel_no_embedding(config_doc,use_advanced_loss=use_advanced_loss,use_position_embedding=use_position_embedding)"
   ]
  },
  {
   "cell_type": "code",
   "execution_count": 37,
   "metadata": {},
   "outputs": [
    {
     "data": {
      "text/plain": [
       "<All keys matched successfully>"
      ]
     },
     "execution_count": 37,
     "metadata": {},
     "output_type": "execute_result"
    }
   ],
   "source": [
    "model_dir = '/gpfs/qlong/home/tzzhang/mimicIII/nn_code/exp/Complete_Bert_2019_11_29_1layer_Emb'\n",
    "i = 8\n",
    "word_model_path = os.path.join(model_dir,'save_word_'+str(i) + '.bin')\n",
    "sent_model_path = os.path.join(model_dir,'save_sent_'+str(i) + '.bin')\n",
    "model_word.load_state_dict(torch.load(word_model_path))\n",
    "model_sent.load_state_dict(torch.load(sent_model_path))"
   ]
  },
  {
   "cell_type": "code",
   "execution_count": 38,
   "metadata": {},
   "outputs": [],
   "source": [
    "model_word = model_word.cuda()\n",
    "model_sent = model_sent.cuda()"
   ]
  },
  {
   "cell_type": "code",
   "execution_count": 39,
   "metadata": {},
   "outputs": [],
   "source": [
    "date = str(list(time.localtime())[0:3]).replace(', ','_')\n",
    "save_dir = './exp/'+model_name+'_'+date[1:-1]+'_visual/'\n",
    "if not os.path.exists(save_dir):\n",
    "    cmd = 'mkdir -p ' + save_dir\n",
    "    os.system(cmd)\n",
    "     \n",
    "with open(save_dir + 'hpara.json', 'w') as fp:\n",
    "    json.dump(hpara1.__dict__, fp)\n",
    "    \n",
    "imp.reload(utils)\n",
    "aaa = utils.output_att_scores(hpara1,model_word,model_sent,save_dir,training_generator,validation_generator,use_angular=False)"
   ]
  },
  {
   "cell_type": "code",
   "execution_count": 40,
   "metadata": {},
   "outputs": [
    {
     "data": {
      "text/plain": [
       "generator"
      ]
     },
     "execution_count": 40,
     "metadata": {},
     "output_type": "execute_result"
    }
   ],
   "source": [
    "type(aaa)"
   ]
  },
  {
   "cell_type": "code",
   "execution_count": 41,
   "metadata": {},
   "outputs": [],
   "source": [
    "word_att_list,sent_att_score,doc,proba = next(aaa)"
   ]
  },
  {
   "cell_type": "code",
   "execution_count": 42,
   "metadata": {},
   "outputs": [
    {
     "data": {
      "text/plain": [
       "tensor([[-1.9376, -0.1555]], device='cuda:0', grad_fn=<LogSoftmaxBackward>)"
      ]
     },
     "execution_count": 42,
     "metadata": {},
     "output_type": "execute_result"
    }
   ],
   "source": [
    "proba"
   ]
  },
  {
   "cell_type": "code",
   "execution_count": 13,
   "metadata": {},
   "outputs": [
    {
     "data": {
      "text/plain": [
       "list"
      ]
     },
     "execution_count": 13,
     "metadata": {},
     "output_type": "execute_result"
    }
   ],
   "source": [
    "type(qqq)"
   ]
  },
  {
   "cell_type": "code",
   "execution_count": 14,
   "metadata": {},
   "outputs": [
    {
     "data": {
      "text/plain": [
       "227"
      ]
     },
     "execution_count": 14,
     "metadata": {},
     "output_type": "execute_result"
    }
   ],
   "source": [
    "len(qqq)"
   ]
  },
  {
   "cell_type": "code",
   "execution_count": 22,
   "metadata": {},
   "outputs": [
    {
     "data": {
      "text/plain": [
       "tuple"
      ]
     },
     "execution_count": 22,
     "metadata": {},
     "output_type": "execute_result"
    }
   ],
   "source": [
    "type(qqq[0])"
   ]
  },
  {
   "cell_type": "code",
   "execution_count": 15,
   "metadata": {},
   "outputs": [
    {
     "data": {
      "text/plain": [
       "tuple"
      ]
     },
     "execution_count": 15,
     "metadata": {},
     "output_type": "execute_result"
    }
   ],
   "source": [
    "type(qqq[0])"
   ]
  },
  {
   "cell_type": "code",
   "execution_count": 16,
   "metadata": {},
   "outputs": [
    {
     "data": {
      "text/plain": [
       "1"
      ]
     },
     "execution_count": 16,
     "metadata": {},
     "output_type": "execute_result"
    }
   ],
   "source": [
    "len(qqq[0])"
   ]
  },
  {
   "cell_type": "code",
   "execution_count": 19,
   "metadata": {},
   "outputs": [
    {
     "data": {
      "text/plain": [
       "torch.Size([1, 12, 64, 64])"
      ]
     },
     "execution_count": 19,
     "metadata": {},
     "output_type": "execute_result"
    }
   ],
   "source": [
    "qqq[0][0].shape"
   ]
  },
  {
   "cell_type": "code",
   "execution_count": 21,
   "metadata": {},
   "outputs": [
    {
     "data": {
      "text/plain": [
       "1"
      ]
     },
     "execution_count": 21,
     "metadata": {},
     "output_type": "execute_result"
    }
   ],
   "source": [
    "len(www)"
   ]
  },
  {
   "cell_type": "code",
   "execution_count": 14,
   "metadata": {},
   "outputs": [
    {
     "ename": "NameError",
     "evalue": "name 'www' is not defined",
     "output_type": "error",
     "traceback": [
      "\u001b[0;31m---------------------------------------------------------------------------\u001b[0m",
      "\u001b[0;31mNameError\u001b[0m                                 Traceback (most recent call last)",
      "\u001b[0;32m<ipython-input-14-b67bf02cdffe>\u001b[0m in \u001b[0;36m<module>\u001b[0;34m\u001b[0m\n\u001b[0;32m----> 1\u001b[0;31m \u001b[0mwww\u001b[0m\u001b[0;34m[\u001b[0m\u001b[0;36m0\u001b[0m\u001b[0;34m]\u001b[0m\u001b[0;34m.\u001b[0m\u001b[0mshape\u001b[0m\u001b[0;34m\u001b[0m\u001b[0m\n\u001b[0m",
      "\u001b[0;31mNameError\u001b[0m: name 'www' is not defined"
     ]
    }
   ],
   "source": [
    "www[0].shape"
   ]
  },
  {
   "cell_type": "code",
   "execution_count": 16,
   "metadata": {},
   "outputs": [],
   "source": [
    "from scipy.special import softmax\n",
    "def One_layer_back_trace(att_heads): # need a tensor as input\n",
    "    seq_len = att_heads.shape[2]\n",
    "    layer_num = len(att_heads)\n",
    "    last_layer_portion = np.diag([1] * seq_len)\n",
    "    one_layer_att_heads = att_heads[0]\n",
    "    sum_through_heads = torch.sum(one_layer_att_heads,0)\n",
    "    sum_through_heads = sum_through_heads.cpu().detach().numpy()\n",
    "    sum_through_heads = np.where(sum_through_heads > 0.001, sum_through_heads, sum_through_heads -1000)\n",
    "    #pdb.set_trace()\n",
    "    #prop_through_heads = sum_through_heads\n",
    "    prop_through_heads = softmax(sum_through_heads,axis=1)\n",
    "    curr_layer_portion = np.matmul(prop_through_heads, last_layer_portion)\n",
    "    return curr_layer_portion"
   ]
  },
  {
   "cell_type": "code",
   "execution_count": 43,
   "metadata": {},
   "outputs": [],
   "source": [
    "sent_weight = One_layer_back_trace(sent_att_score[0])"
   ]
  },
  {
   "cell_type": "code",
   "execution_count": 44,
   "metadata": {
    "scrolled": true
   },
   "outputs": [
    {
     "data": {
      "text/plain": [
       "array([0.00526846, 0.00385837, 0.00385744, 0.00386923, 0.00385646,\n",
       "       0.00388383, 0.00385661, 0.00391922, 0.00386636, 0.00385651,\n",
       "       0.00390121, 0.00385628, 0.00385411, 0.0038607 , 0.00385517,\n",
       "       0.00385591, 0.00385591, 0.00385615, 0.00385653, 0.00596919,\n",
       "       0.00385743, 0.00385301, 0.00385512, 0.00385553, 0.00385587,\n",
       "       0.00385743, 0.00421096, 0.00385566, 0.00385814, 0.00448316,\n",
       "       0.00404915, 0.00397496, 0.00394144, 0.00407067, 0.00387124,\n",
       "       0.00386985, 0.00388103, 0.00386759, 0.00386959, 0.0038641 ,\n",
       "       0.00386012, 0.00385714, 0.00385855, 0.0038798 , 0.00386788,\n",
       "       0.00387206, 0.00385584, 0.00385786, 0.00385459, 0.00385569,\n",
       "       0.00385747, 0.00394416, 0.00386365, 0.00387282, 0.00386524,\n",
       "       0.0038546 , 0.0047695 , 0.00385683, 0.00385395, 0.0038576 ,\n",
       "       0.00385881, 0.00385403, 0.00385556, 0.00386257, 0.00385518,\n",
       "       0.00386358, 0.00385873, 0.00385383, 0.00386285, 0.00385805,\n",
       "       0.00385548, 0.00385508, 0.00385832, 0.00385466, 0.00386738,\n",
       "       0.00393799, 0.00385378, 0.00425253, 0.00385303, 0.00387125,\n",
       "       0.00385936, 0.00388231, 0.00386523, 0.0039781 , 0.00386386,\n",
       "       0.00408913, 0.00412709, 0.00387588, 0.00389796, 0.00386526,\n",
       "       0.00398918, 0.00386076, 0.0038601 , 0.00388551, 0.0038664 ,\n",
       "       0.00386062, 0.00385734, 0.00397557, 0.00385496, 0.00391396,\n",
       "       0.00385496, 0.00385886, 0.0043997 , 0.00392409, 0.00387871,\n",
       "       0.00387154, 0.0038538 , 0.0038574 , 0.00386728, 0.00385828,\n",
       "       0.00387143, 0.00385897, 0.00387608, 0.00385637, 0.00386792,\n",
       "       0.00385987, 0.00387097, 0.00387965, 0.00385505, 0.00386947,\n",
       "       0.00385448, 0.00386263, 0.00385349, 0.00386265, 0.00385467,\n",
       "       0.00385997, 0.0038537 , 0.00385716, 0.00385528, 0.00416334,\n",
       "       0.00385844, 0.00426758, 0.00387353, 0.00494755, 0.00396813,\n",
       "       0.0054838 , 0.00388591, 0.00396004, 0.00385965, 0.0038778 ,\n",
       "       0.00389361, 0.0039488 , 0.00385615, 0.00385852, 0.00386445,\n",
       "       0.00397344, 0.00385598, 0.00385312, 0.00385556, 0.00386819,\n",
       "       0.00387307, 0.00386614, 0.00387181, 0.00389311, 0.00386232,\n",
       "       0.00386288, 0.02495883, 0.00651675, 0.00386175, 0.00388267,\n",
       "       0.00386469, 0.00385531, 0.00385653, 0.00385541, 0.00386454,\n",
       "       0.00389514, 0.00385762, 0.00399404, 0.00409645, 0.00386113,\n",
       "       0.00388012, 0.00402232, 0.00477831, 0.00386731, 0.00385725,\n",
       "       0.00387525, 0.00388691, 0.00386629, 0.00386465, 0.00390564,\n",
       "       0.00386321, 0.00386575, 0.00389188, 0.00385924, 0.00388395,\n",
       "       0.00389493, 0.00386397, 0.0038602 , 0.00385757, 0.0038705 ,\n",
       "       0.00386412, 0.00385772, 0.00387189, 0.00386614, 0.00387073,\n",
       "       0.00387581, 0.003865  , 0.00386138, 0.00386468, 0.00385807,\n",
       "       0.00389991, 0.00386138, 0.00389903, 0.00385629, 0.00386704,\n",
       "       0.003884  , 0.00387045, 0.00388077, 0.00386666, 0.00388054,\n",
       "       0.00385924, 0.00387463, 0.00457497, 0.00386758, 0.0269052 ,\n",
       "       0.00386008, 0.00385619, 0.00385612, 0.00386422, 0.00385999,\n",
       "       0.00385586, 0.00385829, 0.00385566, 0.0038739 , 0.00387525,\n",
       "       0.0038607 , 0.00386667, 0.00386299, 0.05804524, 0.        ,\n",
       "       0.        , 0.        , 0.        , 0.        , 0.        ,\n",
       "       0.        , 0.        , 0.        , 0.        , 0.        ,\n",
       "       0.        , 0.        , 0.        , 0.        , 0.        ,\n",
       "       0.        , 0.        , 0.        , 0.        , 0.        ,\n",
       "       0.        , 0.        , 0.        , 0.        , 0.        ,\n",
       "       0.        , 0.        , 0.        , 0.        , 0.        ,\n",
       "       0.        , 0.        , 0.        , 0.        , 0.        ,\n",
       "       0.        , 0.        , 0.        , 0.        , 0.        ,\n",
       "       0.        , 0.        , 0.        , 0.        , 0.        ,\n",
       "       0.        , 0.        , 0.        , 0.        , 0.        ,\n",
       "       0.        , 0.        , 0.        , 0.        , 0.        ,\n",
       "       0.        , 0.        , 0.        , 0.        , 0.        ,\n",
       "       0.        , 0.        , 0.        , 0.        , 0.        ,\n",
       "       0.        , 0.        , 0.        , 0.        , 0.        ,\n",
       "       0.        , 0.        , 0.        , 0.        , 0.        ,\n",
       "       0.        , 0.        , 0.        , 0.        , 0.        ,\n",
       "       0.        , 0.        , 0.        , 0.        , 0.        ,\n",
       "       0.        , 0.        , 0.        , 0.        , 0.        ,\n",
       "       0.        , 0.        , 0.        , 0.        , 0.        ,\n",
       "       0.        , 0.        , 0.        , 0.        , 0.        ,\n",
       "       0.        , 0.        , 0.        , 0.        , 0.        ,\n",
       "       0.        , 0.        , 0.        , 0.        , 0.        ,\n",
       "       0.        , 0.        , 0.        , 0.        , 0.        ,\n",
       "       0.        , 0.        , 0.        , 0.        , 0.        ,\n",
       "       0.        , 0.        , 0.        , 0.        , 0.        ,\n",
       "       0.        , 0.        , 0.        , 0.        , 0.        ,\n",
       "       0.        , 0.        , 0.        , 0.        , 0.        ,\n",
       "       0.        , 0.        , 0.        , 0.        , 0.        ,\n",
       "       0.        , 0.        , 0.        , 0.        , 0.        ,\n",
       "       0.        , 0.        , 0.        , 0.        , 0.        ,\n",
       "       0.        , 0.        , 0.        , 0.        , 0.        ,\n",
       "       0.        , 0.        , 0.        , 0.        , 0.        ,\n",
       "       0.        , 0.        , 0.        , 0.        , 0.        ,\n",
       "       0.        , 0.        , 0.        , 0.        , 0.        ])"
      ]
     },
     "execution_count": 44,
     "metadata": {},
     "output_type": "execute_result"
    }
   ],
   "source": [
    "sent_weight[0,:]"
   ]
  },
  {
   "cell_type": "code",
   "execution_count": 45,
   "metadata": {},
   "outputs": [
    {
     "name": "stdout",
     "output_type": "stream",
     "text": [
      "0.05804523825645447\n",
      "228\n"
     ]
    }
   ],
   "source": [
    "print(np.max(sent_weight[0,:]))\n",
    "print(np.argmax(sent_weight[0,:]))"
   ]
  },
  {
   "cell_type": "code",
   "execution_count": 50,
   "metadata": {},
   "outputs": [],
   "source": [
    "big_factor = np.argpartition(sent_weight[0,:],-50)[-50:]"
   ]
  },
  {
   "cell_type": "code",
   "execution_count": 51,
   "metadata": {},
   "outputs": [
    {
     "data": {
      "text/plain": [
       "array([136,  88,  86,  85,  90,  83,  97,  99, 102, 103,  77,  75, 129,\n",
       "       131, 133, 134, 137, 140, 141,  56, 145, 153,   7,  51, 165, 167,\n",
       "       168, 171, 172, 176, 179, 182, 185, 200, 202,  33,  32,  31,  30,\n",
       "        29, 212,  26,  10,   0,  19, 135, 156, 157, 214, 228])"
      ]
     },
     "execution_count": 51,
     "metadata": {},
     "output_type": "execute_result"
    }
   ],
   "source": [
    "big_factor"
   ]
  },
  {
   "cell_type": "code",
   "execution_count": 35,
   "metadata": {},
   "outputs": [
    {
     "data": {
      "text/plain": [
       "('L AKA, no edema of RLE, 2+ DP/PT pulses; quarter sized sacral ulcer with mild surrounding tenderness Pertinent Results:09:15AM',)"
      ]
     },
     "execution_count": 35,
     "metadata": {},
     "output_type": "execute_result"
    }
   ],
   "source": [
    "doc[56]"
   ]
  },
  {
   "cell_type": "code",
   "execution_count": 48,
   "metadata": {},
   "outputs": [
    {
     "data": {
      "text/plain": [
       "0.00476949755102396"
      ]
     },
     "execution_count": 48,
     "metadata": {},
     "output_type": "execute_result"
    }
   ],
   "source": [
    "sent_weight[0,56]"
   ]
  },
  {
   "cell_type": "code",
   "execution_count": 69,
   "metadata": {},
   "outputs": [
    {
     "name": "stdout",
     "output_type": "stream",
     "text": [
      "('Urine culture grew E coli and Klebsiella, sensitive to meropenem and bactrim.',)\n",
      "('| AMIKACIN',)\n",
      "('MIC expressed in MCG/ML _ _',)\n",
      "('SENSITIVITIES:',)\n",
      "('32',)\n",
      "('KLEBSIELLA PNEUMONIAE.',)\n",
      "('<=1 S CEFUROXIME 4 S 16',)\n",
      "('4 R =',)\n",
      "('16 R MEROPENEM <=0.25 S <=0.25 S NITROFURANTOIN <',)\n",
      "('=16 S 128 R PIPERACILLIN/TAZO <=4 S 32',)\n",
      "('RBC-',)\n",
      "('NITRITE- NEG PROTEIN-30 GLUCOSE-NEG KETONE-NEG BILIRUBIN-NEG UROBILNGN-NEG PH-6.0',)\n",
      "('Surgical staples projecting over the left upper and lower quadrants remain similar in appearance as well.',)\n",
      "('Patient was initially febrile to 101.8 and hypotensive to 90/68 on admission.',)\n",
      "('Foley was placed with purulent urine return.',)\n",
      "('She was initially continued on meropenem and linezolid, but the linezolid was switched to daptomycin ondue to concern for serotonin syndrome given venlafaxine use.',)\n",
      "('Due to this, meropenem was switched to bactrim onto complete a 14 day course.',)\n",
      "('She was restarted on lisinopril and metoprolol XL after 24hrs w/o hypotension.',)\n",
      "('## Osteomyelitis: No complaints of back pain.',)\n",
      "('Extremities:',)\n",
      "('She will followup inclinic.',)\n",
      "('Held oral hypoglycemics and had reasonable glucose control with insulin sliding scale.',)\n",
      "('History of Present Illness:',)\n",
      "('Heart: RRR, no m,r,',)\n",
      "('She is being discharged back to her.',)\n",
      "('Pioglitazone 7.5mg PO daily',)\n",
      "('Fluticasone-salmeterol Omeprazole 20mg PO BID Tiotropium MDI Aspirin 81mg PO daily',)\n",
      "('Venlafaxine 25mg',)\n",
      "('PO BID Oxycodone PO Q6H',)\n",
      "('( Capsule, Delayed Release(E.C.)',)\n",
      "('Venlafaxine 25 mg Tablet Sig: One',)\n",
      "('Capsule Sig: One',)\n",
      "('Tablet Sig: One',)\n",
      "('Actos',)\n",
      "('Spiriva with HandiHaler 18 mcg Capsule, w/Inhalation Device Sig: One',)\n",
      "('PVD s/p common femoral to left common',)\n",
      "('Psoas/iliacus abscesses6)Hypertension Type 2 diabetes Stomach carcinoma s/p resection Hx of gastritis/esophagitis Chronic anemia 11)',)\n",
      "('s/p daptomycin and meropenem x8 weeks ; biopsy cultures were negative',)\n",
      "('VRE stump infection2)Klebsiella pneumonia and bacteremia Multiple UTIs including ESBL E. coliin setting of foley Lumbar osteomyelitis L2-L3',)\n",
      "('Past Medical History:',)\n",
      "('Discharge Disposition:',)\n",
      "('She was hemodynamically stable in the MICU, and so she was called out to the floor.',)\n",
      "('Her osteomyelitis was unchanged per MRI at this time.',)\n",
      "('Date/Time:11:30 Dr., Primary Care, Phone:at 2:45pm.,MDCompleted by:',)\n",
      "('Foley placed without any complications.',)\n",
      "(\"Daptomycin d/c'd onas osteo stable (see below).\",)\n",
      "('Plain film w/ contrast showed proper positioning, so feeds resumed.',)\n",
      "('## Decubitus ulcer Known prior to admission.',)\n",
      "('Primary:',)\n",
      "('Date/Time:11:30 Dr., Primary Care, Phone:at 2:45pm.,MDCompleted by:',)\n"
     ]
    }
   ],
   "source": [
    "for i in big_factor:\n",
    "    print(doc[i-1])"
   ]
  },
  {
   "cell_type": "code",
   "execution_count": 25,
   "metadata": {},
   "outputs": [
    {
     "data": {
      "text/plain": [
       "[('Admission Date:',),\n",
       " ('Discharge Date:Service: MEDICINE Allergies:',),\n",
       " ('Patient recorded as having No Known Allergies to Drugs',),\n",
       " ('Attending:',),\n",
       " ('Chief Complaint:',),\n",
       " ('Fever, rigors Major Surgical or Invasive Procedure: None.',),\n",
       " ('History of Present Illness:',),\n",
       " ('Ms.is an 89yo spanish speaking female with PMH significant for multiple ESBL UTIs, lumbar osteomyelitis, and psoas abcess who was admitted to the MICU with a UTI and transient hypotension concerning for urosepsis.',),\n",
       " ('Of note, the patient was recently hospitalized infor E coli and K. pneumo UTI (BCx + for K. pneumo), tx with cephalexin/cefpodoxime for 14d.',),\n",
       " ('Her osteomyelitis was unchanged per MRI at this time.',),\n",
       " (\"In addition, a PICC was placed onto administer a 7d course of Imipenem (500mg q8h,) for an ESBL E. coli UTIfoley catheter (d/c'd).\",),\n",
       " ('The PICC was kept until f/u urine studies could be performed 1 wk post-abx.',),\n",
       " (\"This morning at the patient's NH, she was noted to have fevers and rigor.\",),\n",
       " ('Her vitals at this time were T 100.0 BP 160/90 AR',),\n",
       " ('130 RR 30 O2 sat 90% RA. ?',),\n",
       " ('if she was on carbapenem for a UTI.',),\n",
       " ('She was then transferred tofor further work-up.',),\n",
       " ('In the ED, initial vitals were T 99.1 Tmax 101.8 BP 120/80 AR 92 RR 16 O2 sat 99% RA.',),\n",
       " ('Foley placed without any complications.',),\n",
       " ('She received Flagyl 500mg, Linezolid 600mg, and Meropenem 500mg.',),\n",
       " ('Her BP dropped to 90/',),\n",
       " ('She also was given 2L NS.',),\n",
       " ('Upon arrival to the MICU and in the presence of the spanish translator, the patient denies any acute complaints.',),\n",
       " ('She denies any chest pain, SOB, abdominal pain, or any other concerning symptoms.',),\n",
       " ('She does admit to some low back pain, which is chronic for her.',),\n",
       " ('She was hemodynamically stable in the MICU, and so she was called out to the floor.',),\n",
       " ('She is being followed by ID in-house and is on meropenem and daptomycin (changed from linezolidserotonin syndrome concern).',),\n",
       " ('On the floor, she only c/o generalized weakness.',),\n",
       " ('Past Medical History:',),\n",
       " ('VRE stump infection2)Klebsiella pneumonia and bacteremia Multiple UTIs including ESBL E. coliin setting of foley Lumbar osteomyelitis L2-L3',),\n",
       " ('s/p daptomycin and meropenem x8 weeks ; biopsy cultures were negative',),\n",
       " ('Psoas/iliacus abscesses6)Hypertension Type 2 diabetes Stomach carcinoma s/p resection Hx of gastritis/esophagitis Chronic anemia 11)',),\n",
       " ('PVD s/p common femoral to left common',),\n",
       " (\"femoral bypass with PTFE in12)L AKA inc/b klebsiella PNA, VRE UTI, presumed c. diff tx'ed with abx 8 wks\",),\n",
       " ('Hx urinary incontinence status post collagen injections to bladder neck 14)',),\n",
       " ('s/p hysterectomy 15)',),\n",
       " ('s/p oophorectomy 30 years ago Social History:',),\n",
       " ('She is originally from.',),\n",
       " ('She is not employed.',),\n",
       " ('She does not use tobacco.',),\n",
       " ('She does not use alcohol nor any drugs.',),\n",
       " ('Lives at NH.',),\n",
       " ('Family History: n /c',),\n",
       " ('Physical Exam:',),\n",
       " ('VS:',),\n",
       " ('98.9',),\n",
       " ('71 135/44 18',),\n",
       " ('99%RA Gen: Pleasant female, well appearing, alert and oriented to person, place day and month (year -).',),\n",
       " ('HEENT:',),\n",
       " ('MMM, anicteric sclera',),\n",
       " ('Heart: RRR, no m,r,',),\n",
       " ('g Lungs: CTAB, few scattered crackles at posterior lung bases',),\n",
       " ('Abdomen:',),\n",
       " ('Soft, mild tenderness in RLQ, +BS; G-tube in place without any surrounding erythema or tenderness.',),\n",
       " ('No CVAT.',),\n",
       " ('Extremities:',),\n",
       " ('L AKA, no edema of RLE, 2+ DP/PT pulses; quarter sized sacral ulcer with mild surrounding tenderness Pertinent Results:09:15AM',),\n",
       " ('WBC-13.2',),\n",
       " ('* RBC-3.71',),\n",
       " ('* HGB-10.0',),\n",
       " ('HCT-30.0',),\n",
       " ('* MCV-81* MCH-27.1 MCHC-33.5 RDW-14.809:15AM PLT SMR-HIGH',),\n",
       " ('PLT COUNT-470',),\n",
       " ('*09:15AM',),\n",
       " ('SED RATE-120',),\n",
       " ('*09:15AM CRP-177.7*09:15AM',),\n",
       " ('GLUCOSE-106*',),\n",
       " ('UREA N-17 CREAT-0.5',),\n",
       " ('SODIUM-130',),\n",
       " ('* POTASSIUM-4.6 CHLORIDE-98 TOTAL CO2-24 ANION GAP-1309:47AM',),\n",
       " ('LACTATE-3.3',),\n",
       " ('*10:17AM URINE',),\n",
       " ('COLOR-Yellow APPEAR -Cloudy SP-1.00810:17AM URINE',),\n",
       " ('BLOOD-LG',),\n",
       " ('NITRITE- NEG PROTEIN-30 GLUCOSE-NEG KETONE-NEG BILIRUBIN-NEG UROBILNGN-NEG PH-6.0',),\n",
       " ('LEUK-MOD10:17AM URINE',),\n",
       " ('RBC-',),\n",
       " ('* WBC->50 BACTERIA-MANY YEAST -FEW',),\n",
       " ('EPI-11:02AM LACTATE-2.2',),\n",
       " ('* URINE CULTURE (Final):',),\n",
       " ('ESCHERICHIA COLI.',),\n",
       " ('>100,000 ORGANISMS/ML.. PRESUMPTIVE IDENTIFICATION.',),\n",
       " ('KLEBSIELLA PNEUMONIAE.',),\n",
       " ('10,000-100,000 ORGANISMS/ML ..',),\n",
       " ('SENSITIVITIES:',),\n",
       " ('MIC expressed in MCG/ML _ _',),\n",
       " ('ESCHERICHIA COLI | KLEBSIELLA PNEUMONIAE',),\n",
       " ('| AMIKACIN',),\n",
       " ('<=2 S AMPICILLIN =',),\n",
       " ('32',),\n",
       " ('R AMPICILLIN/ SULBACTAM-- 16',),\n",
       " ('I =',),\n",
       " ('32 R CEFAZOLIN <=4 S <',),\n",
       " ('=4 S CEFEPIME <=1 S',),\n",
       " ('<=1 S CEFTAZIDIME < =1 S',),\n",
       " ('<=1 S CEFTRIAXONE <=1 S',),\n",
       " ('<=1 S CEFUROXIME 4 S 16',),\n",
       " ('I CIPROFLOXACIN =',),\n",
       " ('4 R =',),\n",
       " ('4 R GENTAMICIN =',),\n",
       " ('16 R =',),\n",
       " ('16 R MEROPENEM <=0.25 S <=0.25 S NITROFURANTOIN <',),\n",
       " ('=16 S 128 R PIPERACILLIN/TAZO <=4 S 32',),\n",
       " ('I TOBRAMYCIN 4 S 8',),\n",
       " ('I TRIMETHOPRIM/SULFA <=1 S <=1 S .',),\n",
       " ('Urine cx (): negative Blood cx (): negative x2 Blood cx (): NGTD x2',),\n",
       " ('Cdiff toxin neg x1 .',),\n",
       " ('CT abd/pelvis ():',),\n",
       " ('IMPRESSION:',),\n",
       " ('No acute finding to explain source of infection.',),\n",
       " ('Stable destruction of L2 and L3 vertebral bodies.',),\n",
       " ('No CT evidence of pyelonephritis.',),\n",
       " ('No evidence of intraabdominal or pelvic abscess. .',),\n",
       " ('MRI pelvis ():',),\n",
       " ('IMPRESSION:',),\n",
       " ('Severely limited study for reasons stated above.',),\n",
       " ('Bilateral femoral avascular necrosis with severe underlying osteoarthritis.',),\n",
       " ('Prominent bilateral subcutaneous edema and edema tracking along the adductor musculature bilaterally.',),\n",
       " ('Study not of diagnostic quality to assess the psoas muscles or exclude deep abscess. .',),\n",
       " ('MRI T/L spine',),\n",
       " ('(): Impression: Essentially no change in the appearance of the inflammatory changes at L2-L3. .',),\n",
       " ('KUB with oral contrast via J tube (): Single portable radiograph of the abdomen demonstrates oral contrast within a catheter projecting over the left upper and lower quadrants.',),\n",
       " ('There is oral contrast within the small bowel.',),\n",
       " ('No extravasation is seen.',),\n",
       " ('Surgical staples project over the right upper quadrant.',),\n",
       " ('There is a non-obstructive bowel gas pattern.',),\n",
       " ('No pneumoperitoneum is evident.',),\n",
       " ('The appearance of the osseous structures is unchanged compared with.',),\n",
       " ('Surgical staples projecting over the left upper and lower quadrants remain similar in appearance as well.',),\n",
       " ('Brief Hospital Course: ## UTI/urosepsis:',),\n",
       " ('Patient was initially febrile to 101.8 and hypotensive to 90/68 on admission.',),\n",
       " ('She was given flagyl, linezolid, and meropenem in the ED, as well as 2L NS.',),\n",
       " ('Foley was placed with purulent urine return.',),\n",
       " ('She was initially continued on meropenem and linezolid, but the linezolid was switched to daptomycin ondue to concern for serotonin syndrome given venlafaxine use.',),\n",
       " (\"Daptomycin d/c'd onas osteo stable (see below).\",),\n",
       " ('Urine culture grew E coli and Klebsiella, sensitive to meropenem and bactrim.',),\n",
       " ('Due to this, meropenem was switched to bactrim onto complete a 14 day course.',),\n",
       " ('Pt transitioned from Foley to straight cath q8h due to retention to help prevent UTI recurrence (no bladder scan at nursing facility).',),\n",
       " ('Since her initial ED presentation, she has remained without hypotension or fevers.',),\n",
       " ('She was restarted on lisinopril and metoprolol XL after 24hrs w/o hypotension.',),\n",
       " ('## Osteomyelitis: No complaints of back pain.',),\n",
       " ('MRI T/L spine showed stable appearance, so daptomycin was stopped on.',),\n",
       " ('MRI pelvis was attempted, but pt did not tolerate due to claustrophobia (even with ativan).',),\n",
       " ('CRP was much decreased on discharge.',),\n",
       " ('She will followup inclinic.',),\n",
       " ('## Rash Erythematous unilateral macular flank rash w/ small pustules noted.',),\n",
       " ('No pain, confirms pruritis.',),\n",
       " ('No eos on CBC.',),\n",
       " ('Started on 7d course',),\n",
       " ('valacyclovir to endfor possible zoster.',),\n",
       " ('## Type 2',),\n",
       " ('DM:',),\n",
       " ('Held oral hypoglycemics and had reasonable glucose control with insulin sliding scale.',),\n",
       " ('## FEN Pt gets supplemental tube feeds overnight.',),\n",
       " ('Her sutures came loose on, but were reattached by IR.',),\n",
       " ('Plain film w/ contrast showed proper positioning, so feeds resumed.',),\n",
       " ('## Decubitus ulcer Known prior to admission.',),\n",
       " ('Wound care consulted and pt was repositioned and cleansed per their recs.',),\n",
       " ('No e/o communication w/ osteo on MRI.',),\n",
       " ('## Bilateral AVN of femoral head Noted on brief images obtained on MRI pelvis study.',),\n",
       " ('Pt asymptomatic and would likely need conservative management.',),\n",
       " ('Can consider bisphosphonates in the outpatient setting.',),\n",
       " ('## Dispo',),\n",
       " ('All other chronic problems remained stable and treated as prior.',),\n",
       " ('She is being discharged back to her.',),\n",
       " ('Medications on Admission:',),\n",
       " ('Pioglitazone 7.5mg PO daily',),\n",
       " ('Fluticasone-salmeterol Omeprazole 20mg PO BID Tiotropium MDI Aspirin 81mg PO daily',),\n",
       " ('Metoprolol XL 50 mg PO daily Docusate 100 mg 100mg',),\n",
       " ('PO BID Senna PO BID',),\n",
       " ('Venlafaxine 25mg',),\n",
       " ('PO BID Oxycodone PO Q6H',),\n",
       " ('PRN Acetaminophen 650mg PO Q6H',),\n",
       " ('Vitamin D PO daily Lisinopril 20mg PO daily Immodium PRN Discharge Medications: Heparin (Porcine) 5,000 unit/mL Solution Sig: One (1) ml Injection TID (3 times a day).',),\n",
       " ('Omeprazole 20 mg Capsule, Delayed Release(E.C.) Sig: One',),\n",
       " ('( Capsule, Delayed Release(E.C.)',),\n",
       " ('PO BID (2 times a day).',),\n",
       " ('Acetaminophen 325 mg Tablet Sig: Two ( Tablet PO Q6H (every 6 hours).',),\n",
       " ('Venlafaxine 25 mg Tablet Sig: One',),\n",
       " ('( Tablet PO BID (2 times a day).',),\n",
       " ('Docusate Sodium 100 mg',),\n",
       " ('Capsule Sig: One',),\n",
       " ('( Capsule PO BID (2 times a day).',),\n",
       " ('Senna 8.6 mg',),\n",
       " ('Tablet Sig: One',),\n",
       " ('( Tablet PO BID (2 times a day) as needed.',),\n",
       " ('Aspirin 81 mg Tablet, Chewable Sig: One',),\n",
       " ('( Tablet, Chewable PO DAILY (Daily).',),\n",
       " ('Valacyclovir 500 mg Tablet Sig: Two',),\n",
       " ('( Tablet PO TID (3 times a day) for 5 days:',),\n",
       " ('Last day of 7d total course is.',),\n",
       " ('Metoprolol Succinate',),\n",
       " ('50 mg Tablet Sustained Release 24 hr Sig: One',),\n",
       " ('( Tablet Sustained Release 24 hr PO DAILY (Daily).',),\n",
       " ('Lisinopril',),\n",
       " ('20 mg Tablet Sig: One',),\n",
       " ('( Tablet PO DAILY (Daily).',),\n",
       " ('Multivitamin Tablet Sig: One',),\n",
       " ('( Tablet PO DAILY (Daily).',),\n",
       " ('Actos',),\n",
       " ('15 mg Tablet Sig :Tablet PO once a day.',),\n",
       " ('Spiriva with HandiHaler 18 mcg Capsule, w/Inhalation Device Sig: One',),\n",
       " ('( Inhalation once a day.',),\n",
       " ('Imodium A-D 2',),\n",
       " ('mg',),\n",
       " ('Tablet Sig: One',),\n",
       " ('( Tablet PO after each loose stool as needed for diarrhea.',),\n",
       " ('Bactrim DS',),\n",
       " ('160-800 mg Tablet Sig: One',),\n",
       " ('( Tablet PO twice a day for 8 days:',),\n",
       " ('To finish 14d total course on.',),\n",
       " ('Discharge Disposition:',),\n",
       " ('Extended Care Facility:-Discharge Diagnosis:',),\n",
       " ('Primary:',),\n",
       " ('Urosepsis, Stage IV decubitus ulcer Lumbar osteomyelitis.',),\n",
       " ('Secondary diagnoses: Diabetes mellitus type 2, controlled with complications Hypertension Peripheral vascular disease status post left above knee amputation Discharge Condition: Stable hemodynamics, alert and interactive, afebrile.',),\n",
       " ('Discharge Instructions: You were admitted tobecause of a bladder infection.',),\n",
       " ('This caused you to have low blood pressure, which we fixed with fluids.',),\n",
       " ('We started you on intravenous antibiotics for 14 total days for the infection.',),\n",
       " ('We imaged your spine with an MRI to see if your previous bone infection had changed, and it looked stable from your last MRI.',),\n",
       " ('We have removed the catheter that stays in your bladder because this would make treating the infection difficult.',),\n",
       " ('Instead, we will use intermittent catheters, \"straight cath,\" as needed.',),\n",
       " ('Also, you have a rash on your back that may be herpes zoster, which is a virus.',),\n",
       " ('We will treat you with antibiotics for this as well.',),\n",
       " ('Please take all medications as prescribed and follow-up at all appointments.',),\n",
       " ('If you notice any problems urinating, fevers, chills, night sweats, weakness, changes in mental status, or any other concerning symptoms, please seek medical attention or come to the emergency department immediately.',),\n",
       " ('Followup Instructions: Provider:, MD, Infectious Disease Phone:',),\n",
       " ('Date/Time:11:30 Dr., Primary Care, Phone:at 2:45pm.,MDCompleted by:',)]"
      ]
     },
     "execution_count": 25,
     "metadata": {},
     "output_type": "execute_result"
    }
   ],
   "source": [
    "print(len(doc))\n",
    "print(sent_att_score[0].)"
   ]
  },
  {
   "cell_type": "code",
   "execution_count": 57,
   "metadata": {},
   "outputs": [],
   "source": [
    "sent_att_score_np = sent_att_score[0].detach().cpu().numpy()"
   ]
  },
  {
   "cell_type": "code",
   "execution_count": 68,
   "metadata": {},
   "outputs": [
    {
     "data": {
      "text/plain": [
       "229"
      ]
     },
     "execution_count": 68,
     "metadata": {},
     "output_type": "execute_result"
    }
   ],
   "source": [
    "np.sum(np.sum(sent_att_score_np[0,0],axis=0) > 0)"
   ]
  },
  {
   "cell_type": "code",
   "execution_count": 67,
   "metadata": {},
   "outputs": [
    {
     "data": {
      "text/plain": [
       "228"
      ]
     },
     "execution_count": 67,
     "metadata": {},
     "output_type": "execute_result"
    }
   ],
   "source": [
    "len(doc)"
   ]
  },
  {
   "cell_type": "code",
   "execution_count": 61,
   "metadata": {},
   "outputs": [
    {
     "data": {
      "text/plain": [
       "(400, 400)"
      ]
     },
     "execution_count": 61,
     "metadata": {},
     "output_type": "execute_result"
    }
   ],
   "source": [
    "np.shape(sent_att_score_np[0,0])"
   ]
  },
  {
   "cell_type": "code",
   "execution_count": 64,
   "metadata": {},
   "outputs": [
    {
     "data": {
      "text/plain": [
       "array([ 5.2361536,  1.3177215,  1.3547724,  1.3214734,  1.2952523,\n",
       "        1.7645105,  1.3146765,  1.9620658,  1.5141255,  1.3498455,\n",
       "        1.8282733,  1.3286585,  1.3176315,  1.307837 ,  1.3181812,\n",
       "        1.3750317,  1.3011062,  1.2829152,  1.2961886,  4.7984095,\n",
       "        1.3913524,  1.3171492,  1.2966104,  1.3152673,  1.321562 ,\n",
       "        1.3092753,  2.9747598,  1.2996969,  1.3013085,  3.5189843,\n",
       "        2.5863   ,  2.2988865,  2.0996196,  2.6259835,  1.6334065,\n",
       "        1.5586624,  1.667915 ,  1.3660314,  1.3409575,  1.3365104,\n",
       "        1.3000331,  1.3116885,  1.4323014,  1.3838404,  1.3130796,\n",
       "        1.3511999,  1.3047053,  1.3139619,  1.344188 ,  1.3543758,\n",
       "        1.2967087,  2.1267042,  1.3199633,  1.6463683,  1.3426415,\n",
       "        1.3228385,  3.6382887,  1.2901404,  1.3103247,  1.3118771,\n",
       "        1.3011801,  1.3056779,  1.362177 ,  1.2986312,  1.3219962,\n",
       "        1.3137388,  1.2847735,  1.2959813,  1.2961322,  1.2959374,\n",
       "        1.3610611,  1.338287 ,  1.4267422,  1.2914001,  1.5744774,\n",
       "        2.1470706,  1.3714204,  3.1829095,  1.2944056,  1.5994253,\n",
       "        1.449932 ,  1.747897 ,  1.5114723,  2.3325725,  1.552488 ,\n",
       "        2.7460785,  2.8395307,  1.6662323,  1.8864616,  1.3145682,\n",
       "        2.4306147,  1.3133539,  1.4107033,  1.7597731,  1.5872201,\n",
       "        1.4531446,  1.388539 ,  2.3048005,  1.3113203,  2.0348153,\n",
       "        1.3170004,  1.3957471,  3.4635646,  2.0148606,  1.6738827,\n",
       "        1.6900315,  1.3417982,  1.440862 ,  1.2931283,  1.4063781,\n",
       "        1.6201879,  1.4278938,  1.6717144,  1.3400668,  1.2967514,\n",
       "        1.3078426,  1.6112496,  1.6512443,  1.2915189,  1.5829854,\n",
       "        1.2927666,  1.4147228,  1.3135636,  1.3324366,  1.3225257,\n",
       "        1.4619286,  1.3131956,  1.29447  ,  1.3509092,  2.882323 ,\n",
       "        1.427365 ,  3.0590315,  1.5956323,  4.008817 ,  2.2103837,\n",
       "        4.5970173,  1.7452579,  2.1758044,  1.4655186,  1.6962929,\n",
       "        1.7857072,  2.1053298,  1.3701277,  1.2873118,  1.3389989,\n",
       "        2.2798448,  1.2968712,  1.3274083,  1.3229889,  1.5775231,\n",
       "        1.5896739,  1.3133234,  1.5327512,  1.747773 ,  1.463918 ,\n",
       "        1.419859 ,  8.182824 ,  5.11157  ,  1.4561063,  1.7034663,\n",
       "        1.4886644,  1.2850627,  1.3491374,  1.2999758,  1.350244 ,\n",
       "        1.3786901,  1.3080658,  2.340895 ,  2.6905522,  1.3913248,\n",
       "        1.7500587,  2.484881 ,  3.876777 ,  1.4274381,  1.3187261,\n",
       "        1.3651825,  1.3757882,  1.4288017,  1.4307746,  1.4177065,\n",
       "        1.4619436,  1.3005763,  1.3865159,  1.302482 ,  1.380965 ,\n",
       "        1.388316 ,  1.412028 ,  1.4111907,  1.3085865,  1.3264132,\n",
       "        1.3103839,  1.4127598,  1.3049865,  1.3241274,  1.3431766,\n",
       "        1.3636122,  1.3204504,  1.3063713,  1.3246572,  1.3254592,\n",
       "        1.400651 ,  1.396091 ,  1.4431546,  1.3018552,  1.3217843,\n",
       "        1.3852105,  1.5152006,  1.7314209,  1.2914482,  1.3498214,\n",
       "        1.290715 ,  1.3597512,  3.5941098,  1.3111447,  7.9928718,\n",
       "        1.3932773,  1.3449599,  1.2822329,  1.3933454,  1.4247096,\n",
       "        1.3609846,  1.3293555,  1.3579602,  1.5508755,  1.3341353,\n",
       "        1.4568896,  1.3115836,  1.3070589, 12.816378 ,  0.       ,\n",
       "        0.       ,  0.       ,  0.       ,  0.       ,  0.       ,\n",
       "        0.       ,  0.       ,  0.       ,  0.       ,  0.       ,\n",
       "        0.       ,  0.       ,  0.       ,  0.       ,  0.       ,\n",
       "        0.       ,  0.       ,  0.       ,  0.       ,  0.       ,\n",
       "        0.       ,  0.       ,  0.       ,  0.       ,  0.       ,\n",
       "        0.       ,  0.       ,  0.       ,  0.       ,  0.       ,\n",
       "        0.       ,  0.       ,  0.       ,  0.       ,  0.       ,\n",
       "        0.       ,  0.       ,  0.       ,  0.       ,  0.       ,\n",
       "        0.       ,  0.       ,  0.       ,  0.       ,  0.       ,\n",
       "        0.       ,  0.       ,  0.       ,  0.       ,  0.       ,\n",
       "        0.       ,  0.       ,  0.       ,  0.       ,  0.       ,\n",
       "        0.       ,  0.       ,  0.       ,  0.       ,  0.       ,\n",
       "        0.       ,  0.       ,  0.       ,  0.       ,  0.       ,\n",
       "        0.       ,  0.       ,  0.       ,  0.       ,  0.       ,\n",
       "        0.       ,  0.       ,  0.       ,  0.       ,  0.       ,\n",
       "        0.       ,  0.       ,  0.       ,  0.       ,  0.       ,\n",
       "        0.       ,  0.       ,  0.       ,  0.       ,  0.       ,\n",
       "        0.       ,  0.       ,  0.       ,  0.       ,  0.       ,\n",
       "        0.       ,  0.       ,  0.       ,  0.       ,  0.       ,\n",
       "        0.       ,  0.       ,  0.       ,  0.       ,  0.       ,\n",
       "        0.       ,  0.       ,  0.       ,  0.       ,  0.       ,\n",
       "        0.       ,  0.       ,  0.       ,  0.       ,  0.       ,\n",
       "        0.       ,  0.       ,  0.       ,  0.       ,  0.       ,\n",
       "        0.       ,  0.       ,  0.       ,  0.       ,  0.       ,\n",
       "        0.       ,  0.       ,  0.       ,  0.       ,  0.       ,\n",
       "        0.       ,  0.       ,  0.       ,  0.       ,  0.       ,\n",
       "        0.       ,  0.       ,  0.       ,  0.       ,  0.       ,\n",
       "        0.       ,  0.       ,  0.       ,  0.       ,  0.       ,\n",
       "        0.       ,  0.       ,  0.       ,  0.       ,  0.       ,\n",
       "        0.       ,  0.       ,  0.       ,  0.       ,  0.       ,\n",
       "        0.       ,  0.       ,  0.       ,  0.       ,  0.       ,\n",
       "        0.       ,  0.       ,  0.       ,  0.       ,  0.       ,\n",
       "        0.       ,  0.       ,  0.       ,  0.       ,  0.       ,\n",
       "        0.       ,  0.       ,  0.       ,  0.       ,  0.       ],\n",
       "      dtype=float32)"
      ]
     },
     "execution_count": 64,
     "metadata": {},
     "output_type": "execute_result"
    }
   ],
   "source": [
    "np.sum(sent_att_score_np[0,0],axis=0)"
   ]
  },
  {
   "cell_type": "code",
   "execution_count": 63,
   "metadata": {},
   "outputs": [
    {
     "data": {
      "text/plain": [
       "array([[2.2710731e-02, 6.5857212e-06, 1.0847792e-05, ..., 0.0000000e+00,\n",
       "        0.0000000e+00, 0.0000000e+00],\n",
       "       [2.2077434e-02, 2.2974026e-03, 2.4671985e-03, ..., 0.0000000e+00,\n",
       "        0.0000000e+00, 0.0000000e+00],\n",
       "       [1.9090483e-02, 2.4260636e-03, 2.5850176e-03, ..., 0.0000000e+00,\n",
       "        0.0000000e+00, 0.0000000e+00],\n",
       "       ...,\n",
       "       [7.0094955e-03, 3.4584000e-03, 3.5679159e-03, ..., 0.0000000e+00,\n",
       "        0.0000000e+00, 0.0000000e+00],\n",
       "       [1.0512823e-02, 2.7541451e-03, 3.2008043e-03, ..., 0.0000000e+00,\n",
       "        0.0000000e+00, 0.0000000e+00],\n",
       "       [6.7653591e-03, 3.8588368e-03, 3.6692291e-03, ..., 0.0000000e+00,\n",
       "        0.0000000e+00, 0.0000000e+00]], dtype=float32)"
      ]
     },
     "execution_count": 63,
     "metadata": {},
     "output_type": "execute_result"
    }
   ],
   "source": [
    "sent_att_score_np[0,0]"
   ]
  },
  {
   "cell_type": "code",
   "execution_count": null,
   "metadata": {},
   "outputs": [],
   "source": []
  }
 ],
 "metadata": {
  "kernelspec": {
   "display_name": "Python 3",
   "language": "python",
   "name": "python3"
  },
  "language_info": {
   "codemirror_mode": {
    "name": "ipython",
    "version": 3
   },
   "file_extension": ".py",
   "mimetype": "text/x-python",
   "name": "python",
   "nbconvert_exporter": "python",
   "pygments_lexer": "ipython3",
   "version": "3.5.2"
  }
 },
 "nbformat": 4,
 "nbformat_minor": 2
}
