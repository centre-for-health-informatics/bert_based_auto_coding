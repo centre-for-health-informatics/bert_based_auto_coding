{
 "cells": [
  {
   "cell_type": "code",
   "execution_count": 30,
   "metadata": {},
   "outputs": [],
   "source": [
    "from sklearn.metrics import confusion_matrix\n",
    "import numpy as np"
   ]
  },
  {
   "cell_type": "code",
   "execution_count": 2,
   "metadata": {},
   "outputs": [],
   "source": [
    "import pickle\n",
    "ratio=10\n",
    "src_dir = './pu_data_ratio_Clarity' + str(ratio) +'/'\n",
    "text_train = pickle.load(open(src_dir+'text_train_stratified.pkl','rb'))\n",
    "label_train = pickle.load(open(src_dir+'label_train_stratified.pkl','rb'))\n",
    "text_test = pickle.load(open(src_dir+'text_test_stratified.pkl','rb'))\n",
    "label_test = pickle.load(open(src_dir+'label_test_stratified.pkl','rb'))"
   ]
  },
  {
   "cell_type": "code",
   "execution_count": 3,
   "metadata": {},
   "outputs": [],
   "source": [
    "text_train.extend(text_test)\n",
    "label_train.extend(label_test)\n",
    "text_total = text_train\n",
    "label_total = label_train"
   ]
  },
  {
   "cell_type": "code",
   "execution_count": 4,
   "metadata": {},
   "outputs": [],
   "source": [
    "def back_to_doc(doc_list):\n",
    "    new_doc_list = []\n",
    "    for doc in doc_list:\n",
    "        new_doc_list.append('')\n",
    "        for sent in doc:\n",
    "            new_doc_list[-1]+=' ' + str(sent)\n",
    "    return new_doc_list\n",
    "new_text_total = back_to_doc(text_total)"
   ]
  },
  {
   "cell_type": "code",
   "execution_count": 40,
   "metadata": {},
   "outputs": [],
   "source": [
    "keyword_list = ['pressure ulcer', 'pressure ulcers','sacral', 'decubitus',' bedsore']\n",
    "y_pred = []\n",
    "for doc in new_text_total:\n",
    "    matched = 0\n",
    "    for keyword in keyword_list:\n",
    "        if keyword in doc:\n",
    "            y_pred.append(1)\n",
    "            matched = 1\n",
    "        break\n",
    "    if not matched:\n",
    "        y_pred.append(0)"
   ]
  },
  {
   "cell_type": "code",
   "execution_count": 41,
   "metadata": {},
   "outputs": [
    {
     "data": {
      "text/plain": [
       "21681"
      ]
     },
     "execution_count": 41,
     "metadata": {},
     "output_type": "execute_result"
    }
   ],
   "source": [
    "len(y_pred)"
   ]
  },
  {
   "cell_type": "code",
   "execution_count": 42,
   "metadata": {},
   "outputs": [
    {
     "name": "stdout",
     "output_type": "stream",
     "text": [
      "[[19646    64]\n",
      " [ 1690   281]]\n"
     ]
    }
   ],
   "source": [
    "from sklearn import metrics\n",
    "print(metrics.confusion_matrix(label_total,y_pred))"
   ]
  },
  {
   "cell_type": "code",
   "execution_count": 43,
   "metadata": {},
   "outputs": [],
   "source": [
    "wrong_result = np.array(y_pred) - np.array(label_total)"
   ]
  },
  {
   "cell_type": "code",
   "execution_count": 44,
   "metadata": {},
   "outputs": [],
   "source": [
    "false_pos_index = np.where(wrong_result == 1)[0]"
   ]
  },
  {
   "cell_type": "code",
   "execution_count": 45,
   "metadata": {
    "scrolled": true
   },
   "outputs": [
    {
     "data": {
      "text/plain": [
       "64"
      ]
     },
     "execution_count": 45,
     "metadata": {},
     "output_type": "execute_result"
    }
   ],
   "source": [
    "len(false_pos_index)"
   ]
  },
  {
   "cell_type": "code",
   "execution_count": 36,
   "metadata": {},
   "outputs": [
    {
     "data": {
      "text/plain": [
       "0"
      ]
     },
     "execution_count": 36,
     "metadata": {},
     "output_type": "execute_result"
    }
   ],
   "source": [
    "false_pos_index[0]"
   ]
  },
  {
   "cell_type": "code",
   "execution_count": 37,
   "metadata": {},
   "outputs": [
    {
     "data": {
      "text/plain": [
       "1"
      ]
     },
     "execution_count": 37,
     "metadata": {},
     "output_type": "execute_result"
    }
   ],
   "source": [
    "y_pred[0]"
   ]
  },
  {
   "cell_type": "code",
   "execution_count": 38,
   "metadata": {},
   "outputs": [
    {
     "data": {
      "text/plain": [
       "0"
      ]
     },
     "execution_count": 38,
     "metadata": {},
     "output_type": "execute_result"
    }
   ],
   "source": [
    "label_total[0]"
   ]
  },
  {
   "cell_type": "code",
   "execution_count": 39,
   "metadata": {},
   "outputs": [
    {
     "data": {
      "text/plain": [
       "['Admission Date:',\n",
       " 'Discharge Date:Date of Birth :',\n",
       " 'Sex: F Service: SURGERY Allergies: No Known Allergies / Adverse Drug',\n",
       " 'Reactions',\n",
       " 'Attending:',\n",
       " 'Chief Complaint:',\n",
       " 'Right lower extremity ischemia with non healing heel ulcer.',\n",
       " 'Major Surgical or Invasive Procedure:: Below-knee popliteal artery to dorsalis pedis artery bypass with reversed and lysed saphenous vein graft.:Cutdown atof right below-knee popliteal artery to dorsalis pedis artery vein bypass graft with stenting of proximal anastomosis and proximal portion of bypass graft.:',\n",
       " '',\n",
       " 'Balloon angioplasty of right peroneal artery.',\n",
       " 'Failed crossing of occluded right anterior tibial artery.',\n",
       " 'Dorsalis pedis cutdown with thrombectomy ligation of distal anastomosis and primary repair of the dorsalis pedis artery.',\n",
       " 'Popliteal exploration with ligation and removal of bypass graft with primary repair of popliteal artery.',\n",
       " 'History of Present Illness: 68 year old female with medical history significant for HTN, HLD, diabetes mellitus complicated by retinopathy, and peripheraldisease status-post left below-knee amputation and worsening right foot ulcer s/p dx angiogramsig for R severe tibial disease now admitted pre op forto DP bypass graft.',\n",
       " 'While in house during prior admission, cardiology recommended beta-blocker therapy.',\n",
       " 'Pt has not been compliant w/ medication and is now admitted for medical optimization prior to planned surgery.',\n",
       " 'Past Medical History:',\n",
       " 'PAST MEDICAL HISTORY:',\n",
       " 'DM,',\n",
       " 'HTN PAST SURGICAL HISTORY:',\n",
       " 'CCY, C section, L 1st toe amp, remote \"neck surgery\" as child Social History:',\n",
       " 'SOCIAL HISTORY:',\n",
       " 'Recently immigrated fromRepublic.',\n",
       " 'Lives with son.',\n",
       " 'Denies EtOH, tob, drugs.',\n",
       " 'Family History:',\n",
       " 'FAMILY HISTORY:',\n",
       " 'Father, two brothers with DM Physical Exam:',\n",
       " 'PE:',\n",
       " 'T 98.4, HR 72, BP 144/75, RR 18, 100 on RA NAD, AAO x3 CTA, RRR no M/G/R Soft, NT/ND, well healed scars, no hernias/masses R thigh with superifical eschar, foot warm with 2x2 cm R heel ulcer with dry eschar R Fem P.:',\n",
       " 'p.',\n",
       " 'DP:',\n",
       " 'D.',\n",
       " 'PT:',\n",
       " 'D. L Fem: P.:',\n",
       " 'D Pertinent Results:04:32AM BLOOD WBC-10.1',\n",
       " 'RBC-3.53',\n",
       " 'Hgb-10.2* Hct-32.5* MCV-92 MCH-29.0',\n",
       " 'MCHC-31.5 RDW-14.4',\n",
       " 'Plt Ct-490',\n",
       " '*04:32AM BLOOD PT-13.1*',\n",
       " 'PTT-26.6',\n",
       " 'INR(PT)-1.2',\n",
       " '*04:32AM BLOOD Glucose-140',\n",
       " '* UreaN-14 Creat-0.9 Na-137 K-4.2 Cl-103 HCO3-27 AnGap-1105:25AM BLOOD ALT-15',\n",
       " 'AST-17 LD(LDH)-210 AlkPhos-21',\n",
       " 'TotBili-0.304:32AM BLOOD Calcium-8.9 Phos-3.0 Mg-1.706:45PM URINE Color-Straw Appear-Clear Sp-1.008 URINE',\n",
       " 'Blood-TR',\n",
       " 'Nitrite-NEG Protein-TR Glucose-NEG Ketone-NEG Bilirub-NEG Urobiln-NEG pH-7.5 Leuks-SM URINE RBC-2 WBC-7* Bacteri-FEW Yeast-NONE Epi-<1 URINE CastHy-1',\n",
       " '*4:37 am URINE Site : NOT SPECIFIED',\n",
       " '**FINAL REPORT',\n",
       " '* URINE CULTURE (Final):',\n",
       " 'ESCHERICHIA COLI.',\n",
       " '10,000-100,000 ORGANISMS/ML',\n",
       " '.. ESCHERICHIA COLI | AMPICILLIN =',\n",
       " '32 R',\n",
       " 'AMPICILLIN/SULBACTAM-- 8 S CEFAZOLIN =',\n",
       " '> 64 R CEFEPIME 2 S CEFTAZIDIME',\n",
       " '4 S CEFTRIAXONE =',\n",
       " '64 R CIPROFLOXACIN =',\n",
       " '>4 R GENTAMICIN <',\n",
       " '=1 S MEROPENEM <=0.25 S NITROFURANTOIN <',\n",
       " '=16 S TOBRAMYCIN <',\n",
       " '=1 S TRIMETHOPRIM/SULFA =',\n",
       " '16 R Brief Hospital Course: The patient was admitted to theSurgical Service for evaluation and treatment of heel ulcer.:',\n",
       " 'Wound care for heel through out the hospital stay.:',\n",
       " 'Below-knee popliteal artery to dorsalis pedis artery bypass with reversed and lysed saphenous vein graft.',\n",
       " 'Pt on IV heparin after for vein graft.',\n",
       " 'Pt.',\n",
       " 'Leg aced.',\n",
       " 'PTT monitered.-:',\n",
       " 'Graft monitered.',\n",
       " 'PTT monitered.',\n",
       " 'Loss of graft pulse',\n",
       " '; We then decided to take her to the endosuite.',\n",
       " 'to look at graft.:',\n",
       " 'Ultrasound-guided puncture of left common femoral artery.',\n",
       " 'Contralateral second-order catheterization of right external iliac artery.',\n",
       " 'Serial arteriogram of right lower extremity.',\n",
       " 'Perclose closure of left common femoral arteriotomy.',\n",
       " 'This showed the graft to be occuded.-.Heparin drip, PTT monitered.',\n",
       " 'Plan to take to the OR.:',\n",
       " '',\n",
       " 'OPERATIONS:',\n",
       " 'Cutdown atof right below-knee popliteal artery to dorsalis pedis artery vein bypass graft with stenting of proximal anastomosis and proximal portion of bypass graft.',\n",
       " 'Pt kept on heparin.',\n",
       " 'post operatively period.',\n",
       " 'PTT monitered.-Again Vein graft went down.',\n",
       " 'We then proceeded to the endosuite to do a catheter based intervention.:',\n",
       " 'PROCEDURES PERFORMED:',\n",
       " 'Ultrasound-guided puncture of left common femoral artery.',\n",
       " 'Second-order catheterization of right external iliac artery.',\n",
       " 'Serial arteriogram of right lower extremity.',\n",
       " 'Additional catheterization of right popliteal artery.',\n",
       " 'Balloon angioplasty of right peroneal artery.',\n",
       " 'Failed crossing of occluded right anterior tibial artery.',\n",
       " 'Dorsalis pedis cutdown with thrombectomy ligation of distal anastomosis and primary repair of the dorsalis pedis artery.',\n",
       " 'Popliteal exploration with ligation and removal of bypass graft with primary repair of popliteal artery.',\n",
       " 'JP removed without complications.',\n",
       " 'Pt kept on IV heparin, PTT monitered.',\n",
       " 'On DC IV heparin, Pt on SQ heparin - because of bedrest.',\n",
       " 'Neuro:',\n",
       " 'The patient received IV pain medications with good effect and adequate pain control.',\n",
       " 'When tolerating oral intake, the patient was transitioned to oral pain medications.',\n",
       " 'On discharge pt on PO percocet.',\n",
       " 'CV:',\n",
       " 'The patient remained stable from a cardiovascular standpoint; vital signs were routinely monitored.',\n",
       " 'Pulmonary:',\n",
       " 'The patient remained stable from a pulmonary standpoint; vital signs were routinely monitored.',\n",
       " 'Good pulmonary toilet, early ambulation and incentive spirrometry were encouraged throughout hospitalization.',\n",
       " 'GI:',\n",
       " 'Post-operatively, the patient was made NPO with IV fluids.',\n",
       " 'Diet was advanced when appropriate, which was well tolerated.',\n",
       " \"Patient's intake and output were closely monitored, and IV fluid was adjusted when necessary.\",\n",
       " 'GU :',\n",
       " 'Pt did have foley catheter.',\n",
       " 'She did have UTI. treated with Cipro.',\n",
       " 'FEN:',\n",
       " 'Electrolytes were routinely followed, and repleted when necessary.',\n",
       " 'ID:',\n",
       " \"The patient's white blood count and fever curves were closely watched for signs of infection.\",\n",
       " 'Originally pt was put on IV Vanco / PO Cipro / PO Flagyl.',\n",
       " \"On DC these were DC'd.\",\n",
       " 'Pt to out on PO augmentin for 10 days.',\n",
       " 'Endocrine:',\n",
       " \"The patient's blood sugar was monitored throughout his stay; insulin dosing was adjusted accordingly.\",\n",
       " 'Pt was hperglycemic.consult obtained.',\n",
       " \"Pt's po glycemic medications were DC'd.\",\n",
       " 'Pt started on lantus ans SSI.',\n",
       " 'On Dc BSstable.',\n",
       " 'Hematology:',\n",
       " \"The patient's complete blood count was examined routinely; Pt rewuied 7 units of PRBC's through out the hospital course.\",\n",
       " 'On Dc',\n",
       " 'her HCT is stable.',\n",
       " 'Prophylaxis:',\n",
       " 'The patient received IV heparin originaaly for graft.',\n",
       " 'When this course was completed, we swithched to SQ heparin.',\n",
       " 'She is to remain on this untill follow-up.',\n",
       " 'Pt may get out of bed to chair withlift.',\n",
       " 'At the time of discharge, the patient was doing well, afebrile with stable vital signs.',\n",
       " 'The patient was tolerating a regular diet, non ambulatory, voiding without assistance, and pain was well controlled.',\n",
       " 'The patient received discharge teaching and follow-up instructions with understanding verbalized and agreement with the discharge plan.',\n",
       " 'Medications on Admission:',\n",
       " 'Citalopram',\n",
       " '20mg daily Metformin 1000 daily HCTZ',\n",
       " '25mg daily',\n",
       " 'Lisinopril',\n",
       " '40mg daily',\n",
       " 'Glipizide 5mg daily',\n",
       " 'Aspirin 81mg daily Lovastatin',\n",
       " '20mg daily Metoprolol Succinate XL 25',\n",
       " 'mg PO DAILY Discharge Medications: 1.',\n",
       " 'aspirin',\n",
       " '81 mg Tablet, Chewable Sig: One',\n",
       " '( Tablet, Chewable PO DAILY (Daily).',\n",
       " 'nystatin 100,000 unit/g Cream Sig: One',\n",
       " '( Appl Topical(2 times a day).',\n",
       " 'docusate sodium 100',\n",
       " 'mg',\n",
       " 'Capsule Sig: One',\n",
       " '( Capsule PO BID (2 times a day).',\n",
       " 'clopidogrel',\n",
       " '75 mg Tablet Sig: One',\n",
       " '( Tablet PO DAILY (Daily).',\n",
       " 'heparin (porcine) 5,000 unit/',\n",
       " 'mL Solution Sig: One (',\n",
       " 'Injection TID (3 times a day).',\n",
       " 'amoxicillin-pot clavulanate 875-125 mg Tablet Sig: One',\n",
       " '( Tablet PO Q12H (every 12 hours) for 10 days.',\n",
       " 'metoprolol succinate',\n",
       " '25 mg',\n",
       " 'Tablet Extended Release 24',\n",
       " 'hr Sig: One',\n",
       " '( Tablet Extended Release 24 hr PO DAILY (Daily).',\n",
       " 'oxycodone 5 mg',\n",
       " 'Tablet Sig: 1-2 Tablets PO Q4H (every 4 hours) as needed for pain.',\n",
       " 'Tablet(s)',\n",
       " 'lisinopril',\n",
       " '20 mg',\n",
       " 'Tablet Sig: Two',\n",
       " '( Tablet PO DAILY (Daily).',\n",
       " 'citalopram',\n",
       " '20 mg Tablet Sig: One',\n",
       " '( Tablet PO DAILY (Daily).',\n",
       " 'lovastatin',\n",
       " '20 mg Tablet Sig: One',\n",
       " '( Tablet PO daily ().',\n",
       " 'magnesium hydroxide 400 mg/5 mL',\n",
       " 'Suspension Sig: Thirty',\n",
       " '(30) ML PO Q 24H (Every 24 Hours).',\n",
       " 'senna',\n",
       " '8.6 mg Tablet Sig: One',\n",
       " '( Tablet PO BID (2 times a day) as needed for constipation.',\n",
       " 'INSULIN',\n",
       " 'Fingerstick QACHS',\n",
       " 'Insulin SC Fixed Dose Orders',\n",
       " 'Bedtime Glargine 24 Units Insulin SC Sliding Scale Breakfast Lunch Dinner',\n",
       " 'Bedtime Humalog Humalo Glucose Insulin Dose 0-70 mg/dL Proceed with hypoglycemia protocol 71-119 mg/dL 0 Units 0 Units 0 Units 0 Units 120-159 mg/dL 6 Units 5 Units 5 Units 0 Units 160-199 mg/dL 8 Units 7 Units 7 Units 0 Units 200-239 mg/dL 9 Units 8 Units 8 Units 3 Units 240-279 mg/dL 10 Units 9 Units 9 Units 4 Units 280-319 mg/dL 11 Units 10 Units 10 Units 5 Units 320-360 mg/dL 13 Units 12 Units 11 Units 6 Units >',\n",
       " '360 mg/',\n",
       " 'dL',\n",
       " 'Notify M.D. 15.',\n",
       " 'miconazole nitrate 2 % Powder Sig: One ( Appl Topical(2 times a day) as needed for under breast.',\n",
       " 'famotidine',\n",
       " '20 mg Tablet Sig: One',\n",
       " '( Tablet PO once a day.',\n",
       " 'metformin 1,000 mg',\n",
       " 'Tablet Extended Rel',\n",
       " '24 hr',\n",
       " 'Sig: One',\n",
       " '( Tablet Extended Rel 24 hr PO once a day.',\n",
       " 'glyburide',\n",
       " '5 mg Tablet Sig: One',\n",
       " '( Tablet PO once a day.',\n",
       " 'Discharge Disposition:',\n",
       " 'Extended Care Facility:-Discharge Diagnosis:',\n",
       " 'Non healing ulcer right heel Severe peripheral arterial disease, status post left BKA Urinary tract Infection Diabetes Discharge Condition:',\n",
       " 'Mental Status: Clear and coherent.',\n",
       " 'Level of Consciousness: Alert and interactive.',\n",
       " 'Activity Status:',\n",
       " 'Out of Bed with assistance to chair or wheelchair, non weight bearing right:',\n",
       " 'BKA left Discharge Instructions: Division ofand Endovascular Surgery Lower Extremity Bypass Surgery',\n",
       " 'Discharge Instructions What to expect when you go home:',\n",
       " 'It is normal to feel tired, this will last for 4-6 weeks ??????',\n",
       " 'You should get up out of bed every day and gradually increase your activity each day ??????',\n",
       " 'Unless you were told not to bear any weight on operative foot: you may walk and you may go up and down stairs ??????',\n",
       " 'Increase your activities as you can tolerate- do not do too much right away!',\n",
       " 'It is normal to have swelling of the leg you were operated on: ??????',\n",
       " 'Elevate your leg above the level of your heart (usepillows or a recliner)',\n",
       " 'every 2-3 hours throughout the day and at night ??????',\n",
       " 'Avoid prolonged periods of standing or sitting without your legs elevated',\n",
       " 'It is normal to have a decreased appetite, your appetite will return with time ??????',\n",
       " 'You will probably lose your taste for food and lose some weight ??????',\n",
       " 'Eat small frequent meals ??????',\n",
       " 'It is important to eat nutritious food options (high fiber, lean meats, vegetables/fruits, low fat, low cholesterol) to maintain your strength and assist in wound healing ??????',\n",
       " 'To avoid constipation: eat a high fiber diet and use stool softener while taking pain medication What activities you can and cannot do: ??????',\n",
       " 'No driving until post-op visit and you are no longer taking pain medications ??????',\n",
       " 'Unless you were told not to bear any weight on operative foot: ??????',\n",
       " 'You should get up every day, get dressed and walk ??????',\n",
       " 'You should gradually increase your activity ??????',\n",
       " 'You may up and down stairs, go outside and/or ride in a car ? ? ????',\n",
       " 'Increase your activities as you can tolerate-',\n",
       " 'do not do too much right away! ? ?????',\n",
       " 'No heavy lifting, pushing or pulling (greater than 5 pounds) until your post op visit ??????',\n",
       " 'You may shower (unless you have stitches or foot incisions)',\n",
       " 'no direct spray on incision, let the soapy water run over incision, rinse and pat dry ??????',\n",
       " 'Your incision may be left uncovered, unless you have small amounts of drainage from the wound, then place a dry dressing over the area that is draining, as needed ??????',\n",
       " 'Take all the medications you were taking before surgery, unless otherwise directed ??????',\n",
       " 'Take one full strength (325mg) enteric coated aspirin daily, unless otherwise directed ??????',\n",
       " 'Call and schedule an appointment to be seen in 2 weeks for staple/suture removal What to report to office: ??????',\n",
       " 'Redness that extends away from your incision ??????',\n",
       " 'A sudden increase in pain that is not controlled with pain medication ??????',\n",
       " 'A sudden change in the ability to move or use your leg or the ability to feel your leg ??????',\n",
       " 'Temperature greater than 100.5F for 24 hours ??????',\n",
       " 'Bleeding, new or increased drainage from incision or white, yellow or green drainage from incisions',\n",
       " 'Followup Instructions: Provider:, DPM Phone:',\n",
       " 'Date/Time:11:00 Provider:LAB Phone:',\n",
       " 'Date/Time:3:15 followed by appointment with Dr.at 3:45PM. Located in theMedical Office building on the.',\n",
       " 'Completed by:']"
      ]
     },
     "execution_count": 39,
     "metadata": {},
     "output_type": "execute_result"
    }
   ],
   "source": [
    "text_total[0]"
   ]
  },
  {
   "cell_type": "code",
   "execution_count": 19,
   "metadata": {},
   "outputs": [
    {
     "data": {
      "text/plain": [
       "105702"
      ]
     },
     "execution_count": 19,
     "metadata": {},
     "output_type": "execute_result"
    }
   ],
   "source": [
    "len(y_pred)"
   ]
  },
  {
   "cell_type": "code",
   "execution_count": null,
   "metadata": {},
   "outputs": [],
   "source": []
  }
 ],
 "metadata": {
  "kernelspec": {
   "display_name": "Python 3",
   "language": "python",
   "name": "python3"
  },
  "language_info": {
   "codemirror_mode": {
    "name": "ipython",
    "version": 3
   },
   "file_extension": ".py",
   "mimetype": "text/x-python",
   "name": "python",
   "nbconvert_exporter": "python",
   "pygments_lexer": "ipython3",
   "version": "3.5.2"
  }
 },
 "nbformat": 4,
 "nbformat_minor": 2
}
